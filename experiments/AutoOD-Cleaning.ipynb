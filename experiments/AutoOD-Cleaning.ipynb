{
 "cells": [
  {
   "cell_type": "code",
   "execution_count": 2,
   "metadata": {},
   "outputs": [],
   "source": [
    "import numpy as np\n",
    "from scipy.io import arff\n",
    "import pandas as pd\n",
    "from sklearn import metrics\n",
    "import scipy as sp\n",
    "import logging\n",
    "from warnings import simplefilter\n",
    "from autood_utils import load_dataset, autood_preprocessing, majority_vote, snorkel, autood\n",
    "from autood_cleaning import run_NN, inference_NN\n",
    "simplefilter(action='ignore', category=FutureWarning)"
   ]
  },
  {
   "cell_type": "markdown",
   "metadata": {},
   "source": [
    "### Load Annthyroid dataset"
   ]
  },
  {
   "cell_type": "code",
   "execution_count": 2,
   "metadata": {},
   "outputs": [
    {
     "name": "stdout",
     "output_type": "stream",
     "text": [
      "(7129, 21) (7129,)\n",
      "0.07490531631364848\n"
     ]
    }
   ],
   "source": [
    "filename = './Annthyroid_withoutdupl_norm_07.arff'\n",
    "X, y = load_dataset(filename=filename)\n",
    "print(np.shape(X), np.shape(y))\n",
    "print(sum(y)/len(y))\n",
    "N = 534\n",
    "num_outliers = [N, N, N, N]\n",
    "class_balance = [1- N/7129.0, N/7129.0]\n",
    "lof_krange = list(range(10,110,10)) * 6\n",
    "knn_krange = list(range(10,110,10)) * 6\n",
    "if_range = [0.5, 0.6, 0.7, 0.8, 0.9] * 6\n",
    "# mahalanobis_N_range=[N]\n",
    "mahalanobis_N_range=[300, 400,500,600,700,800]\n",
    "if_N_range = np.sort(mahalanobis_N_range * 5)\n",
    "N_range = np.sort(mahalanobis_N_range *10)"
   ]
  },
  {
   "cell_type": "code",
   "execution_count": 3,
   "metadata": {},
   "outputs": [
    {
     "name": "stdout",
     "output_type": "stream",
     "text": [
      "autood_utils.autood_preprocessing : 4.708237963000001\n"
     ]
    }
   ],
   "source": [
    "L, scores = autood_preprocessing(X,y,lof_krange,knn_krange,if_range, mahalanobis_N_range,if_N_range,N_range)"
   ]
  },
  {
   "cell_type": "code",
   "execution_count": 4,
   "metadata": {},
   "outputs": [
    {
     "name": "stdout",
     "output_type": "stream",
     "text": [
      "##################################################################\n",
      "Iteration = 0\n",
      "F-1 score from SVM: 0.04898828541001065\n",
      "precision from SVM: 0.056790123456790124\n",
      "recall from SVM: 0.04307116104868914\n",
      "F-1 score from SVM: 0.06928838951310862\n",
      "precision from SVM: 0.06928838951310862\n",
      "recall from SVM: 0.06928838951310862\n"
     ]
    },
    {
     "name": "stderr",
     "output_type": "stream",
     "text": [
      "/Users/yizhouyan/Desktop/AutoOD/AutoOD-Code-sigmode-revision/autood_cleaning.py:31: UserWarning: Implicit dimension choice for log_softmax has been deprecated. Change the call to include dim=X as an argument.\n",
      "  return F.log_softmax(x)\n"
     ]
    },
    {
     "name": "stdout",
     "output_type": "stream",
     "text": [
      "Final Training Result: Loss 0.24506810\tPrec @ 1 92.930%\n",
      "Final Training Result: Loss 0.09871998\tPrec @ 1 96.128%\n",
      "F-1 score from NN: 0.005031446540880503\n",
      "Precision score from NN: 0.007662835249042145\n",
      "Recall score from NN: 0.003745318352059925\n",
      "Number of points to remove:  389\n",
      "Number of new points with confidence > 0.9999: 0\n",
      "Number of points with confidence < 0.0001 0\n",
      "##################################################################\n",
      "Iteration = 1\n",
      "F-1 score from SVM: 0.2819519752130132\n",
      "precision from SVM: 0.2404227212681638\n",
      "recall from SVM: 0.3408239700374532\n",
      "F-1 score from SVM: 0.28651685393258425\n",
      "precision from SVM: 0.28651685393258425\n",
      "recall from SVM: 0.28651685393258425\n"
     ]
    },
    {
     "name": "stderr",
     "output_type": "stream",
     "text": [
      "/Users/yizhouyan/Desktop/AutoOD/AutoOD-Code-sigmode-revision/autood_cleaning.py:31: UserWarning: Implicit dimension choice for log_softmax has been deprecated. Change the call to include dim=X as an argument.\n",
      "  return F.log_softmax(x)\n"
     ]
    },
    {
     "name": "stdout",
     "output_type": "stream",
     "text": [
      "Final Training Result: Loss 0.22858277\tPrec @ 1 92.967%\n",
      "Final Training Result: Loss 0.06344724\tPrec @ 1 97.893%\n",
      "F-1 score from NN: 0.2274436090225564\n",
      "Precision score from NN: 0.22830188679245284\n",
      "Recall score from NN: 0.22659176029962547\n",
      "Number of points to remove:  730\n",
      "Number of new points with confidence > 0.9999: 48\n",
      "F-1 before:  0.0\n",
      "F-1 after:  0.945054945054945\n",
      "Number of points with confidence < 0.0001 0\n",
      "##################################################################\n",
      "Iteration = 2\n",
      "F-1 score from SVM: 0.32571428571428573\n",
      "precision from SVM: 0.234375\n",
      "recall from SVM: 0.5337078651685393\n",
      "F-1 score from SVM: 0.398876404494382\n",
      "precision from SVM: 0.398876404494382\n",
      "recall from SVM: 0.398876404494382\n"
     ]
    },
    {
     "name": "stderr",
     "output_type": "stream",
     "text": [
      "/Users/yizhouyan/Desktop/AutoOD/AutoOD-Code-sigmode-revision/autood_cleaning.py:31: UserWarning: Implicit dimension choice for log_softmax has been deprecated. Change the call to include dim=X as an argument.\n",
      "  return F.log_softmax(x)\n"
     ]
    },
    {
     "name": "stdout",
     "output_type": "stream",
     "text": [
      "Final Training Result: Loss 0.19626607\tPrec @ 1 93.529%\n",
      "Final Training Result: Loss 0.04744076\tPrec @ 1 98.135%\n",
      "F-1 score from NN: 0.2865900383141763\n",
      "Precision score from NN: 0.24254215304798962\n",
      "Recall score from NN: 0.350187265917603\n",
      "Number of points to remove:  845\n",
      "Number of new points with confidence > 0.9999: 54\n",
      "F-1 before:  0.0\n",
      "F-1 after:  0.7727272727272727\n",
      "Number of points with confidence < 0.0001 0\n",
      "##################################################################\n",
      "Iteration = 3\n",
      "F-1 score from SVM: 0.3314533622559653\n",
      "precision from SVM: 0.21569734613212874\n",
      "recall from SVM: 0.7153558052434457\n",
      "F-1 score from SVM: 0.10010214504596526\n",
      "precision from SVM: 0.1101123595505618\n",
      "recall from SVM: 0.09176029962546817\n"
     ]
    },
    {
     "name": "stderr",
     "output_type": "stream",
     "text": [
      "/Users/yizhouyan/Desktop/AutoOD/AutoOD-Code-sigmode-revision/autood_cleaning.py:31: UserWarning: Implicit dimension choice for log_softmax has been deprecated. Change the call to include dim=X as an argument.\n",
      "  return F.log_softmax(x)\n"
     ]
    },
    {
     "name": "stdout",
     "output_type": "stream",
     "text": [
      "Final Training Result: Loss 0.11792328\tPrec @ 1 96.355%\n",
      "Final Training Result: Loss 0.02981665\tPrec @ 1 99.032%\n",
      "F-1 score from NN: 0.3506927854753942\n",
      "Precision score from NN: 0.2354073123797306\n",
      "Recall score from NN: 0.6872659176029963\n",
      "Number of points to remove:  740\n",
      "Number of new points with confidence > 0.9999: 208\n",
      "F-1 before:  0.0\n",
      "F-1 after:  0.7120743034055728\n",
      "Number of points with confidence < 0.0001 1\n",
      "##################################################################\n",
      "Iteration = 4\n",
      "F-1 score from SVM: 0.32055214723926384\n",
      "precision from SVM: 0.20154291224686596\n",
      "recall from SVM: 0.7827715355805244\n",
      "F-1 score from SVM: 0.056179775280898875\n",
      "precision from SVM: 0.056179775280898875\n",
      "recall from SVM: 0.056179775280898875\n"
     ]
    },
    {
     "name": "stderr",
     "output_type": "stream",
     "text": [
      "/Users/yizhouyan/Desktop/AutoOD/AutoOD-Code-sigmode-revision/autood_cleaning.py:31: UserWarning: Implicit dimension choice for log_softmax has been deprecated. Change the call to include dim=X as an argument.\n",
      "  return F.log_softmax(x)\n"
     ]
    },
    {
     "name": "stdout",
     "output_type": "stream",
     "text": [
      "Final Training Result: Loss 0.03577324\tPrec @ 1 98.986%\n",
      "Final Training Result: Loss 0.00459859\tPrec @ 1 99.958%\n",
      "F-1 score from NN: 0.33153846153846156\n",
      "Precision score from NN: 0.20861568247821877\n",
      "Recall score from NN: 0.8071161048689138\n",
      "Number of points to remove:  514\n",
      "Number of new points with confidence > 0.9999: 214\n",
      "F-1 before:  0.0\n",
      "F-1 after:  0.32156862745098036\n",
      "Number of points with confidence < 0.0001 36\n",
      "##################################################################\n",
      "Iteration = 5\n",
      "F-1 score from SVM: 0.32265910012160515\n",
      "precision from SVM: 0.2058975685463011\n",
      "recall from SVM: 0.7453183520599251\n",
      "F-1 score from SVM: 0.0599250936329588\n",
      "precision from SVM: 0.0599250936329588\n",
      "recall from SVM: 0.0599250936329588\n"
     ]
    },
    {
     "name": "stderr",
     "output_type": "stream",
     "text": [
      "/Users/yizhouyan/Desktop/AutoOD/AutoOD-Code-sigmode-revision/autood_cleaning.py:31: UserWarning: Implicit dimension choice for log_softmax has been deprecated. Change the call to include dim=X as an argument.\n",
      "  return F.log_softmax(x)\n"
     ]
    },
    {
     "name": "stdout",
     "output_type": "stream",
     "text": [
      "Final Training Result: Loss 0.01778345\tPrec @ 1 99.754%\n",
      "Final Training Result: Loss 0.00246704\tPrec @ 1 100.000%\n",
      "F-1 score from NN: 0.3380398671096346\n",
      "Precision score from NN: 0.21718249733191036\n",
      "Recall score from NN: 0.7621722846441947\n",
      "Number of points to remove:  519\n",
      "Number of new points with confidence > 0.9999: 15\n",
      "F-1 before:  0.0\n",
      "F-1 after:  0.23529411764705882\n",
      "Number of points with confidence < 0.0001 1\n",
      "##################################################################\n",
      "Iteration = 6\n",
      "F-1 score from SVM: 0.3576158940397351\n",
      "precision from SVM: 0.2339688041594454\n",
      "recall from SVM: 0.7584269662921348\n",
      "F-1 score from SVM: 0.12172284644194757\n",
      "precision from SVM: 0.12172284644194757\n",
      "recall from SVM: 0.12172284644194757\n"
     ]
    },
    {
     "name": "stderr",
     "output_type": "stream",
     "text": [
      "/Users/yizhouyan/Desktop/AutoOD/AutoOD-Code-sigmode-revision/autood_cleaning.py:31: UserWarning: Implicit dimension choice for log_softmax has been deprecated. Change the call to include dim=X as an argument.\n",
      "  return F.log_softmax(x)\n"
     ]
    },
    {
     "name": "stdout",
     "output_type": "stream",
     "text": [
      "Final Training Result: Loss 0.00848589\tPrec @ 1 100.000%\n",
      "Final Training Result: Loss 0.00141904\tPrec @ 1 100.000%\n",
      "F-1 score from NN: 0.35755258126195033\n",
      "Precision score from NN: 0.24005134788189988\n",
      "Recall score from NN: 0.700374531835206\n",
      "Number of points to remove:  413\n",
      "Number of new points with confidence > 0.9999: 0\n",
      "Number of points with confidence < 0.0001 0\n",
      "##################################################################\n",
      "Iteration = 7\n",
      "F-1 score from SVM: 0.40102301790281325\n",
      "precision from SVM: 0.27586206896551724\n",
      "recall from SVM: 0.7340823970037453\n",
      "F-1 score from SVM: 0.33146067415730335\n",
      "precision from SVM: 0.33146067415730335\n",
      "recall from SVM: 0.33146067415730335\n"
     ]
    },
    {
     "name": "stderr",
     "output_type": "stream",
     "text": [
      "/Users/yizhouyan/Desktop/AutoOD/AutoOD-Code-sigmode-revision/autood_cleaning.py:31: UserWarning: Implicit dimension choice for log_softmax has been deprecated. Change the call to include dim=X as an argument.\n",
      "  return F.log_softmax(x)\n"
     ]
    },
    {
     "name": "stdout",
     "output_type": "stream",
     "text": [
      "Final Training Result: Loss 0.01075871\tPrec @ 1 100.000%\n",
      "Final Training Result: Loss 0.00145066\tPrec @ 1 100.000%\n",
      "F-1 score from NN: 0.3879862136878386\n",
      "Precision score from NN: 0.2631930527722111\n",
      "Recall score from NN: 0.7378277153558053\n",
      "Number of points to remove:  383\n",
      "Number of new points with confidence > 0.9999: 0\n",
      "Number of points with confidence < 0.0001 0\n",
      "##################################################################\n",
      "Iteration = 8\n",
      "F-1 score from SVM: 0.4241142252776309\n",
      "precision from SVM: 0.2955047899778924\n",
      "recall from SVM: 0.7509363295880149\n",
      "F-1 score from SVM: 0.40823970037453183\n",
      "precision from SVM: 0.40823970037453183\n",
      "recall from SVM: 0.40823970037453183\n"
     ]
    },
    {
     "name": "stderr",
     "output_type": "stream",
     "text": [
      "/Users/yizhouyan/Desktop/AutoOD/AutoOD-Code-sigmode-revision/autood_cleaning.py:31: UserWarning: Implicit dimension choice for log_softmax has been deprecated. Change the call to include dim=X as an argument.\n",
      "  return F.log_softmax(x)\n"
     ]
    },
    {
     "name": "stdout",
     "output_type": "stream",
     "text": [
      "Final Training Result: Loss 0.01039362\tPrec @ 1 100.000%\n",
      "Final Training Result: Loss 0.00136886\tPrec @ 1 100.000%\n",
      "F-1 score from NN: 0.4070138150903295\n",
      "Precision score from NN: 0.2841246290801187\n",
      "Recall score from NN: 0.7172284644194756\n",
      "Number of points to remove:  394\n",
      "Number of new points with confidence > 0.9999: 0\n",
      "Number of points with confidence < 0.0001 0\n",
      "##################################################################\n",
      "Iteration = 9\n",
      "F-1 score from SVM: 0.4574347332576617\n",
      "precision from SVM: 0.3281758957654723\n",
      "recall from SVM: 0.7546816479400749\n",
      "F-1 score from SVM: 0.4868913857677903\n",
      "precision from SVM: 0.4868913857677903\n",
      "recall from SVM: 0.4868913857677903\n"
     ]
    },
    {
     "name": "stderr",
     "output_type": "stream",
     "text": [
      "/Users/yizhouyan/Desktop/AutoOD/AutoOD-Code-sigmode-revision/autood_cleaning.py:31: UserWarning: Implicit dimension choice for log_softmax has been deprecated. Change the call to include dim=X as an argument.\n",
      "  return F.log_softmax(x)\n"
     ]
    },
    {
     "name": "stdout",
     "output_type": "stream",
     "text": [
      "Final Training Result: Loss 0.02566386\tPrec @ 1 100.000%\n",
      "Final Training Result: Loss 0.00153481\tPrec @ 1 100.000%\n",
      "F-1 score from NN: 0.4536585365853658\n",
      "Precision score from NN: 0.33634719710669075\n",
      "Recall score from NN: 0.6966292134831461\n",
      "Number of points to remove:  385\n",
      "Number of new points with confidence > 0.9999: 0\n",
      "Number of points with confidence < 0.0001 0\n",
      "##################################################################\n",
      "Iteration = 10\n",
      "F-1 score from SVM: 0.46004566210045666\n",
      "precision from SVM: 0.3308702791461412\n",
      "recall from SVM: 0.7546816479400749\n",
      "F-1 score from SVM: 0.5037453183520599\n",
      "precision from SVM: 0.5037453183520599\n",
      "recall from SVM: 0.5037453183520599\n"
     ]
    },
    {
     "name": "stderr",
     "output_type": "stream",
     "text": [
      "/Users/yizhouyan/Desktop/AutoOD/AutoOD-Code-sigmode-revision/autood_cleaning.py:31: UserWarning: Implicit dimension choice for log_softmax has been deprecated. Change the call to include dim=X as an argument.\n",
      "  return F.log_softmax(x)\n"
     ]
    },
    {
     "name": "stdout",
     "output_type": "stream",
     "text": [
      "Final Training Result: Loss 0.02526760\tPrec @ 1 100.000%\n",
      "Final Training Result: Loss 0.00292409\tPrec @ 1 100.000%\n",
      "F-1 score from NN: 0.49476439790575916\n",
      "Precision score from NN: 0.38028169014084506\n",
      "Recall score from NN: 0.7078651685393258\n",
      "Number of points to remove:  316\n",
      "Number of new points with confidence > 0.9999: 0\n",
      "Number of points with confidence < 0.0001 0\n",
      "##################################################################\n",
      "Iteration = 11\n",
      "F-1 score from SVM: 0.4854368932038835\n",
      "precision from SVM: 0.3590664272890485\n",
      "recall from SVM: 0.7490636704119851\n",
      "F-1 score from SVM: 0.5280898876404494\n",
      "precision from SVM: 0.5280898876404494\n",
      "recall from SVM: 0.5280898876404494\n"
     ]
    },
    {
     "name": "stderr",
     "output_type": "stream",
     "text": [
      "/Users/yizhouyan/Desktop/AutoOD/AutoOD-Code-sigmode-revision/autood_cleaning.py:31: UserWarning: Implicit dimension choice for log_softmax has been deprecated. Change the call to include dim=X as an argument.\n",
      "  return F.log_softmax(x)\n"
     ]
    },
    {
     "name": "stdout",
     "output_type": "stream",
     "text": [
      "Final Training Result: Loss 0.03335860\tPrec @ 1 100.000%\n",
      "Final Training Result: Loss 0.00229441\tPrec @ 1 100.000%\n",
      "F-1 score from NN: 0.5554770318021202\n",
      "Precision score from NN: 0.4460839954597049\n",
      "Recall score from NN: 0.7359550561797753\n",
      "Number of points to remove:  262\n",
      "Number of new points with confidence > 0.9999: 0\n",
      "Number of points with confidence < 0.0001 0\n",
      "##################################################################\n",
      "Iteration = 12\n",
      "F-1 score from SVM: 0.47624847746650434\n",
      "precision from SVM: 0.3528880866425993\n",
      "recall from SVM: 0.7322097378277154\n",
      "F-1 score from SVM: 0.5299625468164794\n",
      "precision from SVM: 0.5299625468164794\n",
      "recall from SVM: 0.5299625468164794\n"
     ]
    },
    {
     "name": "stderr",
     "output_type": "stream",
     "text": [
      "/Users/yizhouyan/Desktop/AutoOD/AutoOD-Code-sigmode-revision/autood_cleaning.py:31: UserWarning: Implicit dimension choice for log_softmax has been deprecated. Change the call to include dim=X as an argument.\n",
      "  return F.log_softmax(x)\n"
     ]
    },
    {
     "name": "stdout",
     "output_type": "stream",
     "text": [
      "Final Training Result: Loss 0.02759692\tPrec @ 1 100.000%\n",
      "Final Training Result: Loss 0.00404310\tPrec @ 1 100.000%\n",
      "F-1 score from NN: 0.6129032258064515\n",
      "Precision score from NN: 0.5605590062111802\n",
      "Recall score from NN: 0.6760299625468165\n",
      "Number of points to remove:  280\n",
      "Number of new points with confidence > 0.9999: 0\n",
      "Number of points with confidence < 0.0001 0\n",
      "##################################################################\n",
      "Iteration = 13\n",
      "F-1 score from SVM: 0.4771886559802714\n",
      "precision from SVM: 0.3556985294117647\n",
      "recall from SVM: 0.7247191011235955\n",
      "F-1 score from SVM: 0.5337078651685393\n",
      "precision from SVM: 0.5337078651685393\n",
      "recall from SVM: 0.5337078651685393\n"
     ]
    },
    {
     "name": "stderr",
     "output_type": "stream",
     "text": [
      "/Users/yizhouyan/Desktop/AutoOD/AutoOD-Code-sigmode-revision/autood_cleaning.py:31: UserWarning: Implicit dimension choice for log_softmax has been deprecated. Change the call to include dim=X as an argument.\n",
      "  return F.log_softmax(x)\n"
     ]
    },
    {
     "name": "stdout",
     "output_type": "stream",
     "text": [
      "Final Training Result: Loss 0.08020186\tPrec @ 1 99.544%\n",
      "Final Training Result: Loss 0.00272501\tPrec @ 1 100.000%\n",
      "F-1 score from NN: 0.6636029411764706\n",
      "Precision score from NN: 0.6516245487364621\n",
      "Recall score from NN: 0.6760299625468165\n",
      "Number of points to remove:  103\n",
      "Number of new points with confidence > 0.9999: 0\n",
      "Number of points with confidence < 0.0001 0\n",
      "##################################################################\n",
      "Iteration = 14\n",
      "F-1 score from SVM: 0.49848024316109424\n",
      "precision from SVM: 0.369036903690369\n",
      "recall from SVM: 0.7677902621722846\n",
      "F-1 score from SVM: 0.5561797752808989\n",
      "precision from SVM: 0.5561797752808989\n",
      "recall from SVM: 0.5561797752808989\n"
     ]
    },
    {
     "name": "stderr",
     "output_type": "stream",
     "text": [
      "/Users/yizhouyan/Desktop/AutoOD/AutoOD-Code-sigmode-revision/autood_cleaning.py:31: UserWarning: Implicit dimension choice for log_softmax has been deprecated. Change the call to include dim=X as an argument.\n",
      "  return F.log_softmax(x)\n"
     ]
    },
    {
     "name": "stdout",
     "output_type": "stream",
     "text": [
      "Final Training Result: Loss 0.06622621\tPrec @ 1 100.000%\n",
      "Final Training Result: Loss 0.00184914\tPrec @ 1 100.000%\n",
      "F-1 score from NN: 0.7183226982680037\n",
      "Precision score from NN: 0.6998223801065719\n",
      "Recall score from NN: 0.7378277153558053\n",
      "Number of points to remove:  196\n",
      "Number of new points with confidence > 0.9999: 0\n",
      "Number of points with confidence < 0.0001 0\n"
     ]
    }
   ],
   "source": [
    "from autood_cleaning import autood_cleaning\n",
    "autood_cleaning(X, y, L, ratio_to_remove=0.05, max_iteration=15, separate_inline_outlier=True, show_metrics=True)"
   ]
  },
  {
   "cell_type": "markdown",
   "metadata": {},
   "source": [
    "### Load SpamBase dataset"
   ]
  },
  {
   "cell_type": "code",
   "execution_count": 2,
   "metadata": {},
   "outputs": [
    {
     "name": "stdout",
     "output_type": "stream",
     "text": [
      "(4207, 57) (4207,)\n",
      "0.39909674352270025\n"
     ]
    }
   ],
   "source": [
    "filename = './SpamBase_withoutdupl_norm_40.arff'\n",
    "X, y = load_dataset(filename=filename)\n",
    "print(np.shape(X), np.shape(y))\n",
    "K = 9\n",
    "N = 1679\n",
    "class_balance = [1- N/4207.0, N/4207.0]\n",
    "lof_krange = list(range(10,110,10)) * 6\n",
    "knn_krange = list(range(10,110,10)) * 6\n",
    "if_range = [0.5, 0.6, 0.7, 0.8, 0.9] * 6\n",
    "# mahalanobis_N_range=[N]\n",
    "mahalanobis_N_range = [1400, 1500, 1600, 1700, 1800, 1900]\n",
    "if_N_range = np.sort(mahalanobis_N_range * 5)\n",
    "N_range = np.sort(mahalanobis_N_range * 10) \n",
    "print(N/len(y))"
   ]
  },
  {
   "cell_type": "code",
   "execution_count": 3,
   "metadata": {},
   "outputs": [
    {
     "name": "stdout",
     "output_type": "stream",
     "text": [
      "autood_utils.autood_preprocessing : 9.390321956000001\n"
     ]
    }
   ],
   "source": [
    "L, scores = autood_preprocessing(X,y,lof_krange,knn_krange,if_range, mahalanobis_N_range,if_N_range,N_range)"
   ]
  },
  {
   "cell_type": "code",
   "execution_count": 23,
   "metadata": {},
   "outputs": [
    {
     "name": "stdout",
     "output_type": "stream",
     "text": [
      "##################################################################\n",
      "Iteration = 0\n",
      "F-1 score from SVM: 0.3824673029338989\n",
      "precision from SVM: 0.47043478260869565\n",
      "recall from SVM: 0.3222156045265039\n",
      "F-1 score from SVM: 0.4401429422275164\n",
      "precision from SVM: 0.4401429422275164\n",
      "recall from SVM: 0.4401429422275164\n"
     ]
    },
    {
     "name": "stderr",
     "output_type": "stream",
     "text": [
      "/Users/yizhouyan/Desktop/AutoOD/AutoOD-Code-sigmode-revision/autood_cleaning.py:31: UserWarning: Implicit dimension choice for log_softmax has been deprecated. Change the call to include dim=X as an argument.\n",
      "  return F.log_softmax(x)\n"
     ]
    },
    {
     "name": "stdout",
     "output_type": "stream",
     "text": [
      "Final Training Result: Loss 0.56484592\tPrec @ 1 72.332%\n",
      "Final Training Result: Loss 0.50863874\tPrec @ 1 75.683%\n",
      "F-1 score from NN: 0.306216423637759\n",
      "Precision score from NN: 0.43042071197411\n",
      "Recall score from NN: 0.23764145324597974\n",
      "Number of points to remove:  568\n",
      "Number of new points with confidence > 0.99: 2\n",
      "F-1 before:  0.0\n",
      "F-1 after:  0.6666666666666666\n",
      "Number of points with confidence < 0.01 0\n",
      "##################################################################\n",
      "Iteration = 1\n",
      "F-1 score from SVM: 0.41029067824924825\n",
      "precision from SVM: 0.4672754946727549\n",
      "recall from SVM: 0.3656938653960691\n",
      "F-1 score from SVM: 0.46932698034544373\n",
      "precision from SVM: 0.46932698034544373\n",
      "recall from SVM: 0.46932698034544373\n"
     ]
    },
    {
     "name": "stderr",
     "output_type": "stream",
     "text": [
      "/Users/yizhouyan/Desktop/AutoOD/AutoOD-Code-sigmode-revision/autood_cleaning.py:31: UserWarning: Implicit dimension choice for log_softmax has been deprecated. Change the call to include dim=X as an argument.\n",
      "  return F.log_softmax(x)\n"
     ]
    },
    {
     "name": "stdout",
     "output_type": "stream",
     "text": [
      "Final Training Result: Loss 0.39930630\tPrec @ 1 81.818%\n",
      "Final Training Result: Loss 0.30029717\tPrec @ 1 86.158%\n",
      "F-1 score from NN: 0.3933965577801194\n",
      "Precision score from NN: 0.4794520547945205\n",
      "Recall score from NN: 0.33353186420488384\n",
      "Number of points to remove:  609\n",
      "Number of new points with confidence > 0.99: 27\n",
      "F-1 before:  0.0\n",
      "F-1 after:  0.6829268292682926\n",
      "Number of points with confidence < 0.01 6\n",
      "##################################################################\n",
      "Iteration = 2\n",
      "F-1 score from SVM: 0.44410129709697344\n",
      "precision from SVM: 0.46119307248236047\n",
      "recall from SVM: 0.42823108993448483\n",
      "F-1 score from SVM: 0.46873138773079215\n",
      "precision from SVM: 0.46873138773079215\n",
      "recall from SVM: 0.46873138773079215\n"
     ]
    },
    {
     "name": "stderr",
     "output_type": "stream",
     "text": [
      "/Users/yizhouyan/Desktop/AutoOD/AutoOD-Code-sigmode-revision/autood_cleaning.py:31: UserWarning: Implicit dimension choice for log_softmax has been deprecated. Change the call to include dim=X as an argument.\n",
      "  return F.log_softmax(x)\n"
     ]
    },
    {
     "name": "stdout",
     "output_type": "stream",
     "text": [
      "Final Training Result: Loss 0.23498897\tPrec @ 1 93.279%\n",
      "Final Training Result: Loss 0.08722468\tPrec @ 1 96.444%\n",
      "F-1 score from NN: 0.42879797018712335\n",
      "Precision score from NN: 0.45861601085481685\n",
      "Recall score from NN: 0.40262060750446693\n",
      "Number of points to remove:  487\n",
      "Number of new points with confidence > 0.99: 185\n",
      "F-1 before:  0.024691358024691357\n",
      "F-1 after:  0.5658914728682171\n",
      "Number of points with confidence < 0.01 343\n",
      "##################################################################\n",
      "Iteration = 3\n",
      "F-1 score from SVM: 0.47560975609756095\n",
      "precision from SVM: 0.4871955028107433\n",
      "recall from SVM: 0.4645622394282311\n",
      "F-1 score from SVM: 0.49076831447290054\n",
      "precision from SVM: 0.49076831447290054\n",
      "recall from SVM: 0.49076831447290054\n"
     ]
    },
    {
     "name": "stderr",
     "output_type": "stream",
     "text": [
      "/Users/yizhouyan/Desktop/AutoOD/AutoOD-Code-sigmode-revision/autood_cleaning.py:31: UserWarning: Implicit dimension choice for log_softmax has been deprecated. Change the call to include dim=X as an argument.\n",
      "  return F.log_softmax(x)\n"
     ]
    },
    {
     "name": "stdout",
     "output_type": "stream",
     "text": [
      "Final Training Result: Loss 0.08412202\tPrec @ 1 99.549%\n",
      "Final Training Result: Loss 0.01513451\tPrec @ 1 99.968%\n",
      "F-1 score from NN: 0.4519289650949173\n",
      "Precision score from NN: 0.46502835538752363\n",
      "Recall score from NN: 0.4395473496128648\n",
      "Number of points to remove:  325\n",
      "Number of new points with confidence > 0.99: 139\n",
      "F-1 before:  0.07692307692307693\n",
      "F-1 after:  0.6570048309178744\n",
      "Number of points with confidence < 0.01 65\n",
      "##################################################################\n",
      "Iteration = 4\n",
      "F-1 score from SVM: 0.48490178833186753\n",
      "precision from SVM: 0.47748267898383373\n",
      "recall from SVM: 0.4925550923168553\n",
      "F-1 score from SVM: 0.478856462179869\n",
      "precision from SVM: 0.478856462179869\n",
      "recall from SVM: 0.478856462179869\n"
     ]
    },
    {
     "name": "stderr",
     "output_type": "stream",
     "text": [
      "/Users/yizhouyan/Desktop/AutoOD/AutoOD-Code-sigmode-revision/autood_cleaning.py:31: UserWarning: Implicit dimension choice for log_softmax has been deprecated. Change the call to include dim=X as an argument.\n",
      "  return F.log_softmax(x)\n"
     ]
    },
    {
     "name": "stdout",
     "output_type": "stream",
     "text": [
      "Final Training Result: Loss 0.05513782\tPrec @ 1 99.866%\n",
      "Final Training Result: Loss 0.00546170\tPrec @ 1 100.000%\n",
      "F-1 score from NN: 0.48232848232848236\n",
      "Precision score from NN: 0.48104265402843605\n",
      "Recall score from NN: 0.4836212030970816\n",
      "Number of points to remove:  217\n",
      "Number of new points with confidence > 0.99: 62\n",
      "F-1 before:  0.4516129032258065\n",
      "F-1 after:  0.7474747474747475\n",
      "Number of points with confidence < 0.01 61\n",
      "##################################################################\n",
      "Iteration = 5\n",
      "F-1 score from SVM: 0.47624633431085045\n",
      "precision from SVM: 0.4690930098209128\n",
      "recall from SVM: 0.4836212030970816\n",
      "F-1 score from SVM: 0.4669446098868374\n",
      "precision from SVM: 0.4669446098868374\n",
      "recall from SVM: 0.4669446098868374\n"
     ]
    },
    {
     "name": "stderr",
     "output_type": "stream",
     "text": [
      "/Users/yizhouyan/Desktop/AutoOD/AutoOD-Code-sigmode-revision/autood_cleaning.py:31: UserWarning: Implicit dimension choice for log_softmax has been deprecated. Change the call to include dim=X as an argument.\n",
      "  return F.log_softmax(x)\n"
     ]
    },
    {
     "name": "stdout",
     "output_type": "stream",
     "text": [
      "Final Training Result: Loss 0.06240723\tPrec @ 1 100.000%\n",
      "Final Training Result: Loss 0.00502418\tPrec @ 1 100.000%\n",
      "F-1 score from NN: 0.4944281524926686\n",
      "Precision score from NN: 0.48700173310225303\n",
      "Recall score from NN: 0.5020845741512805\n",
      "Number of points to remove:  302\n",
      "Number of new points with confidence > 0.99: 117\n",
      "F-1 before:  0.5797101449275363\n",
      "F-1 after:  0.7000000000000001\n",
      "Number of points with confidence < 0.01 54\n",
      "##################################################################\n",
      "Iteration = 6\n",
      "F-1 score from SVM: 0.47502191060473264\n",
      "precision from SVM: 0.4661697247706422\n",
      "recall from SVM: 0.48421679571173315\n",
      "F-1 score from SVM: 0.4657534246575342\n",
      "precision from SVM: 0.4657534246575342\n",
      "recall from SVM: 0.4657534246575342\n"
     ]
    },
    {
     "name": "stderr",
     "output_type": "stream",
     "text": [
      "/Users/yizhouyan/Desktop/AutoOD/AutoOD-Code-sigmode-revision/autood_cleaning.py:31: UserWarning: Implicit dimension choice for log_softmax has been deprecated. Change the call to include dim=X as an argument.\n",
      "  return F.log_softmax(x)\n"
     ]
    },
    {
     "name": "stdout",
     "output_type": "stream",
     "text": [
      "Final Training Result: Loss 0.04139104\tPrec @ 1 100.000%\n",
      "Final Training Result: Loss 0.00649900\tPrec @ 1 100.000%\n",
      "F-1 score from NN: 0.5004289390906491\n",
      "Precision score from NN: 0.4812981298129813\n",
      "Recall score from NN: 0.521143537820131\n",
      "Number of points to remove:  269\n",
      "Number of new points with confidence > 0.99: 131\n",
      "F-1 before:  0.6124999999999999\n",
      "F-1 after:  0.6965174129353234\n",
      "Number of points with confidence < 0.01 38\n",
      "##################################################################\n",
      "Iteration = 7\n",
      "F-1 score from SVM: 0.47664874044721195\n",
      "precision from SVM: 0.45415318230852214\n",
      "recall from SVM: 0.5014889815366289\n",
      "F-1 score from SVM: 0.44907683144729005\n",
      "precision from SVM: 0.44907683144729005\n",
      "recall from SVM: 0.44907683144729005\n"
     ]
    },
    {
     "name": "stderr",
     "output_type": "stream",
     "text": [
      "/Users/yizhouyan/Desktop/AutoOD/AutoOD-Code-sigmode-revision/autood_cleaning.py:31: UserWarning: Implicit dimension choice for log_softmax has been deprecated. Change the call to include dim=X as an argument.\n",
      "  return F.log_softmax(x)\n"
     ]
    },
    {
     "name": "stdout",
     "output_type": "stream",
     "text": [
      "Final Training Result: Loss 0.03493038\tPrec @ 1 100.000%\n",
      "Final Training Result: Loss 0.00819103\tPrec @ 1 100.000%\n",
      "F-1 score from NN: 0.5046413502109705\n",
      "Precision score from NN: 0.47814498933901917\n",
      "Recall score from NN: 0.5342465753424658\n",
      "Number of points to remove:  244\n",
      "Number of new points with confidence > 0.99: 121\n",
      "F-1 before:  0.641025641025641\n",
      "F-1 after:  0.6918918918918919\n",
      "Number of points with confidence < 0.01 4\n",
      "##################################################################\n",
      "Iteration = 8\n",
      "F-1 score from SVM: 0.4743589743589744\n",
      "precision from SVM: 0.4457831325301205\n",
      "recall from SVM: 0.5068493150684932\n",
      "F-1 score from SVM: 0.4389517569982132\n",
      "precision from SVM: 0.4389517569982132\n",
      "recall from SVM: 0.4389517569982132\n"
     ]
    },
    {
     "name": "stderr",
     "output_type": "stream",
     "text": [
      "/Users/yizhouyan/Desktop/AutoOD/AutoOD-Code-sigmode-revision/autood_cleaning.py:31: UserWarning: Implicit dimension choice for log_softmax has been deprecated. Change the call to include dim=X as an argument.\n",
      "  return F.log_softmax(x)\n"
     ]
    },
    {
     "name": "stdout",
     "output_type": "stream",
     "text": [
      "Final Training Result: Loss 0.04920846\tPrec @ 1 100.000%\n",
      "Final Training Result: Loss 0.00420263\tPrec @ 1 100.000%\n",
      "F-1 score from NN: 0.5102949360044519\n",
      "Precision score from NN: 0.47885117493472584\n",
      "Recall score from NN: 0.5461584276354973\n",
      "Number of points to remove:  216\n",
      "Number of new points with confidence > 0.99: 180\n",
      "F-1 before:  0.6919831223628692\n",
      "F-1 after:  0.7919463087248323\n",
      "Number of points with confidence < 0.01 60\n",
      "##################################################################\n",
      "Iteration = 9\n",
      "F-1 score from SVM: 0.49164420485175203\n",
      "precision from SVM: 0.44903988183161003\n",
      "recall from SVM: 0.5431804645622395\n",
      "F-1 score from SVM: 0.4389517569982132\n",
      "precision from SVM: 0.4389517569982132\n",
      "recall from SVM: 0.4389517569982132\n"
     ]
    },
    {
     "name": "stderr",
     "output_type": "stream",
     "text": [
      "/Users/yizhouyan/Desktop/AutoOD/AutoOD-Code-sigmode-revision/autood_cleaning.py:31: UserWarning: Implicit dimension choice for log_softmax has been deprecated. Change the call to include dim=X as an argument.\n",
      "  return F.log_softmax(x)\n"
     ]
    },
    {
     "name": "stdout",
     "output_type": "stream",
     "text": [
      "Final Training Result: Loss 0.05692518\tPrec @ 1 100.000%\n",
      "Final Training Result: Loss 0.00542230\tPrec @ 1 100.000%\n",
      "F-1 score from NN: 0.5214305214305214\n",
      "Precision score from NN: 0.4813508064516129\n",
      "Recall score from NN: 0.5687909469922573\n",
      "Number of points to remove:  206\n",
      "Number of new points with confidence > 0.99: 197\n",
      "F-1 before:  0.7315175097276263\n",
      "F-1 after:  0.6996699669966996\n",
      "Number of points with confidence < 0.01 21\n",
      "##################################################################\n",
      "Iteration = 10\n",
      "F-1 score from SVM: 0.48763440860215057\n",
      "precision from SVM: 0.44439000489955904\n",
      "recall from SVM: 0.5402025014889815\n",
      "F-1 score from SVM: 0.433591423466349\n",
      "precision from SVM: 0.433591423466349\n",
      "recall from SVM: 0.433591423466349\n"
     ]
    },
    {
     "name": "stderr",
     "output_type": "stream",
     "text": [
      "/Users/yizhouyan/Desktop/AutoOD/AutoOD-Code-sigmode-revision/autood_cleaning.py:31: UserWarning: Implicit dimension choice for log_softmax has been deprecated. Change the call to include dim=X as an argument.\n",
      "  return F.log_softmax(x)\n"
     ]
    },
    {
     "name": "stdout",
     "output_type": "stream",
     "text": [
      "Final Training Result: Loss 0.03926677\tPrec @ 1 100.000%\n",
      "Final Training Result: Loss 0.01032810\tPrec @ 1 100.000%\n",
      "F-1 score from NN: 0.5167944988098386\n",
      "Precision score from NN: 0.4647954329210276\n",
      "Recall score from NN: 0.5818939845145921\n",
      "Number of points to remove:  193\n",
      "Number of new points with confidence > 0.99: 220\n",
      "F-1 before:  0.6008583690987124\n",
      "F-1 after:  0.5620915032679739\n",
      "Number of points with confidence < 0.01 1\n",
      "##################################################################\n",
      "Iteration = 11\n",
      "F-1 score from SVM: 0.47161097527845697\n",
      "precision from SVM: 0.43356643356643354\n",
      "recall from SVM: 0.51697438951757\n",
      "F-1 score from SVM: 0.42525312686122685\n",
      "precision from SVM: 0.4252531268612269\n",
      "recall from SVM: 0.4252531268612269\n"
     ]
    },
    {
     "name": "stderr",
     "output_type": "stream",
     "text": [
      "/Users/yizhouyan/Desktop/AutoOD/AutoOD-Code-sigmode-revision/autood_cleaning.py:31: UserWarning: Implicit dimension choice for log_softmax has been deprecated. Change the call to include dim=X as an argument.\n",
      "  return F.log_softmax(x)\n"
     ]
    },
    {
     "name": "stdout",
     "output_type": "stream",
     "text": [
      "Final Training Result: Loss 0.04541171\tPrec @ 1 100.000%\n",
      "Final Training Result: Loss 0.00413985\tPrec @ 1 100.000%\n",
      "F-1 score from NN: 0.5163806552262091\n",
      "Precision score from NN: 0.4582371942778034\n",
      "Recall score from NN: 0.5914234663490173\n",
      "Number of points to remove:  180\n",
      "Number of new points with confidence > 0.99: 231\n",
      "F-1 before:  0.7364620938628158\n",
      "F-1 after:  0.6762177650429799\n",
      "Number of points with confidence < 0.01 63\n",
      "##################################################################\n",
      "Iteration = 12\n",
      "F-1 score from SVM: 0.486845601913367\n",
      "precision from SVM: 0.43953934740882916\n",
      "recall from SVM: 0.5455628350208458\n",
      "F-1 score from SVM: 0.4198927933293627\n",
      "precision from SVM: 0.4198927933293627\n",
      "recall from SVM: 0.4198927933293627\n"
     ]
    },
    {
     "name": "stderr",
     "output_type": "stream",
     "text": [
      "/Users/yizhouyan/Desktop/AutoOD/AutoOD-Code-sigmode-revision/autood_cleaning.py:31: UserWarning: Implicit dimension choice for log_softmax has been deprecated. Change the call to include dim=X as an argument.\n",
      "  return F.log_softmax(x)\n"
     ]
    },
    {
     "name": "stdout",
     "output_type": "stream",
     "text": [
      "Final Training Result: Loss 0.06673830\tPrec @ 1 100.000%\n",
      "Final Training Result: Loss 0.00593138\tPrec @ 1 100.000%\n",
      "F-1 score from NN: 0.5217612624077373\n",
      "Precision score from NN: 0.45555555555555555\n",
      "Recall score from NN: 0.6104824300178677\n",
      "Number of points to remove:  211\n",
      "Number of new points with confidence > 0.99: 180\n",
      "F-1 before:  0.7079646017699114\n",
      "F-1 after:  0.6909090909090909\n",
      "Number of points with confidence < 0.01 17\n",
      "##################################################################\n",
      "Iteration = 13\n",
      "F-1 score from SVM: 0.49556598852373496\n",
      "precision from SVM: 0.4408352668213457\n",
      "recall from SVM: 0.5658129839189994\n",
      "F-1 score from SVM: 0.42465753424657526\n",
      "precision from SVM: 0.4246575342465753\n",
      "recall from SVM: 0.4246575342465753\n"
     ]
    },
    {
     "name": "stderr",
     "output_type": "stream",
     "text": [
      "/Users/yizhouyan/Desktop/AutoOD/AutoOD-Code-sigmode-revision/autood_cleaning.py:31: UserWarning: Implicit dimension choice for log_softmax has been deprecated. Change the call to include dim=X as an argument.\n",
      "  return F.log_softmax(x)\n"
     ]
    },
    {
     "name": "stdout",
     "output_type": "stream",
     "text": [
      "Final Training Result: Loss 0.03955542\tPrec @ 1 100.000%\n",
      "Final Training Result: Loss 0.00313853\tPrec @ 1 100.000%\n",
      "F-1 score from NN: 0.5274504888443219\n",
      "Precision score from NN: 0.45541125541125543\n",
      "Recall score from NN: 0.6265634306134604\n",
      "Number of points to remove:  201\n",
      "Number of new points with confidence > 0.99: 229\n",
      "F-1 before:  0.6618181818181819\n",
      "F-1 after:  0.6686046511627907\n",
      "Number of points with confidence < 0.01 105\n",
      "##################################################################\n",
      "Iteration = 14\n",
      "F-1 score from SVM: 0.49359477124183004\n",
      "precision from SVM: 0.43988816402609504\n",
      "recall from SVM: 0.56223942823109\n",
      "F-1 score from SVM: 0.4288266825491364\n",
      "precision from SVM: 0.4288266825491364\n",
      "recall from SVM: 0.4288266825491364\n"
     ]
    },
    {
     "name": "stderr",
     "output_type": "stream",
     "text": [
      "/Users/yizhouyan/Desktop/AutoOD/AutoOD-Code-sigmode-revision/autood_cleaning.py:31: UserWarning: Implicit dimension choice for log_softmax has been deprecated. Change the call to include dim=X as an argument.\n",
      "  return F.log_softmax(x)\n"
     ]
    },
    {
     "name": "stdout",
     "output_type": "stream",
     "text": [
      "Final Training Result: Loss 0.03340178\tPrec @ 1 100.000%\n",
      "Final Training Result: Loss 0.00312343\tPrec @ 1 100.000%\n",
      "F-1 score from NN: 0.5271549576482312\n",
      "Precision score from NN: 0.45310492505353317\n",
      "Recall score from NN: 0.6301369863013698\n",
      "Number of points to remove:  222\n",
      "Number of new points with confidence > 0.99: 243\n",
      "F-1 before:  0.755287009063444\n",
      "F-1 after:  0.766497461928934\n",
      "Number of points with confidence < 0.01 64\n",
      "##################################################################\n",
      "Iteration = 15\n",
      "F-1 score from SVM: 0.5025380710659899\n",
      "precision from SVM: 0.43785935426802297\n",
      "recall from SVM: 0.5896366885050626\n",
      "F-1 score from SVM: 0.4300178677784395\n",
      "precision from SVM: 0.43001786777843953\n",
      "recall from SVM: 0.43001786777843953\n"
     ]
    },
    {
     "name": "stderr",
     "output_type": "stream",
     "text": [
      "/Users/yizhouyan/Desktop/AutoOD/AutoOD-Code-sigmode-revision/autood_cleaning.py:31: UserWarning: Implicit dimension choice for log_softmax has been deprecated. Change the call to include dim=X as an argument.\n",
      "  return F.log_softmax(x)\n"
     ]
    },
    {
     "name": "stdout",
     "output_type": "stream",
     "text": [
      "Final Training Result: Loss 0.03068356\tPrec @ 1 100.000%\n",
      "Final Training Result: Loss 0.00509277\tPrec @ 1 100.000%\n",
      "F-1 score from NN: 0.5307845084409136\n",
      "Precision score from NN: 0.4550872711792252\n",
      "Recall score from NN: 0.6366885050625373\n",
      "Number of points to remove:  188\n",
      "Number of new points with confidence > 0.99: 152\n",
      "F-1 before:  0.6666666666666666\n",
      "F-1 after:  0.7063829787234043\n",
      "Number of points with confidence < 0.01 7\n",
      "##################################################################\n",
      "Iteration = 16\n",
      "F-1 score from SVM: 0.510188679245283\n",
      "precision from SVM: 0.4416376306620209\n",
      "recall from SVM: 0.6039309112567004\n",
      "F-1 score from SVM: 0.42823108993448483\n",
      "precision from SVM: 0.42823108993448483\n",
      "recall from SVM: 0.42823108993448483\n"
     ]
    },
    {
     "name": "stderr",
     "output_type": "stream",
     "text": [
      "/Users/yizhouyan/Desktop/AutoOD/AutoOD-Code-sigmode-revision/autood_cleaning.py:31: UserWarning: Implicit dimension choice for log_softmax has been deprecated. Change the call to include dim=X as an argument.\n",
      "  return F.log_softmax(x)\n"
     ]
    },
    {
     "name": "stdout",
     "output_type": "stream",
     "text": [
      "Final Training Result: Loss 0.06240425\tPrec @ 1 100.000%\n",
      "Final Training Result: Loss 0.00868846\tPrec @ 1 100.000%\n",
      "F-1 score from NN: 0.5449684005833738\n",
      "Precision score from NN: 0.46036960985626285\n",
      "Recall score from NN: 0.6676593210244193\n",
      "Number of points to remove:  234\n",
      "Number of new points with confidence > 0.99: 172\n",
      "F-1 before:  0.7956989247311828\n",
      "F-1 after:  0.8055555555555556\n",
      "Number of points with confidence < 0.01 3\n",
      "##################################################################\n",
      "Iteration = 17\n",
      "F-1 score from SVM: 0.5195322219457577\n",
      "precision from SVM: 0.4461538461538462\n",
      "recall from SVM: 0.6217986896962477\n",
      "F-1 score from SVM: 0.4318046456223943\n",
      "precision from SVM: 0.4318046456223943\n",
      "recall from SVM: 0.4318046456223943\n"
     ]
    },
    {
     "name": "stderr",
     "output_type": "stream",
     "text": [
      "/Users/yizhouyan/Desktop/AutoOD/AutoOD-Code-sigmode-revision/autood_cleaning.py:31: UserWarning: Implicit dimension choice for log_softmax has been deprecated. Change the call to include dim=X as an argument.\n",
      "  return F.log_softmax(x)\n"
     ]
    },
    {
     "name": "stdout",
     "output_type": "stream",
     "text": [
      "Final Training Result: Loss 0.04333040\tPrec @ 1 100.000%\n",
      "Final Training Result: Loss 0.00378209\tPrec @ 1 100.000%\n",
      "F-1 score from NN: 0.543270409414072\n",
      "Precision score from NN: 0.46166666666666667\n",
      "Recall score from NN: 0.6599166170339488\n",
      "Number of points to remove:  204\n",
      "Number of new points with confidence > 0.99: 190\n",
      "F-1 before:  0.8213166144200628\n",
      "F-1 after:  0.8307692307692308\n",
      "Number of points with confidence < 0.01 21\n",
      "##################################################################\n",
      "Iteration = 18\n",
      "F-1 score from SVM: 0.5186296574143536\n",
      "precision from SVM: 0.44698275862068965\n",
      "recall from SVM: 0.6176295413936868\n",
      "F-1 score from SVM: 0.43597379392495533\n",
      "precision from SVM: 0.43597379392495533\n",
      "recall from SVM: 0.43597379392495533\n"
     ]
    },
    {
     "name": "stderr",
     "output_type": "stream",
     "text": [
      "/Users/yizhouyan/Desktop/AutoOD/AutoOD-Code-sigmode-revision/autood_cleaning.py:31: UserWarning: Implicit dimension choice for log_softmax has been deprecated. Change the call to include dim=X as an argument.\n",
      "  return F.log_softmax(x)\n"
     ]
    },
    {
     "name": "stdout",
     "output_type": "stream",
     "text": [
      "Final Training Result: Loss 0.05780075\tPrec @ 1 100.000%\n",
      "Final Training Result: Loss 0.00385139\tPrec @ 1 100.000%\n",
      "F-1 score from NN: 0.547302201790467\n",
      "Precision score from NN: 0.460880195599022\n",
      "Recall score from NN: 0.6736152471709351\n",
      "Number of points to remove:  209\n",
      "Number of new points with confidence > 0.99: 248\n",
      "F-1 before:  0.6366366366366366\n",
      "F-1 after:  0.6521739130434783\n",
      "Number of points with confidence < 0.01 20\n",
      "##################################################################\n",
      "Iteration = 19\n",
      "F-1 score from SVM: 0.5197628458498024\n",
      "precision from SVM: 0.44406922752216127\n",
      "recall from SVM: 0.6265634306134604\n",
      "F-1 score from SVM: 0.42763549731983325\n",
      "precision from SVM: 0.42763549731983325\n",
      "recall from SVM: 0.42763549731983325\n"
     ]
    },
    {
     "name": "stderr",
     "output_type": "stream",
     "text": [
      "/Users/yizhouyan/Desktop/AutoOD/AutoOD-Code-sigmode-revision/autood_cleaning.py:31: UserWarning: Implicit dimension choice for log_softmax has been deprecated. Change the call to include dim=X as an argument.\n",
      "  return F.log_softmax(x)\n"
     ]
    },
    {
     "name": "stdout",
     "output_type": "stream",
     "text": [
      "Final Training Result: Loss 0.06500567\tPrec @ 1 100.000%\n",
      "Final Training Result: Loss 0.00555217\tPrec @ 1 100.000%\n",
      "F-1 score from NN: 0.544489992765855\n",
      "Precision score from NN: 0.4574554294975689\n",
      "Recall score from NN: 0.672424061941632\n",
      "Number of points to remove:  202\n",
      "Number of new points with confidence > 0.99: 189\n",
      "F-1 before:  0.7820069204152249\n",
      "F-1 after:  0.7647058823529412\n",
      "Number of points with confidence < 0.01 14\n"
     ]
    }
   ],
   "source": [
    "from autood_cleaning import autood_cleaning\n",
    "autood_cleaning(X, y, L, ratio_to_remove=0.05, max_iteration=20, separate_inline_outlier=True, show_metrics=True, inlier=0.01, outlier=0.99, early_stop=False)"
   ]
  },
  {
   "cell_type": "markdown",
   "metadata": {},
   "source": [
    "### Load Musk dataset"
   ]
  },
  {
   "cell_type": "code",
   "execution_count": 68,
   "metadata": {},
   "outputs": [
    {
     "name": "stdout",
     "output_type": "stream",
     "text": [
      "3062\n",
      "97.0\n",
      "0.03167864141084259\n",
      "(3062, 166)\n"
     ]
    }
   ],
   "source": [
    "import hdf5storage\n",
    "mat = hdf5storage.loadmat('musk.mat')\n",
    "X = mat['X']\n",
    "y = mat['y']\n",
    "print(len(y))\n",
    "print(np.sum(y))\n",
    "print(np.sum(y)/len(y))\n",
    "lof_krange = list(range(10,110,10)) * 6\n",
    "knn_krange = list(range(10,110,10)) * 6\n",
    "if_range = [0.5, 0.6, 0.7, 0.8, 0.9] * 6\n",
    "mahalanobis_N_range=[100, 120, 140, 160, 180, 200]\n",
    "# mahalanobis_N_range = [20, 40, 60,80, 100,120]\n",
    "if_N_range = np.sort(mahalanobis_N_range * 5)\n",
    "N_range = np.sort(mahalanobis_N_range *10)\n",
    "print(np.shape(X))"
   ]
  },
  {
   "cell_type": "code",
   "execution_count": 69,
   "metadata": {},
   "outputs": [
    {
     "name": "stdout",
     "output_type": "stream",
     "text": [
      "autood_utils.autood_preprocessing : 9.630627724000078\n"
     ]
    }
   ],
   "source": [
    "L, scores = autood_preprocessing(X,y,lof_krange,knn_krange,if_range, mahalanobis_N_range,if_N_range,N_range)"
   ]
  },
  {
   "cell_type": "code",
   "execution_count": 81,
   "metadata": {},
   "outputs": [
    {
     "name": "stdout",
     "output_type": "stream",
     "text": [
      "##################################################################\n",
      "Iteration = 0\n",
      "F-1 score from SVM: 0.3140495867768595\n",
      "precision from SVM: 0.7916666666666666\n",
      "recall from SVM: 0.1958762886597938\n",
      "F-1 score from SVM: 0.29896907216494845\n",
      "precision from SVM: 0.29896907216494845\n",
      "recall from SVM: 0.29896907216494845\n"
     ]
    },
    {
     "name": "stderr",
     "output_type": "stream",
     "text": [
      "/Users/yizhouyan/Desktop/AutoOD/AutoOD-Code-sigmode-revision/autood_cleaning.py:31: UserWarning: Implicit dimension choice for log_softmax has been deprecated. Change the call to include dim=X as an argument.\n",
      "  return F.log_softmax(x)\n"
     ]
    },
    {
     "name": "stdout",
     "output_type": "stream",
     "text": [
      "Final Training Result: Loss 0.08007107\tPrec @ 1 98.106%\n",
      "Final Training Result: Loss 0.04984082\tPrec @ 1 98.269%\n",
      "F-1 score from NN: 0.2982456140350877\n",
      "Precision score from NN: 1.0\n",
      "Recall score from NN: 0.17525773195876287\n",
      "Number of points to remove:  401\n",
      "Number of new points with confidence > 0.9999: 0\n",
      "Number of points with confidence < 0.0001 0\n",
      "##################################################################\n",
      "Iteration = 1\n",
      "F-1 score from SVM: 0.8807339449541285\n",
      "precision from SVM: 0.7933884297520661\n",
      "recall from SVM: 0.9896907216494846\n",
      "F-1 score from SVM: 0.9896907216494846\n",
      "precision from SVM: 0.9896907216494846\n",
      "recall from SVM: 0.9896907216494846\n"
     ]
    },
    {
     "name": "stderr",
     "output_type": "stream",
     "text": [
      "/Users/yizhouyan/Desktop/AutoOD/AutoOD-Code-sigmode-revision/autood_cleaning.py:31: UserWarning: Implicit dimension choice for log_softmax has been deprecated. Change the call to include dim=X as an argument.\n",
      "  return F.log_softmax(x)\n"
     ]
    },
    {
     "name": "stdout",
     "output_type": "stream",
     "text": [
      "Final Training Result: Loss 0.05904073\tPrec @ 1 98.459%\n",
      "Final Training Result: Loss 0.03005872\tPrec @ 1 99.061%\n",
      "F-1 score from NN: 1.0\n",
      "Precision score from NN: 1.0\n",
      "Recall score from NN: 1.0\n",
      "Number of points to remove:  323\n",
      "Number of new points with confidence > 0.9999: 0\n",
      "Number of points with confidence < 0.0001 1\n"
     ]
    }
   ],
   "source": [
    "from autood_cleaning import autood_cleaning\n",
    "autood_cleaning(X, y, L, ratio_to_remove=0.05, max_iteration=2, separate_inline_outlier=True, show_metrics=True, inlier=0.0001, outlier=0.9999, early_stop=True)"
   ]
  },
  {
   "cell_type": "markdown",
   "metadata": {},
   "source": [
    "### Load pageblock dataset"
   ]
  },
  {
   "cell_type": "code",
   "execution_count": 2,
   "metadata": {},
   "outputs": [
    {
     "name": "stdout",
     "output_type": "stream",
     "text": [
      "(5473, 10) (5473,)\n"
     ]
    }
   ],
   "source": [
    "filename = './PageBlocks_norm_10.arff'\n",
    "X, y = load_dataset(filename=filename)\n",
    "print(np.shape(X), np.shape(y))\n",
    "K = 80\n",
    "N = 560\n",
    "# num_outliers = [N, N, N, N]\n",
    "class_balance = [0.9, 0.1]\n",
    "lof_krange = list(range(10,110,10)) * 6\n",
    "knn_krange = list(range(10,110,10)) * 6\n",
    "# lof_krange = range(70,90,4) \n",
    "# knn_krange = [60, 70, 80, 90, 100] \n",
    "if_range = [0.5, 0.6, 0.7, 0.8, 0.9] * 6\n",
    "# mahalanobis_N_range=[560]\n",
    "mahalanobis_N_range = [300, 400, 500, 600, 700, 800]\n",
    "# mahalanobis_N_range = [550, 560, 570, 580, 590, 600]\n",
    "N_size = 6\n",
    "if_N_range = np.sort(mahalanobis_N_range * 5)\n",
    "N_range = np.sort(mahalanobis_N_range * 10)"
   ]
  },
  {
   "cell_type": "code",
   "execution_count": 3,
   "metadata": {},
   "outputs": [
    {
     "name": "stdout",
     "output_type": "stream",
     "text": [
      "autood_utils.autood_preprocessing : 1.9156022989999997\n"
     ]
    }
   ],
   "source": [
    "L, scores = autood_preprocessing(X,y,lof_krange,knn_krange,if_range, mahalanobis_N_range,if_N_range,N_range)"
   ]
  },
  {
   "cell_type": "code",
   "execution_count": null,
   "metadata": {},
   "outputs": [],
   "source": [
    "from autood_cleaning import autood_cleaning\n",
    "autood_cleaning(X, y, L, ratio_to_remove=0.05, max_iteration=20, separate_inline_outlier=False, show_metrics=True, inlier=0.001, outlier=0.99, early_stop=False)"
   ]
  },
  {
   "cell_type": "markdown",
   "metadata": {},
   "source": [
    "### Load Pima dataset"
   ]
  },
  {
   "cell_type": "code",
   "execution_count": 34,
   "metadata": {},
   "outputs": [
    {
     "name": "stdout",
     "output_type": "stream",
     "text": [
      "(768, 8) (768,)\n",
      "0.3489583333333333\n"
     ]
    }
   ],
   "source": [
    "filename = './Pima_withoutdupl_norm_35.arff'\n",
    "X, y = load_dataset(filename=filename)\n",
    "print(np.shape(X), np.shape(y))\n",
    "K = 100\n",
    "N = 268\n",
    "print(N/len(y))\n",
    "num_outliers = [N, N, N, N]\n",
    "class_balance = [1- N/768.0, N/768.0]\n",
    "lof_krange = list(range(10,210,10)) * 6\n",
    "knn_krange = list(range(10,210,10)) * 6\n",
    "if_range = [0.5, 0.6, 0.7, 0.8, 0.9] * 6\n",
    "mahalanobis_N_range=[N]\n",
    "mahalanobis_N_range = [220,230,240,250,260,270]\n",
    "\n",
    "if_N_range = np.sort(mahalanobis_N_range * 5)\n",
    "N_range = np.sort(mahalanobis_N_range * 20)"
   ]
  },
  {
   "cell_type": "code",
   "execution_count": 33,
   "metadata": {},
   "outputs": [
    {
     "name": "stdout",
     "output_type": "stream",
     "text": [
      "autood_utils.autood_preprocessing : 0.66068237699983\n"
     ]
    }
   ],
   "source": [
    "L, scores = autood_preprocessing(X,y,lof_krange,knn_krange,if_range, mahalanobis_N_range,if_N_range,N_range)"
   ]
  },
  {
   "cell_type": "code",
   "execution_count": 47,
   "metadata": {},
   "outputs": [
    {
     "name": "stdout",
     "output_type": "stream",
     "text": [
      "##################################################################\n",
      "Iteration = 0\n",
      "F-1 score from SVM: 0.5203883495145631\n",
      "precision from SVM: 0.5425101214574899\n",
      "recall from SVM: 0.5\n",
      "F-1 score from SVM: 0.5447761194029851\n",
      "precision from SVM: 0.5447761194029851\n",
      "recall from SVM: 0.5447761194029851\n"
     ]
    },
    {
     "name": "stderr",
     "output_type": "stream",
     "text": [
      "/Users/yizhouyan/Desktop/AutoOD/AutoOD-Code-sigmode-revision/autood_cleaning.py:31: UserWarning: Implicit dimension choice for log_softmax has been deprecated. Change the call to include dim=X as an argument.\n",
      "  return F.log_softmax(x)\n"
     ]
    },
    {
     "name": "stdout",
     "output_type": "stream",
     "text": [
      "Final Training Result: Loss 0.62995166\tPrec @ 1 67.969%\n",
      "Final Training Result: Loss 0.44449690\tPrec @ 1 86.719%\n",
      "F-1 score from NN: 0.4252336448598131\n",
      "Precision score from NN: 0.56875\n",
      "Recall score from NN: 0.33955223880597013\n",
      "Number of points to remove:  130\n",
      "Number of new points with confidence > 0.99: 0\n",
      "Number of points with confidence < 0.001 0\n",
      "##################################################################\n",
      "Iteration = 1\n",
      "F-1 score from SVM: 0.5540796963946868\n",
      "precision from SVM: 0.5637065637065637\n",
      "recall from SVM: 0.5447761194029851\n",
      "F-1 score from SVM: 0.5597014925373134\n",
      "precision from SVM: 0.5597014925373134\n",
      "recall from SVM: 0.5597014925373134\n"
     ]
    },
    {
     "name": "stderr",
     "output_type": "stream",
     "text": [
      "/Users/yizhouyan/Desktop/AutoOD/AutoOD-Code-sigmode-revision/autood_cleaning.py:31: UserWarning: Implicit dimension choice for log_softmax has been deprecated. Change the call to include dim=X as an argument.\n",
      "  return F.log_softmax(x)\n"
     ]
    },
    {
     "name": "stdout",
     "output_type": "stream",
     "text": [
      "Final Training Result: Loss 0.62407136\tPrec @ 1 67.868%\n",
      "Final Training Result: Loss 0.52397627\tPrec @ 1 75.862%\n",
      "F-1 score from NN: 0.2754491017964072\n",
      "Precision score from NN: 0.696969696969697\n",
      "Recall score from NN: 0.17164179104477612\n",
      "Number of points to remove:  91\n",
      "Number of new points with confidence > 0.99: 0\n",
      "Number of points with confidence < 0.001 0\n",
      "##################################################################\n",
      "Iteration = 2\n",
      "F-1 score from SVM: 0.5698529411764706\n",
      "precision from SVM: 0.5615942028985508\n",
      "recall from SVM: 0.5783582089552238\n",
      "F-1 score from SVM: 0.5746268656716418\n",
      "precision from SVM: 0.5746268656716418\n",
      "recall from SVM: 0.5746268656716418\n"
     ]
    },
    {
     "name": "stderr",
     "output_type": "stream",
     "text": [
      "/Users/yizhouyan/Desktop/AutoOD/AutoOD-Code-sigmode-revision/autood_cleaning.py:31: UserWarning: Implicit dimension choice for log_softmax has been deprecated. Change the call to include dim=X as an argument.\n",
      "  return F.log_softmax(x)\n"
     ]
    },
    {
     "name": "stdout",
     "output_type": "stream",
     "text": [
      "Final Training Result: Loss 0.63977009\tPrec @ 1 66.728%\n",
      "Final Training Result: Loss 0.48362589\tPrec @ 1 76.600%\n",
      "F-1 score from NN: 0.24999999999999997\n",
      "Precision score from NN: 0.6833333333333333\n",
      "Recall score from NN: 0.15298507462686567\n",
      "Number of points to remove:  79\n",
      "Number of new points with confidence > 0.99: 0\n",
      "Number of points with confidence < 0.001 0\n",
      "##################################################################\n",
      "Iteration = 3\n",
      "F-1 score from SVM: 0.6164623467600701\n",
      "precision from SVM: 0.5808580858085809\n",
      "recall from SVM: 0.6567164179104478\n",
      "F-1 score from SVM: 0.6119402985074627\n",
      "precision from SVM: 0.6119402985074627\n",
      "recall from SVM: 0.6119402985074627\n"
     ]
    },
    {
     "name": "stderr",
     "output_type": "stream",
     "text": [
      "/Users/yizhouyan/Desktop/AutoOD/AutoOD-Code-sigmode-revision/autood_cleaning.py:31: UserWarning: Implicit dimension choice for log_softmax has been deprecated. Change the call to include dim=X as an argument.\n",
      "  return F.log_softmax(x)\n"
     ]
    },
    {
     "name": "stdout",
     "output_type": "stream",
     "text": [
      "Final Training Result: Loss 0.62294686\tPrec @ 1 67.521%\n",
      "Final Training Result: Loss 0.50608641\tPrec @ 1 71.581%\n",
      "F-1 score from NN: 0.11683848797250859\n",
      "Precision score from NN: 0.7391304347826086\n",
      "Recall score from NN: 0.06343283582089553\n",
      "Number of points to remove:  71\n",
      "Number of new points with confidence > 0.99: 0\n",
      "Number of points with confidence < 0.001 0\n",
      "##################################################################\n",
      "Iteration = 4\n",
      "F-1 score from SVM: 0.6317567567567567\n",
      "precision from SVM: 0.5771604938271605\n",
      "recall from SVM: 0.6977611940298507\n",
      "F-1 score from SVM: 0.6082089552238806\n",
      "precision from SVM: 0.6082089552238806\n",
      "recall from SVM: 0.6082089552238806\n"
     ]
    },
    {
     "name": "stderr",
     "output_type": "stream",
     "text": [
      "/Users/yizhouyan/Desktop/AutoOD/AutoOD-Code-sigmode-revision/autood_cleaning.py:31: UserWarning: Implicit dimension choice for log_softmax has been deprecated. Change the call to include dim=X as an argument.\n",
      "  return F.log_softmax(x)\n"
     ]
    },
    {
     "name": "stdout",
     "output_type": "stream",
     "text": [
      "Final Training Result: Loss 0.64924979\tPrec @ 1 66.751%\n",
      "Final Training Result: Loss 0.53041524\tPrec @ 1 66.751%\n",
      "F-1 score from NN: 0.0\n",
      "Precision score from NN: 0.0\n",
      "Recall score from NN: 0.0\n",
      "Number of points to remove:  62\n",
      "Number of new points with confidence > 0.99: 0\n",
      "Number of points with confidence < 0.001 0\n",
      "##################################################################\n",
      "Iteration = 5\n",
      "F-1 score from SVM: 0.6319327731092437\n",
      "precision from SVM: 0.5749235474006116\n",
      "recall from SVM: 0.7014925373134329\n",
      "F-1 score from SVM: 0.6119402985074627\n",
      "precision from SVM: 0.6119402985074627\n",
      "recall from SVM: 0.6119402985074627\n",
      "Final Training Result: Loss 0.65766603\tPrec @ 1 67.463%\n"
     ]
    },
    {
     "name": "stderr",
     "output_type": "stream",
     "text": [
      "/usr/local/lib/python3.7/site-packages/sklearn/metrics/_classification.py:1272: UndefinedMetricWarning: Precision is ill-defined and being set to 0.0 due to no predicted samples. Use `zero_division` parameter to control this behavior.\n",
      "  _warn_prf(average, modifier, msg_start, len(result))\n",
      "/Users/yizhouyan/Desktop/AutoOD/AutoOD-Code-sigmode-revision/autood_cleaning.py:31: UserWarning: Implicit dimension choice for log_softmax has been deprecated. Change the call to include dim=X as an argument.\n",
      "  return F.log_softmax(x)\n"
     ]
    },
    {
     "name": "stdout",
     "output_type": "stream",
     "text": [
      "Final Training Result: Loss 0.41022274\tPrec @ 1 85.970%\n",
      "F-1 score from NN: 0.3595505617977528\n",
      "Precision score from NN: 0.7272727272727273\n",
      "Recall score from NN: 0.23880597014925373\n",
      "Number of points to remove:  50\n",
      "Number of new points with confidence > 0.99: 0\n",
      "Number of points with confidence < 0.001 0\n",
      "##################################################################\n",
      "Iteration = 6\n",
      "F-1 score from SVM: 0.6227347611202636\n",
      "precision from SVM: 0.5575221238938053\n",
      "recall from SVM: 0.7052238805970149\n",
      "F-1 score from SVM: 0.6194029850746269\n",
      "precision from SVM: 0.6194029850746269\n",
      "recall from SVM: 0.6194029850746269\n",
      "Final Training Result: Loss 0.65624380\tPrec @ 1 67.018%\n"
     ]
    },
    {
     "name": "stderr",
     "output_type": "stream",
     "text": [
      "/Users/yizhouyan/Desktop/AutoOD/AutoOD-Code-sigmode-revision/autood_cleaning.py:31: UserWarning: Implicit dimension choice for log_softmax has been deprecated. Change the call to include dim=X as an argument.\n",
      "  return F.log_softmax(x)\n"
     ]
    },
    {
     "name": "stdout",
     "output_type": "stream",
     "text": [
      "Final Training Result: Loss 0.55160314\tPrec @ 1 67.018%\n",
      "F-1 score from NN: 0.0\n",
      "Precision score from NN: 0.0\n",
      "Recall score from NN: 0.0\n",
      "Number of points to remove:  46\n",
      "Number of new points with confidence > 0.99: 0\n",
      "Number of points with confidence < 0.001 0\n",
      "##################################################################\n",
      "Iteration = 7\n",
      "F-1 score from SVM: 0.6307189542483661\n",
      "precision from SVM: 0.561046511627907\n",
      "recall from SVM: 0.7201492537313433\n",
      "F-1 score from SVM: 0.6007462686567164\n",
      "precision from SVM: 0.6007462686567164\n",
      "recall from SVM: 0.6007462686567164\n",
      "Final Training Result: Loss 0.63415384\tPrec @ 1 68.201%\n"
     ]
    },
    {
     "name": "stderr",
     "output_type": "stream",
     "text": [
      "/Users/yizhouyan/Desktop/AutoOD/AutoOD-Code-sigmode-revision/autood_cleaning.py:31: UserWarning: Implicit dimension choice for log_softmax has been deprecated. Change the call to include dim=X as an argument.\n",
      "  return F.log_softmax(x)\n"
     ]
    },
    {
     "name": "stdout",
     "output_type": "stream",
     "text": [
      "Final Training Result: Loss 0.56470644\tPrec @ 1 68.201%\n",
      "F-1 score from NN: 0.0\n",
      "Precision score from NN: 0.0\n",
      "Recall score from NN: 0.0\n",
      "Number of points to remove:  37\n",
      "Number of new points with confidence > 0.99: 0\n",
      "Number of points with confidence < 0.001 0\n",
      "##################################################################\n",
      "Iteration = 8\n",
      "F-1 score from SVM: 0.6293929712460065\n",
      "precision from SVM: 0.5502793296089385\n",
      "recall from SVM: 0.7350746268656716\n",
      "F-1 score from SVM: 0.5970149253731343\n",
      "precision from SVM: 0.5970149253731343\n",
      "recall from SVM: 0.5970149253731343\n",
      "Final Training Result: Loss 0.63954031\tPrec @ 1 68.317%\n"
     ]
    },
    {
     "name": "stderr",
     "output_type": "stream",
     "text": [
      "/usr/local/lib/python3.7/site-packages/sklearn/metrics/_classification.py:1272: UndefinedMetricWarning: Precision is ill-defined and being set to 0.0 due to no predicted samples. Use `zero_division` parameter to control this behavior.\n",
      "  _warn_prf(average, modifier, msg_start, len(result))\n",
      "/Users/yizhouyan/Desktop/AutoOD/AutoOD-Code-sigmode-revision/autood_cleaning.py:31: UserWarning: Implicit dimension choice for log_softmax has been deprecated. Change the call to include dim=X as an argument.\n",
      "  return F.log_softmax(x)\n"
     ]
    },
    {
     "name": "stdout",
     "output_type": "stream",
     "text": [
      "Final Training Result: Loss 0.57138485\tPrec @ 1 68.317%\n",
      "F-1 score from NN: 0.0\n",
      "Precision score from NN: 0.0\n",
      "Recall score from NN: 0.0\n",
      "Number of points to remove:  32\n",
      "Number of new points with confidence > 0.99: 0\n",
      "Number of points with confidence < 0.001 0\n",
      "##################################################################\n",
      "Iteration = 9\n",
      "F-1 score from SVM: 0.6477093206951027\n",
      "precision from SVM: 0.5616438356164384\n",
      "recall from SVM: 0.7649253731343284\n",
      "F-1 score from SVM: 0.6082089552238806\n",
      "precision from SVM: 0.6082089552238806\n",
      "recall from SVM: 0.6082089552238806\n",
      "Final Training Result: Loss 0.64742899\tPrec @ 1 69.412%\n",
      "Final Training Result: Loss 0.58040768\tPrec @ 1 74.118%\n"
     ]
    },
    {
     "name": "stderr",
     "output_type": "stream",
     "text": [
      "/usr/local/lib/python3.7/site-packages/sklearn/metrics/_classification.py:1272: UndefinedMetricWarning: Precision is ill-defined and being set to 0.0 due to no predicted samples. Use `zero_division` parameter to control this behavior.\n",
      "  _warn_prf(average, modifier, msg_start, len(result))\n",
      "/Users/yizhouyan/Desktop/AutoOD/AutoOD-Code-sigmode-revision/autood_cleaning.py:31: UserWarning: Implicit dimension choice for log_softmax has been deprecated. Change the call to include dim=X as an argument.\n",
      "  return F.log_softmax(x)\n"
     ]
    },
    {
     "name": "stdout",
     "output_type": "stream",
     "text": [
      "F-1 score from NN: 0.12413793103448276\n",
      "Precision score from NN: 0.8181818181818182\n",
      "Recall score from NN: 0.06716417910447761\n",
      "Number of points to remove:  25\n",
      "Number of new points with confidence > 0.99: 0\n",
      "Number of points with confidence < 0.001 0\n"
     ]
    }
   ],
   "source": [
    "from autood_cleaning import autood_cleaning\n",
    "autood_cleaning(X, y, L, ratio_to_remove=0.05, max_iteration=10, separate_inline_outlier=True, show_metrics=True, inlier=0.001, outlier=0.99, early_stop=True)"
   ]
  },
  {
   "cell_type": "markdown",
   "metadata": {},
   "source": [
    "### Load shuttle dataset"
   ]
  },
  {
   "cell_type": "code",
   "execution_count": 98,
   "metadata": {},
   "outputs": [
    {
     "name": "stdout",
     "output_type": "stream",
     "text": [
      "49097\n",
      "0.0715114976475141\n",
      "(49097, 9)\n"
     ]
    }
   ],
   "source": [
    "import hdf5storage\n",
    "mat = hdf5storage.loadmat('shuttle.mat')\n",
    "X = mat['X']\n",
    "y = mat['y']\n",
    "print(len(y))\n",
    "print(np.sum(y)/len(y))\n",
    "lof_krange = list(range(10,110,10)) * 6\n",
    "knn_krange = list(range(10,110,10)) * 6\n",
    "if_range = [0.5, 0.6, 0.7, 0.8, 0.9] * 6\n",
    "mahalanobis_N_range=[1000,1500,2000, 2500,3000, 3500]\n",
    "# mahalanobis_N_range = [20, 40, 60,80, 100,120]\n",
    "if_N_range = np.sort(mahalanobis_N_range * 5)\n",
    "N_range = np.sort(mahalanobis_N_range *10)\n",
    "print(np.shape(X))\n",
    "# normalize\n",
    "# from sklearn.preprocessing import Normalizer\n",
    "# transformer = Normalizer().fit(X) \n",
    "# X = transformer.transform(X)"
   ]
  },
  {
   "cell_type": "code",
   "execution_count": 99,
   "metadata": {},
   "outputs": [
    {
     "name": "stdout",
     "output_type": "stream",
     "text": [
      "autood_utils.autood_preprocessing : 51.35911001599743\n"
     ]
    }
   ],
   "source": [
    "L, scores = autood_preprocessing(X,y,lof_krange,knn_krange,if_range, mahalanobis_N_range,if_N_range,N_range)"
   ]
  },
  {
   "cell_type": "code",
   "execution_count": 100,
   "metadata": {},
   "outputs": [
    {
     "name": "stdout",
     "output_type": "stream",
     "text": [
      "##################################################################\n",
      "Iteration = 0\n",
      "F-1 score from SVM: 0.2220744680851064\n",
      "precision from SVM: 0.5004995004995005\n",
      "recall from SVM: 0.14269438906294504\n",
      "F-1 score from SVM: 0.27485046995158074\n",
      "precision from SVM: 0.27485046995158074\n",
      "recall from SVM: 0.27485046995158074\n"
     ]
    },
    {
     "name": "stderr",
     "output_type": "stream",
     "text": [
      "/Users/yizhouyan/Desktop/AutoOD/AutoOD-Code-sigmode-revision/autood_cleaning.py:31: UserWarning: Implicit dimension choice for log_softmax has been deprecated. Change the call to include dim=X as an argument.\n",
      "  return F.log_softmax(x)\n"
     ]
    },
    {
     "name": "stdout",
     "output_type": "stream",
     "text": [
      "Final Training Result: Loss 0.02964193\tPrec @ 1 98.992%\n",
      "Final Training Result: Loss 0.02452207\tPrec @ 1 99.234%\n",
      "F-1 score from NN: 0.25563580652221496\n",
      "Precision score from NN: 0.5519848771266541\n",
      "Recall score from NN: 0.16633437767017945\n",
      "Number of points to remove:  696\n",
      "Number of new points with confidence > 0.9999: 0\n",
      "Number of points with confidence < 1e-05 0\n",
      "##################################################################\n",
      "Iteration = 1\n",
      "F-1 score from SVM: 0.3167610656597441\n",
      "precision from SVM: 0.6011146496815286\n",
      "recall from SVM: 0.21503845058387924\n",
      "F-1 score from SVM: 0.3602962119054401\n",
      "precision from SVM: 0.36029621190544003\n",
      "recall from SVM: 0.36029621190544003\n"
     ]
    },
    {
     "name": "stderr",
     "output_type": "stream",
     "text": [
      "/Users/yizhouyan/Desktop/AutoOD/AutoOD-Code-sigmode-revision/autood_cleaning.py:31: UserWarning: Implicit dimension choice for log_softmax has been deprecated. Change the call to include dim=X as an argument.\n",
      "  return F.log_softmax(x)\n"
     ]
    },
    {
     "name": "stdout",
     "output_type": "stream",
     "text": [
      "Final Training Result: Loss 0.01346655\tPrec @ 1 99.517%\n",
      "Final Training Result: Loss 0.00390067\tPrec @ 1 99.866%\n",
      "F-1 score from NN: 0.26620420550617824\n",
      "Precision score from NN: 0.5571687840290381\n",
      "Recall score from NN: 0.17487895186556537\n",
      "Number of points to remove:  2527\n",
      "Number of new points with confidence > 0.9999: 14\n",
      "F-1 before:  0.0\n",
      "F-1 after:  0.88\n",
      "Number of points with confidence < 1e-05 4\n",
      "##################################################################\n",
      "Iteration = 2\n",
      "F-1 score from SVM: 0.34580012262415694\n",
      "precision from SVM: 0.6121562952243126\n",
      "recall from SVM: 0.2409569923098832\n",
      "F-1 score from SVM: 0.4725149530048419\n",
      "precision from SVM: 0.4725149530048419\n",
      "recall from SVM: 0.4725149530048419\n"
     ]
    },
    {
     "name": "stderr",
     "output_type": "stream",
     "text": [
      "/Users/yizhouyan/Desktop/AutoOD/AutoOD-Code-sigmode-revision/autood_cleaning.py:31: UserWarning: Implicit dimension choice for log_softmax has been deprecated. Change the call to include dim=X as an argument.\n",
      "  return F.log_softmax(x)\n"
     ]
    },
    {
     "name": "stdout",
     "output_type": "stream",
     "text": [
      "Final Training Result: Loss 0.00215150\tPrec @ 1 99.965%\n",
      "Final Training Result: Loss 0.00102708\tPrec @ 1 99.993%\n",
      "F-1 score from NN: 0.34089971110193973\n",
      "Precision score from NN: 0.6187265917602996\n",
      "Recall score from NN: 0.23526060951295927\n",
      "Number of points to remove:  1374\n",
      "Number of new points with confidence > 0.9999: 9\n",
      "F-1 before:  0.0\n",
      "F-1 after:  0.7142857142857143\n",
      "Number of points with confidence < 1e-05 2\n",
      "##################################################################\n",
      "Iteration = 3\n",
      "F-1 score from SVM: 0.47492015780574864\n",
      "precision from SVM: 0.6975717439293598\n",
      "recall from SVM: 0.36001139276559385\n",
      "F-1 score from SVM: 0.6146397037880945\n",
      "precision from SVM: 0.6146397037880945\n",
      "recall from SVM: 0.6146397037880945\n"
     ]
    },
    {
     "name": "stderr",
     "output_type": "stream",
     "text": [
      "/Users/yizhouyan/Desktop/AutoOD/AutoOD-Code-sigmode-revision/autood_cleaning.py:31: UserWarning: Implicit dimension choice for log_softmax has been deprecated. Change the call to include dim=X as an argument.\n",
      "  return F.log_softmax(x)\n"
     ]
    },
    {
     "name": "stdout",
     "output_type": "stream",
     "text": [
      "Final Training Result: Loss 0.00195877\tPrec @ 1 99.969%\n",
      "Final Training Result: Loss 0.00025443\tPrec @ 1 100.000%\n",
      "F-1 score from NN: 0.2852166340082735\n",
      "Precision score from NN: 0.6053604436229205\n",
      "Recall score from NN: 0.18655653659925947\n",
      "Number of points to remove:  2791\n",
      "Number of new points with confidence > 0.9999: 3\n",
      "F-1 before:  0.0\n",
      "F-1 after:  0.0\n",
      "Number of points with confidence < 1e-05 0\n",
      "##################################################################\n",
      "Iteration = 4\n",
      "F-1 score from SVM: 0.7210338680926918\n",
      "precision from SVM: 0.7534927041291525\n",
      "recall from SVM: 0.6912560524067217\n",
      "F-1 score from SVM: 0.7428083167188836\n",
      "precision from SVM: 0.7428083167188835\n",
      "recall from SVM: 0.7428083167188835\n"
     ]
    },
    {
     "name": "stderr",
     "output_type": "stream",
     "text": [
      "/Users/yizhouyan/Desktop/AutoOD/AutoOD-Code-sigmode-revision/autood_cleaning.py:31: UserWarning: Implicit dimension choice for log_softmax has been deprecated. Change the call to include dim=X as an argument.\n",
      "  return F.log_softmax(x)\n"
     ]
    },
    {
     "name": "stdout",
     "output_type": "stream",
     "text": [
      "Final Training Result: Loss 0.00159632\tPrec @ 1 99.976%\n",
      "Final Training Result: Loss 0.00019236\tPrec @ 1 100.000%\n",
      "F-1 score from NN: 0.4786757546251217\n",
      "Precision score from NN: 0.7567733990147784\n",
      "Recall score from NN: 0.35004272287097693\n",
      "Number of points to remove:  1542\n",
      "Number of new points with confidence > 0.9999: 0\n",
      "Number of points with confidence < 1e-05 5\n",
      "##################################################################\n",
      "Iteration = 5\n",
      "F-1 score from SVM: 0.8165805853529334\n",
      "precision from SVM: 0.7631188118811881\n",
      "recall from SVM: 0.8780974081458274\n",
      "F-1 score from SVM: 0.8390771859868984\n",
      "precision from SVM: 0.8390771859868983\n",
      "recall from SVM: 0.8390771859868983\n"
     ]
    },
    {
     "name": "stderr",
     "output_type": "stream",
     "text": [
      "/Users/yizhouyan/Desktop/AutoOD/AutoOD-Code-sigmode-revision/autood_cleaning.py:31: UserWarning: Implicit dimension choice for log_softmax has been deprecated. Change the call to include dim=X as an argument.\n",
      "  return F.log_softmax(x)\n"
     ]
    },
    {
     "name": "stdout",
     "output_type": "stream",
     "text": [
      "Final Training Result: Loss 0.00094507\tPrec @ 1 99.995%\n",
      "Final Training Result: Loss 0.00027192\tPrec @ 1 100.000%\n",
      "F-1 score from NN: 0.8103130755064457\n",
      "Precision score from NN: 0.8785357737104825\n",
      "Recall score from NN: 0.7519225291939619\n",
      "Number of points to remove:  3700\n",
      "Number of new points with confidence > 0.9999: 1\n",
      "F-1 before:  1.0\n",
      "F-1 after:  1.0\n",
      "Number of points with confidence < 1e-05 0\n",
      "##################################################################\n",
      "Iteration = 6\n",
      "F-1 score from SVM: 0.842774843975036\n",
      "precision from SVM: 0.7282721427089816\n",
      "recall from SVM: 1.0\n",
      "F-1 score from SVM: 0.8869268014810595\n",
      "precision from SVM: 0.8869268014810595\n",
      "recall from SVM: 0.8869268014810595\n"
     ]
    },
    {
     "name": "stderr",
     "output_type": "stream",
     "text": [
      "/Users/yizhouyan/Desktop/AutoOD/AutoOD-Code-sigmode-revision/autood_cleaning.py:31: UserWarning: Implicit dimension choice for log_softmax has been deprecated. Change the call to include dim=X as an argument.\n",
      "  return F.log_softmax(x)\n"
     ]
    },
    {
     "name": "stdout",
     "output_type": "stream",
     "text": [
      "Final Training Result: Loss 0.00087827\tPrec @ 1 99.997%\n",
      "Final Training Result: Loss 0.00016534\tPrec @ 1 100.000%\n",
      "F-1 score from NN: 0.8401084010840109\n",
      "Precision score from NN: 0.8910891089108911\n",
      "Recall score from NN: 0.7946454001708915\n",
      "Number of points to remove:  4197\n",
      "Number of new points with confidence > 0.9999: 35\n",
      "F-1 before:  0.5416666666666666\n",
      "F-1 after:  1.0\n",
      "Number of points with confidence < 1e-05 0\n",
      "##################################################################\n",
      "Iteration = 7\n",
      "F-1 score from SVM: 0.7254881702655233\n",
      "precision from SVM: 0.5692282749675746\n",
      "recall from SVM: 1.0\n",
      "F-1 score from SVM: 0.8829393335232127\n",
      "precision from SVM: 0.8829393335232127\n",
      "recall from SVM: 0.8829393335232127\n"
     ]
    },
    {
     "name": "stderr",
     "output_type": "stream",
     "text": [
      "/Users/yizhouyan/Desktop/AutoOD/AutoOD-Code-sigmode-revision/autood_cleaning.py:31: UserWarning: Implicit dimension choice for log_softmax has been deprecated. Change the call to include dim=X as an argument.\n",
      "  return F.log_softmax(x)\n"
     ]
    },
    {
     "name": "stdout",
     "output_type": "stream",
     "text": [
      "Final Training Result: Loss 0.00076885\tPrec @ 1 100.000%\n",
      "Final Training Result: Loss 0.00015912\tPrec @ 1 100.000%\n",
      "F-1 score from NN: 0.8137526981190256\n",
      "Precision score from NN: 0.8870588235294118\n",
      "Recall score from NN: 0.7516377100541156\n",
      "Number of points to remove:  3806\n",
      "Number of new points with confidence > 0.9999: 54\n",
      "F-1 before:  0.0\n",
      "F-1 after:  0.9906542056074767\n",
      "Number of points with confidence < 1e-05 2\n",
      "##################################################################\n",
      "Iteration = 8\n",
      "F-1 score from SVM: 0.6109805968850605\n",
      "precision from SVM: 0.4398646955650213\n",
      "recall from SVM: 1.0\n",
      "F-1 score from SVM: 0.8795215038450583\n",
      "precision from SVM: 0.8795215038450583\n",
      "recall from SVM: 0.8795215038450583\n"
     ]
    },
    {
     "name": "stderr",
     "output_type": "stream",
     "text": [
      "/Users/yizhouyan/Desktop/AutoOD/AutoOD-Code-sigmode-revision/autood_cleaning.py:31: UserWarning: Implicit dimension choice for log_softmax has been deprecated. Change the call to include dim=X as an argument.\n",
      "  return F.log_softmax(x)\n"
     ]
    },
    {
     "name": "stdout",
     "output_type": "stream",
     "text": [
      "Final Training Result: Loss 0.00079948\tPrec @ 1 100.000%\n",
      "Final Training Result: Loss 0.00015641\tPrec @ 1 100.000%\n",
      "F-1 score from NN: 0.819590824550527\n",
      "Precision score from NN: 0.8990139408364501\n",
      "Recall score from NN: 0.7530618057533466\n",
      "Number of points to remove:  3096\n",
      "Number of new points with confidence > 0.9999: 0\n",
      "Number of points with confidence < 1e-05 0\n",
      "##################################################################\n",
      "Iteration = 9\n",
      "F-1 score from SVM: 0.5432041463603311\n",
      "precision from SVM: 0.37287595581988103\n",
      "recall from SVM: 1.0\n",
      "F-1 score from SVM: 0.8786670464255198\n",
      "precision from SVM: 0.8786670464255198\n",
      "recall from SVM: 0.8786670464255198\n"
     ]
    },
    {
     "name": "stderr",
     "output_type": "stream",
     "text": [
      "/Users/yizhouyan/Desktop/AutoOD/AutoOD-Code-sigmode-revision/autood_cleaning.py:31: UserWarning: Implicit dimension choice for log_softmax has been deprecated. Change the call to include dim=X as an argument.\n",
      "  return F.log_softmax(x)\n"
     ]
    },
    {
     "name": "stdout",
     "output_type": "stream",
     "text": [
      "Final Training Result: Loss 0.00096961\tPrec @ 1 100.000%\n",
      "Final Training Result: Loss 0.00020116\tPrec @ 1 100.000%\n",
      "F-1 score from NN: 0.8212951432129515\n",
      "Precision score from NN: 0.9055956059045658\n",
      "Recall score from NN: 0.7513528909142695\n",
      "Number of points to remove:  3252\n",
      "Number of new points with confidence > 0.9999: 0\n",
      "Number of points with confidence < 1e-05 0\n",
      "##################################################################\n",
      "Iteration = 10\n",
      "F-1 score from SVM: 0.49548405306237653\n",
      "precision from SVM: 0.329331207203827\n",
      "recall from SVM: 1.0\n",
      "F-1 score from SVM: 0.878951865565366\n",
      "precision from SVM: 0.878951865565366\n",
      "recall from SVM: 0.878951865565366\n"
     ]
    },
    {
     "name": "stderr",
     "output_type": "stream",
     "text": [
      "/Users/yizhouyan/Desktop/AutoOD/AutoOD-Code-sigmode-revision/autood_cleaning.py:31: UserWarning: Implicit dimension choice for log_softmax has been deprecated. Change the call to include dim=X as an argument.\n",
      "  return F.log_softmax(x)\n"
     ]
    },
    {
     "name": "stdout",
     "output_type": "stream",
     "text": [
      "Final Training Result: Loss 0.00162961\tPrec @ 1 100.000%\n",
      "Final Training Result: Loss 0.00019157\tPrec @ 1 100.000%\n",
      "F-1 score from NN: 0.8322560787934749\n",
      "Precision score from NN: 0.905256109809173\n",
      "Recall score from NN: 0.7701509541441185\n",
      "Number of points to remove:  2623\n",
      "Number of new points with confidence > 0.9999: 26\n",
      "F-1 before:  0.631578947368421\n",
      "F-1 after:  1.0\n",
      "Number of points with confidence < 1e-05 16\n",
      "##################################################################\n",
      "Iteration = 11\n",
      "F-1 score from SVM: 0.5173125092087815\n",
      "precision from SVM: 0.3489019179171221\n",
      "recall from SVM: 1.0\n",
      "F-1 score from SVM: 0.8792366847052122\n",
      "precision from SVM: 0.8792366847052122\n",
      "recall from SVM: 0.8792366847052122\n"
     ]
    },
    {
     "name": "stderr",
     "output_type": "stream",
     "text": [
      "/Users/yizhouyan/Desktop/AutoOD/AutoOD-Code-sigmode-revision/autood_cleaning.py:31: UserWarning: Implicit dimension choice for log_softmax has been deprecated. Change the call to include dim=X as an argument.\n",
      "  return F.log_softmax(x)\n"
     ]
    },
    {
     "name": "stdout",
     "output_type": "stream",
     "text": [
      "Final Training Result: Loss 0.00110659\tPrec @ 1 100.000%\n",
      "Final Training Result: Loss 0.00026746\tPrec @ 1 100.000%\n",
      "F-1 score from NN: 0.821216848673947\n",
      "Precision score from NN: 0.9078992756122801\n",
      "Recall score from NN: 0.7496439760751923\n",
      "Number of points to remove:  3139\n",
      "Number of new points with confidence > 0.9999: 5\n",
      "F-1 before:  0.0\n",
      "F-1 after:  0.0\n",
      "Number of points with confidence < 1e-05 1\n",
      "##################################################################\n",
      "Iteration = 12\n",
      "F-1 score from SVM: 0.5080306757343366\n",
      "precision from SVM: 0.34051013480748715\n",
      "recall from SVM: 1.0\n",
      "F-1 score from SVM: 0.8803759612645969\n",
      "precision from SVM: 0.8803759612645969\n",
      "recall from SVM: 0.8803759612645969\n"
     ]
    },
    {
     "name": "stderr",
     "output_type": "stream",
     "text": [
      "/Users/yizhouyan/Desktop/AutoOD/AutoOD-Code-sigmode-revision/autood_cleaning.py:31: UserWarning: Implicit dimension choice for log_softmax has been deprecated. Change the call to include dim=X as an argument.\n",
      "  return F.log_softmax(x)\n"
     ]
    },
    {
     "name": "stdout",
     "output_type": "stream",
     "text": [
      "Final Training Result: Loss 0.00124511\tPrec @ 1 100.000%\n",
      "Final Training Result: Loss 0.00028153\tPrec @ 1 100.000%\n",
      "F-1 score from NN: 0.8196567862714509\n",
      "Precision score from NN: 0.9061745429458434\n",
      "Recall score from NN: 0.7482198803759612\n",
      "Number of points to remove:  1807\n",
      "Number of new points with confidence > 0.9999: 2\n",
      "F-1 before:  0.0\n",
      "F-1 after:  0.0\n",
      "Number of points with confidence < 1e-05 0\n",
      "##################################################################\n",
      "Iteration = 13\n",
      "F-1 score from SVM: 0.4268952519910025\n",
      "precision from SVM: 0.2713711547379811\n",
      "recall from SVM: 1.0\n",
      "F-1 score from SVM: 0.8772429507262888\n",
      "precision from SVM: 0.8772429507262888\n",
      "recall from SVM: 0.8772429507262888\n"
     ]
    },
    {
     "name": "stderr",
     "output_type": "stream",
     "text": [
      "/Users/yizhouyan/Desktop/AutoOD/AutoOD-Code-sigmode-revision/autood_cleaning.py:31: UserWarning: Implicit dimension choice for log_softmax has been deprecated. Change the call to include dim=X as an argument.\n",
      "  return F.log_softmax(x)\n"
     ]
    },
    {
     "name": "stdout",
     "output_type": "stream",
     "text": [
      "Final Training Result: Loss 0.00254827\tPrec @ 1 100.000%\n",
      "Final Training Result: Loss 0.00025851\tPrec @ 1 100.000%\n",
      "F-1 score from NN: 0.7952171938852732\n",
      "Precision score from NN: 0.8485142118863049\n",
      "Recall score from NN: 0.7482198803759612\n",
      "Number of points to remove:  1248\n",
      "Number of new points with confidence > 0.9999: 276\n",
      "F-1 before:  0.26959247648902823\n",
      "F-1 after:  0.9963636363636363\n",
      "Number of points with confidence < 1e-05 583\n",
      "##################################################################\n",
      "Iteration = 14\n",
      "F-1 score from SVM: 0.458444865182477\n",
      "precision from SVM: 0.2973911570387938\n",
      "recall from SVM: 1.0\n",
      "F-1 score from SVM: 0.8823696952435204\n",
      "precision from SVM: 0.8823696952435204\n",
      "recall from SVM: 0.8823696952435204\n"
     ]
    },
    {
     "name": "stderr",
     "output_type": "stream",
     "text": [
      "/Users/yizhouyan/Desktop/AutoOD/AutoOD-Code-sigmode-revision/autood_cleaning.py:31: UserWarning: Implicit dimension choice for log_softmax has been deprecated. Change the call to include dim=X as an argument.\n",
      "  return F.log_softmax(x)\n"
     ]
    },
    {
     "name": "stdout",
     "output_type": "stream",
     "text": [
      "Final Training Result: Loss 0.00113091\tPrec @ 1 100.000%\n",
      "Final Training Result: Loss 0.00037686\tPrec @ 1 100.000%\n",
      "F-1 score from NN: 0.7991504854368933\n",
      "Precision score from NN: 0.8549172346640701\n",
      "Recall score from NN: 0.7502136143548847\n",
      "Number of points to remove:  1976\n",
      "Number of new points with confidence > 0.9999: 565\n",
      "F-1 before:  0.2852807283763278\n",
      "F-1 after:  0.993766696349065\n",
      "Number of points with confidence < 1e-05 7\n",
      "##################################################################\n",
      "Iteration = 15\n",
      "F-1 score from SVM: 0.45862451832016193\n",
      "precision from SVM: 0.29754237288135593\n",
      "recall from SVM: 1.0\n",
      "F-1 score from SVM: 0.8823696952435204\n",
      "precision from SVM: 0.8823696952435204\n",
      "recall from SVM: 0.8823696952435204\n"
     ]
    },
    {
     "name": "stderr",
     "output_type": "stream",
     "text": [
      "/Users/yizhouyan/Desktop/AutoOD/AutoOD-Code-sigmode-revision/autood_cleaning.py:31: UserWarning: Implicit dimension choice for log_softmax has been deprecated. Change the call to include dim=X as an argument.\n",
      "  return F.log_softmax(x)\n"
     ]
    },
    {
     "name": "stdout",
     "output_type": "stream",
     "text": [
      "Final Training Result: Loss 0.00185082\tPrec @ 1 100.000%\n",
      "Final Training Result: Loss 0.00063136\tPrec @ 1 100.000%\n",
      "F-1 score from NN: 0.8079287031346036\n",
      "Precision score from NN: 0.8772105438772105\n",
      "Recall score from NN: 0.7487895186556537\n",
      "Number of points to remove:  2084\n",
      "Number of new points with confidence > 0.9999: 88\n",
      "F-1 before:  0.5691056910569106\n",
      "F-1 after:  0.9767441860465117\n",
      "Number of points with confidence < 1e-05 0\n",
      "##################################################################\n",
      "Iteration = 16\n",
      "F-1 score from SVM: 0.4153554950905004\n",
      "precision from SVM: 0.26211272863008583\n",
      "recall from SVM: 1.0\n",
      "F-1 score from SVM: 0.8820848761036741\n",
      "precision from SVM: 0.8820848761036741\n",
      "recall from SVM: 0.8820848761036741\n"
     ]
    },
    {
     "name": "stderr",
     "output_type": "stream",
     "text": [
      "/Users/yizhouyan/Desktop/AutoOD/AutoOD-Code-sigmode-revision/autood_cleaning.py:31: UserWarning: Implicit dimension choice for log_softmax has been deprecated. Change the call to include dim=X as an argument.\n",
      "  return F.log_softmax(x)\n"
     ]
    },
    {
     "name": "stdout",
     "output_type": "stream",
     "text": [
      "Final Training Result: Loss 0.00148742\tPrec @ 1 100.000%\n",
      "Final Training Result: Loss 0.00051248\tPrec @ 1 100.000%\n",
      "F-1 score from NN: 0.7905569007263922\n",
      "Precision score from NN: 0.8433968356474008\n",
      "Recall score from NN: 0.7439475932782683\n",
      "Number of points to remove:  1795\n",
      "Number of new points with confidence > 0.9999: 137\n",
      "F-1 before:  0.23225806451612904\n",
      "F-1 after:  1.0\n",
      "Number of points with confidence < 1e-05 11\n",
      "##################################################################\n",
      "Iteration = 17\n",
      "F-1 score from SVM: 0.4099959128860863\n",
      "precision from SVM: 0.25785840188014103\n",
      "recall from SVM: 1.0\n",
      "F-1 score from SVM: 0.8840786100825976\n",
      "precision from SVM: 0.8840786100825976\n",
      "recall from SVM: 0.8840786100825976\n"
     ]
    },
    {
     "name": "stderr",
     "output_type": "stream",
     "text": [
      "/Users/yizhouyan/Desktop/AutoOD/AutoOD-Code-sigmode-revision/autood_cleaning.py:31: UserWarning: Implicit dimension choice for log_softmax has been deprecated. Change the call to include dim=X as an argument.\n",
      "  return F.log_softmax(x)\n"
     ]
    },
    {
     "name": "stdout",
     "output_type": "stream",
     "text": [
      "Final Training Result: Loss 0.00207676\tPrec @ 1 100.000%\n",
      "Final Training Result: Loss 0.00044540\tPrec @ 1 100.000%\n",
      "F-1 score from NN: 0.7890752560486863\n",
      "Precision score from NN: 0.8239305641661501\n",
      "Recall score from NN: 0.7570492737111933\n",
      "Number of points to remove:  1545\n",
      "Number of new points with confidence > 0.9999: 83\n",
      "F-1 before:  0.4485981308411215\n",
      "F-1 after:  0.9559748427672956\n",
      "Number of points with confidence < 1e-05 2\n",
      "##################################################################\n",
      "Iteration = 18\n",
      "F-1 score from SVM: 0.34611593059936907\n",
      "precision from SVM: 0.20927460213387375\n",
      "recall from SVM: 1.0\n",
      "F-1 score from SVM: 0.8872116206209057\n",
      "precision from SVM: 0.8872116206209057\n",
      "recall from SVM: 0.8872116206209057\n"
     ]
    },
    {
     "name": "stderr",
     "output_type": "stream",
     "text": [
      "/Users/yizhouyan/Desktop/AutoOD/AutoOD-Code-sigmode-revision/autood_cleaning.py:31: UserWarning: Implicit dimension choice for log_softmax has been deprecated. Change the call to include dim=X as an argument.\n",
      "  return F.log_softmax(x)\n"
     ]
    },
    {
     "name": "stdout",
     "output_type": "stream",
     "text": [
      "Final Training Result: Loss 0.00138012\tPrec @ 1 100.000%\n",
      "Final Training Result: Loss 0.00039697\tPrec @ 1 100.000%\n",
      "F-1 score from NN: 0.7669380433282739\n",
      "Precision score from NN: 0.7438436830835118\n",
      "Recall score from NN: 0.7915123896325833\n",
      "Number of points to remove:  959\n",
      "Number of new points with confidence > 0.9999: 296\n",
      "F-1 before:  0.2275449101796407\n",
      "F-1 after:  0.9428571428571428\n",
      "Number of points with confidence < 1e-05 53\n",
      "##################################################################\n",
      "Iteration = 19\n",
      "F-1 score from SVM: 0.2662975463612575\n",
      "precision from SVM: 0.15360048998162568\n",
      "recall from SVM: 1.0\n",
      "F-1 score from SVM: 0.8892053545998291\n",
      "precision from SVM: 0.8892053545998291\n",
      "recall from SVM: 0.8892053545998291\n"
     ]
    },
    {
     "name": "stderr",
     "output_type": "stream",
     "text": [
      "/Users/yizhouyan/Desktop/AutoOD/AutoOD-Code-sigmode-revision/autood_cleaning.py:31: UserWarning: Implicit dimension choice for log_softmax has been deprecated. Change the call to include dim=X as an argument.\n",
      "  return F.log_softmax(x)\n"
     ]
    },
    {
     "name": "stdout",
     "output_type": "stream",
     "text": [
      "Final Training Result: Loss 0.00152946\tPrec @ 1 100.000%\n",
      "Final Training Result: Loss 0.00028232\tPrec @ 1 100.000%\n",
      "F-1 score from NN: 0.8746673425421367\n",
      "Precision score from NN: 0.7878995433789955\n",
      "Recall score from NN: 0.9829108516092281\n",
      "Number of points to remove:  500\n",
      "Number of new points with confidence > 0.9999: 172\n",
      "F-1 before:  0.10989010989010989\n",
      "F-1 after:  0.9761904761904763\n",
      "Number of points with confidence < 1e-05 42\n",
      "##################################################################\n",
      "Iteration = 20\n",
      "F-1 score from SVM: 0.2115187661907344\n",
      "precision from SVM: 0.1182672550274531\n",
      "recall from SVM: 1.0\n",
      "F-1 score from SVM: 0.8920535459982911\n",
      "precision from SVM: 0.8920535459982911\n",
      "recall from SVM: 0.8920535459982911\n"
     ]
    },
    {
     "name": "stderr",
     "output_type": "stream",
     "text": [
      "/Users/yizhouyan/Desktop/AutoOD/AutoOD-Code-sigmode-revision/autood_cleaning.py:31: UserWarning: Implicit dimension choice for log_softmax has been deprecated. Change the call to include dim=X as an argument.\n",
      "  return F.log_softmax(x)\n"
     ]
    },
    {
     "name": "stdout",
     "output_type": "stream",
     "text": [
      "Final Training Result: Loss 0.00083092\tPrec @ 1 100.000%\n",
      "Final Training Result: Loss 0.00020341\tPrec @ 1 100.000%\n",
      "F-1 score from NN: 0.6991934680872249\n",
      "Precision score from NN: 0.5375076546233926\n",
      "Recall score from NN: 1.0\n",
      "Number of points to remove:  722\n",
      "Number of new points with confidence > 0.9999: 311\n",
      "F-1 before:  0.01910828025477707\n",
      "F-1 after:  0.9869706840390879\n",
      "Number of points with confidence < 1e-05 1\n",
      "##################################################################\n",
      "Iteration = 21\n",
      "F-1 score from SVM: 0.17439463553955048\n",
      "precision from SVM: 0.09552701746748653\n",
      "recall from SVM: 1.0\n",
      "F-1 score from SVM: 0.8914839077185988\n",
      "precision from SVM: 0.8914839077185986\n",
      "recall from SVM: 0.8914839077185986\n"
     ]
    },
    {
     "name": "stderr",
     "output_type": "stream",
     "text": [
      "/Users/yizhouyan/Desktop/AutoOD/AutoOD-Code-sigmode-revision/autood_cleaning.py:31: UserWarning: Implicit dimension choice for log_softmax has been deprecated. Change the call to include dim=X as an argument.\n",
      "  return F.log_softmax(x)\n"
     ]
    },
    {
     "name": "stdout",
     "output_type": "stream",
     "text": [
      "Final Training Result: Loss 0.00101732\tPrec @ 1 100.000%\n",
      "Final Training Result: Loss 0.00026407\tPrec @ 1 100.000%\n",
      "F-1 score from NN: 0.8629042173859586\n",
      "Precision score from NN: 0.7591951536131545\n",
      "Recall score from NN: 0.9994303617203076\n",
      "Number of points to remove:  614\n",
      "Number of new points with confidence > 0.9999: 461\n",
      "F-1 before:  0.07515657620041755\n",
      "F-1 after:  0.9956427015250544\n",
      "Number of points with confidence < 1e-05 1\n",
      "##################################################################\n",
      "Iteration = 22\n",
      "F-1 score from SVM: 0.1616966403389596\n",
      "precision from SVM: 0.08795971540234493\n",
      "recall from SVM: 1.0\n",
      "F-1 score from SVM: 0.8903446311592139\n",
      "precision from SVM: 0.8903446311592139\n",
      "recall from SVM: 0.8903446311592139\n"
     ]
    },
    {
     "name": "stderr",
     "output_type": "stream",
     "text": [
      "/Users/yizhouyan/Desktop/AutoOD/AutoOD-Code-sigmode-revision/autood_cleaning.py:31: UserWarning: Implicit dimension choice for log_softmax has been deprecated. Change the call to include dim=X as an argument.\n",
      "  return F.log_softmax(x)\n"
     ]
    },
    {
     "name": "stdout",
     "output_type": "stream",
     "text": [
      "Final Training Result: Loss 0.00107757\tPrec @ 1 100.000%\n",
      "Final Training Result: Loss 0.00024807\tPrec @ 1 100.000%\n",
      "F-1 score from NN: 0.8376476201837051\n",
      "Precision score from NN: 0.7206486042692939\n",
      "Recall score from NN: 1.0\n",
      "Number of points to remove:  506\n",
      "Number of new points with confidence > 0.9999: 20\n",
      "F-1 before:  0.5185185185185185\n",
      "F-1 after:  0.5185185185185185\n",
      "Number of points with confidence < 1e-05 3\n",
      "##################################################################\n",
      "Iteration = 23\n",
      "F-1 score from SVM: 0.15762418909515366\n",
      "precision from SVM: 0.08555485160095522\n",
      "recall from SVM: 1.0\n",
      "F-1 score from SVM: 0.9000284819139847\n",
      "precision from SVM: 0.9000284819139847\n",
      "recall from SVM: 0.9000284819139847\n"
     ]
    },
    {
     "name": "stderr",
     "output_type": "stream",
     "text": [
      "/Users/yizhouyan/Desktop/AutoOD/AutoOD-Code-sigmode-revision/autood_cleaning.py:31: UserWarning: Implicit dimension choice for log_softmax has been deprecated. Change the call to include dim=X as an argument.\n",
      "  return F.log_softmax(x)\n"
     ]
    },
    {
     "name": "stdout",
     "output_type": "stream",
     "text": [
      "Final Training Result: Loss 0.00175616\tPrec @ 1 100.000%\n",
      "Final Training Result: Loss 0.00025325\tPrec @ 1 100.000%\n",
      "F-1 score from NN: 0.5543975998736775\n",
      "Precision score from NN: 0.3835062807209175\n",
      "Recall score from NN: 1.0\n",
      "Number of points to remove:  610\n",
      "Number of new points with confidence > 0.9999: 121\n",
      "F-1 before:  0.7329842931937173\n",
      "F-1 after:  0.7329842931937173\n",
      "Number of points with confidence < 1e-05 0\n",
      "##################################################################\n",
      "Iteration = 24\n",
      "F-1 score from SVM: 0.15316494350652185\n",
      "precision from SVM: 0.08293374276603284\n",
      "recall from SVM: 1.0\n",
      "F-1 score from SVM: 0.9031614924522929\n",
      "precision from SVM: 0.9031614924522928\n",
      "recall from SVM: 0.9031614924522928\n"
     ]
    },
    {
     "name": "stderr",
     "output_type": "stream",
     "text": [
      "/Users/yizhouyan/Desktop/AutoOD/AutoOD-Code-sigmode-revision/autood_cleaning.py:31: UserWarning: Implicit dimension choice for log_softmax has been deprecated. Change the call to include dim=X as an argument.\n",
      "  return F.log_softmax(x)\n"
     ]
    },
    {
     "name": "stdout",
     "output_type": "stream",
     "text": [
      "Final Training Result: Loss 0.00128971\tPrec @ 1 100.000%\n",
      "Final Training Result: Loss 0.00031862\tPrec @ 1 100.000%\n",
      "F-1 score from NN: 0.7742006615214995\n",
      "Precision score from NN: 0.6315884151825868\n",
      "Recall score from NN: 1.0\n",
      "Number of points to remove:  245\n",
      "Number of new points with confidence > 0.9999: 3\n",
      "F-1 before:  0.8\n",
      "F-1 after:  0.8\n",
      "Number of points with confidence < 1e-05 0\n",
      "##################################################################\n",
      "Iteration = 25\n",
      "F-1 score from SVM: 0.15137535569543847\n",
      "precision from SVM: 0.08188539310119644\n",
      "recall from SVM: 1.0\n",
      "F-1 score from SVM: 0.8946169182569067\n",
      "precision from SVM: 0.8946169182569068\n",
      "recall from SVM: 0.8946169182569068\n"
     ]
    },
    {
     "name": "stderr",
     "output_type": "stream",
     "text": [
      "/Users/yizhouyan/Desktop/AutoOD/AutoOD-Code-sigmode-revision/autood_cleaning.py:31: UserWarning: Implicit dimension choice for log_softmax has been deprecated. Change the call to include dim=X as an argument.\n",
      "  return F.log_softmax(x)\n"
     ]
    },
    {
     "name": "stdout",
     "output_type": "stream",
     "text": [
      "Final Training Result: Loss 0.00083883\tPrec @ 1 100.000%\n",
      "Final Training Result: Loss 0.00025424\tPrec @ 1 100.000%\n",
      "F-1 score from NN: 0.7613574758755286\n",
      "Precision score from NN: 0.614670868347339\n",
      "Recall score from NN: 1.0\n",
      "Number of points to remove:  377\n",
      "Number of new points with confidence > 0.9999: 10\n",
      "F-1 before:  0.888888888888889\n",
      "F-1 after:  0.888888888888889\n",
      "Number of points with confidence < 1e-05 0\n",
      "##################################################################\n",
      "Iteration = 26\n",
      "F-1 score from SVM: 0.1499274062686822\n",
      "precision from SVM: 0.08103866128101558\n",
      "recall from SVM: 1.0\n",
      "F-1 score from SVM: 0.8923383651381372\n",
      "precision from SVM: 0.8923383651381372\n",
      "recall from SVM: 0.8923383651381372\n"
     ]
    },
    {
     "name": "stderr",
     "output_type": "stream",
     "text": [
      "/Users/yizhouyan/Desktop/AutoOD/AutoOD-Code-sigmode-revision/autood_cleaning.py:31: UserWarning: Implicit dimension choice for log_softmax has been deprecated. Change the call to include dim=X as an argument.\n",
      "  return F.log_softmax(x)\n"
     ]
    },
    {
     "name": "stdout",
     "output_type": "stream",
     "text": [
      "Final Training Result: Loss 0.03828231\tPrec @ 1 100.000%\n",
      "Final Training Result: Loss 0.00024367\tPrec @ 1 100.000%\n",
      "F-1 score from NN: 0.6783230293663061\n",
      "Precision score from NN: 0.5132290600789359\n",
      "Recall score from NN: 1.0\n",
      "Number of points to remove:  280\n",
      "Number of new points with confidence > 0.9999: 75\n",
      "F-1 before:  0.6486486486486486\n",
      "F-1 after:  0.717948717948718\n",
      "Number of points with confidence < 1e-05 0\n",
      "##################################################################\n",
      "Iteration = 27\n",
      "F-1 score from SVM: 0.14900163388291213\n",
      "precision from SVM: 0.08049798239178284\n",
      "recall from SVM: 1.0\n",
      "F-1 score from SVM: 0.894901737396753\n",
      "precision from SVM: 0.894901737396753\n",
      "recall from SVM: 0.894901737396753\n"
     ]
    },
    {
     "name": "stderr",
     "output_type": "stream",
     "text": [
      "/Users/yizhouyan/Desktop/AutoOD/AutoOD-Code-sigmode-revision/autood_cleaning.py:31: UserWarning: Implicit dimension choice for log_softmax has been deprecated. Change the call to include dim=X as an argument.\n",
      "  return F.log_softmax(x)\n"
     ]
    },
    {
     "name": "stdout",
     "output_type": "stream",
     "text": [
      "Final Training Result: Loss 0.00308074\tPrec @ 1 100.000%\n",
      "Final Training Result: Loss 0.00029772\tPrec @ 1 100.000%\n",
      "F-1 score from NN: 0.3258771115648784\n",
      "Precision score from NN: 0.19465543050396408\n",
      "Recall score from NN: 1.0\n",
      "Number of points to remove:  263\n",
      "Number of new points with confidence > 0.9999: 176\n",
      "F-1 before:  0.782006920415225\n",
      "F-1 after:  0.8534201954397395\n",
      "Number of points with confidence < 1e-05 0\n",
      "##################################################################\n",
      "Iteration = 28\n",
      "F-1 score from SVM: 0.1478845060337384\n",
      "precision from SVM: 0.0798462658055126\n",
      "recall from SVM: 1.0\n",
      "F-1 score from SVM: 0.9290800341782968\n",
      "precision from SVM: 0.9290800341782968\n",
      "recall from SVM: 0.9290800341782968\n"
     ]
    },
    {
     "name": "stderr",
     "output_type": "stream",
     "text": [
      "/Users/yizhouyan/Desktop/AutoOD/AutoOD-Code-sigmode-revision/autood_cleaning.py:31: UserWarning: Implicit dimension choice for log_softmax has been deprecated. Change the call to include dim=X as an argument.\n",
      "  return F.log_softmax(x)\n"
     ]
    },
    {
     "name": "stdout",
     "output_type": "stream",
     "text": [
      "Final Training Result: Loss 0.00235740\tPrec @ 1 99.978%\n",
      "Final Training Result: Loss 0.00031014\tPrec @ 1 100.000%\n",
      "F-1 score from NN: 0.3719870742173015\n",
      "Precision score from NN: 0.2284914746843681\n",
      "Recall score from NN: 1.0\n",
      "Number of points to remove:  240\n",
      "Number of new points with confidence > 0.9999: 3\n",
      "F-1 before:  1.0\n",
      "F-1 after:  1.0\n",
      "Number of points with confidence < 1e-05 0\n",
      "##################################################################\n",
      "Iteration = 29\n",
      "F-1 score from SVM: 0.14672879620536183\n",
      "precision from SVM: 0.07917286790240383\n",
      "recall from SVM: 1.0\n",
      "F-1 score from SVM: 0.9313585872970663\n",
      "precision from SVM: 0.9313585872970663\n",
      "recall from SVM: 0.9313585872970663\n"
     ]
    },
    {
     "name": "stderr",
     "output_type": "stream",
     "text": [
      "/Users/yizhouyan/Desktop/AutoOD/AutoOD-Code-sigmode-revision/autood_cleaning.py:31: UserWarning: Implicit dimension choice for log_softmax has been deprecated. Change the call to include dim=X as an argument.\n",
      "  return F.log_softmax(x)\n"
     ]
    },
    {
     "name": "stdout",
     "output_type": "stream",
     "text": [
      "Final Training Result: Loss 0.00162288\tPrec @ 1 100.000%\n",
      "Final Training Result: Loss 0.00110309\tPrec @ 1 100.000%\n",
      "F-1 score from NN: 0.3857393979345199\n",
      "Precision score from NN: 0.23895732661811747\n",
      "Recall score from NN: 1.0\n",
      "Number of points to remove:  202\n",
      "Number of new points with confidence > 0.9999: 163\n",
      "F-1 before:  0.22500000000000003\n",
      "F-1 after:  0.4097560975609756\n",
      "Number of points with confidence < 1e-05 0\n"
     ]
    }
   ],
   "source": [
    "from autood_cleaning import autood_cleaning\n",
    "autood_cleaning(X, y, L, ratio_to_remove=0.05, max_iteration=30, separate_inline_outlier=True, show_metrics=True, inlier=0.00001, outlier=0.9999, early_stop=False)"
   ]
  },
  {
   "cell_type": "markdown",
   "metadata": {},
   "source": [
    "### Load mulcross dataset"
   ]
  },
  {
   "cell_type": "code",
   "execution_count": 88,
   "metadata": {},
   "outputs": [
    {
     "name": "stdout",
     "output_type": "stream",
     "text": [
      "(262144, 4) (262144,)\n",
      "26214\n",
      "0.09999847412109375\n"
     ]
    }
   ],
   "source": [
    "filename = './mulcross.arff'\n",
    "\n",
    "with open(filename, 'r') as f:\n",
    "    data, meta = arff.loadarff(f)\n",
    "data = pd.DataFrame(data)\n",
    "X = data.drop(columns=['Target'])\n",
    "y = data[\"Target\"].map(lambda x: 1 if x == b'Anomaly' else 0).values\n",
    "# X, y = load_dataset(filename=filename)\n",
    "print(np.shape(X), np.shape(y))\n",
    "print(sum(y))\n",
    "print(sum(y)/len(y))\n",
    "lof_krange = list(range(10,110,10)) * 6\n",
    "knn_krange = list(range(10,110,10)) * 6\n",
    "if_range = [0.5, 0.6, 0.7, 0.8, 0.9] * 6\n",
    "mahalanobis_N_range=[20000, 22000, 24000, 26000, 28000, 30000]\n",
    "# mahalanobis_N_range = [20, 40, 60,80, 100,120]\n",
    "if_N_range = np.sort(mahalanobis_N_range * 5)\n",
    "N_range = np.sort(mahalanobis_N_range *10)"
   ]
  },
  {
   "cell_type": "code",
   "execution_count": 89,
   "metadata": {},
   "outputs": [
    {
     "name": "stdout",
     "output_type": "stream",
     "text": [
      "autood_utils.autood_preprocessing : 96.55249163700046\n"
     ]
    }
   ],
   "source": [
    "L, scores = autood_preprocessing(X,y,lof_krange,knn_krange,if_range, mahalanobis_N_range,if_N_range,N_range)"
   ]
  },
  {
   "cell_type": "code",
   "execution_count": 97,
   "metadata": {},
   "outputs": [
    {
     "name": "stdout",
     "output_type": "stream",
     "text": [
      "##################################################################\n",
      "Iteration = 0\n",
      "F-1 score from SVM: 0.0\n",
      "precision from SVM: 0.0\n",
      "recall from SVM: 0.0\n",
      "F-1 score from SVM: 0.09536888685435263\n",
      "precision from SVM: 0.09536888685435263\n",
      "recall from SVM: 0.09536888685435263\n"
     ]
    },
    {
     "name": "stderr",
     "output_type": "stream",
     "text": [
      "/Users/yizhouyan/Desktop/AutoOD/AutoOD-Code-sigmode-revision/autood_cleaning.py:31: UserWarning: Implicit dimension choice for log_softmax has been deprecated. Change the call to include dim=X as an argument.\n",
      "  return F.log_softmax(x)\n"
     ]
    },
    {
     "name": "stdout",
     "output_type": "stream",
     "text": [
      "Final Training Result: Loss 0.07667535\tPrec @ 1 97.005%\n",
      "Final Training Result: Loss 0.07135088\tPrec @ 1 97.195%\n",
      "F-1 score from NN: 0.0\n",
      "Precision score from NN: 0.0\n",
      "Recall score from NN: 0.0\n",
      "Number of points to remove:  32521\n",
      "Number of new points with confidence > 0.9999: 0\n",
      "Number of points with confidence < 1e-05 0\n",
      "##################################################################\n",
      "Iteration = 1\n",
      "F-1 score from SVM: 0.7063102872231503\n",
      "precision from SVM: 0.5459657599866705\n",
      "recall from SVM: 1.0\n",
      "F-1 score from SVM: 0.0\n"
     ]
    },
    {
     "name": "stderr",
     "output_type": "stream",
     "text": [
      "/usr/local/lib/python3.7/site-packages/sklearn/metrics/_classification.py:1272: UndefinedMetricWarning: Precision is ill-defined and being set to 0.0 due to no predicted samples. Use `zero_division` parameter to control this behavior.\n",
      "  _warn_prf(average, modifier, msg_start, len(result))\n",
      "/Users/yizhouyan/Desktop/AutoOD/AutoOD-Code-sigmode-revision/autood_cleaning.py:31: UserWarning: Implicit dimension choice for log_softmax has been deprecated. Change the call to include dim=X as an argument.\n",
      "  return F.log_softmax(x)\n"
     ]
    },
    {
     "name": "stdout",
     "output_type": "stream",
     "text": [
      "precision from SVM: 0.0\n",
      "recall from SVM: 0.0\n",
      "Final Training Result: Loss 0.00920403\tPrec @ 1 99.671%\n",
      "Final Training Result: Loss 0.00640134\tPrec @ 1 99.742%\n",
      "F-1 score from NN: 0.7185264369706439\n",
      "Precision score from NN: 0.5607032854209446\n",
      "Recall score from NN: 1.0\n",
      "Number of points to remove:  4125\n",
      "Number of new points with confidence > 0.9999: 26214\n",
      "F-1 before:  0.29419228892142507\n",
      "F-1 after:  1.0\n",
      "Number of points with confidence < 1e-05 4\n",
      "##################################################################\n",
      "Iteration = 2\n",
      "F-1 score from SVM: 0.6969676827566037\n",
      "precision from SVM: 0.5348813483237773\n",
      "recall from SVM: 1.0\n",
      "F-1 score from SVM: 0.0\n"
     ]
    },
    {
     "name": "stderr",
     "output_type": "stream",
     "text": [
      "/usr/local/lib/python3.7/site-packages/sklearn/metrics/_classification.py:1272: UndefinedMetricWarning: Precision is ill-defined and being set to 0.0 due to no predicted samples. Use `zero_division` parameter to control this behavior.\n",
      "  _warn_prf(average, modifier, msg_start, len(result))\n",
      "/Users/yizhouyan/Desktop/AutoOD/AutoOD-Code-sigmode-revision/autood_cleaning.py:31: UserWarning: Implicit dimension choice for log_softmax has been deprecated. Change the call to include dim=X as an argument.\n",
      "  return F.log_softmax(x)\n"
     ]
    },
    {
     "name": "stdout",
     "output_type": "stream",
     "text": [
      "precision from SVM: 0.0\n",
      "recall from SVM: 0.0\n",
      "Final Training Result: Loss 0.00203661\tPrec @ 1 99.959%\n",
      "Final Training Result: Loss 0.00351002\tPrec @ 1 99.867%\n",
      "F-1 score from NN: 0.6801323214633198\n",
      "Precision score from NN: 0.5153034145190777\n",
      "Recall score from NN: 1.0\n",
      "Number of points to remove:  2407\n",
      "Number of new points with confidence > 0.9999: 154\n",
      "F-1 before:  0.0\n",
      "F-1 after:  0.0\n",
      "Number of points with confidence < 1e-05 0\n",
      "##################################################################\n",
      "Iteration = 3\n",
      "F-1 score from SVM: 0.6985370533216083\n",
      "precision from SVM: 0.5367321867321867\n",
      "recall from SVM: 1.0\n",
      "F-1 score from SVM: 0.0\n"
     ]
    },
    {
     "name": "stderr",
     "output_type": "stream",
     "text": [
      "/usr/local/lib/python3.7/site-packages/sklearn/metrics/_classification.py:1272: UndefinedMetricWarning: Precision is ill-defined and being set to 0.0 due to no predicted samples. Use `zero_division` parameter to control this behavior.\n",
      "  _warn_prf(average, modifier, msg_start, len(result))\n",
      "/Users/yizhouyan/Desktop/AutoOD/AutoOD-Code-sigmode-revision/autood_cleaning.py:31: UserWarning: Implicit dimension choice for log_softmax has been deprecated. Change the call to include dim=X as an argument.\n",
      "  return F.log_softmax(x)\n"
     ]
    },
    {
     "name": "stdout",
     "output_type": "stream",
     "text": [
      "precision from SVM: 0.0\n",
      "recall from SVM: 0.0\n",
      "Final Training Result: Loss 0.00134255\tPrec @ 1 99.992%\n",
      "Final Training Result: Loss 0.00050914\tPrec @ 1 100.000%\n",
      "F-1 score from NN: 0.6942726610607164\n",
      "Precision score from NN: 0.5317133526703313\n",
      "Recall score from NN: 1.0\n",
      "Number of points to remove:  3957\n",
      "Number of new points with confidence > 0.9999: 23\n",
      "F-1 before:  0.0\n",
      "F-1 after:  0.0\n",
      "Number of points with confidence < 1e-05 0\n",
      "##################################################################\n",
      "Iteration = 4\n",
      "F-1 score from SVM: 0.6973755969087112\n",
      "precision from SVM: 0.5353619932604922\n",
      "recall from SVM: 1.0\n",
      "F-1 score from SVM: 0.0\n"
     ]
    },
    {
     "name": "stderr",
     "output_type": "stream",
     "text": [
      "/usr/local/lib/python3.7/site-packages/sklearn/metrics/_classification.py:1272: UndefinedMetricWarning: Precision is ill-defined and being set to 0.0 due to no predicted samples. Use `zero_division` parameter to control this behavior.\n",
      "  _warn_prf(average, modifier, msg_start, len(result))\n",
      "/Users/yizhouyan/Desktop/AutoOD/AutoOD-Code-sigmode-revision/autood_cleaning.py:31: UserWarning: Implicit dimension choice for log_softmax has been deprecated. Change the call to include dim=X as an argument.\n",
      "  return F.log_softmax(x)\n"
     ]
    },
    {
     "name": "stdout",
     "output_type": "stream",
     "text": [
      "precision from SVM: 0.0\n",
      "recall from SVM: 0.0\n",
      "Final Training Result: Loss 0.00065303\tPrec @ 1 100.000%\n",
      "Final Training Result: Loss 0.00033487\tPrec @ 1 100.000%\n",
      "F-1 score from NN: 0.6998985422117798\n",
      "Precision score from NN: 0.5383414794430526\n",
      "Recall score from NN: 1.0\n",
      "Number of points to remove:  4748\n",
      "Number of new points with confidence > 0.9999: 1\n",
      "F-1 before:  0.0\n",
      "F-1 after:  0.0\n",
      "Number of points with confidence < 1e-05 0\n",
      "##################################################################\n",
      "Iteration = 5\n",
      "F-1 score from SVM: 0.6962919677008076\n",
      "precision from SVM: 0.5340858155739375\n",
      "recall from SVM: 1.0\n",
      "F-1 score from SVM: 0.0\n"
     ]
    },
    {
     "name": "stderr",
     "output_type": "stream",
     "text": [
      "/usr/local/lib/python3.7/site-packages/sklearn/metrics/_classification.py:1272: UndefinedMetricWarning: Precision is ill-defined and being set to 0.0 due to no predicted samples. Use `zero_division` parameter to control this behavior.\n",
      "  _warn_prf(average, modifier, msg_start, len(result))\n",
      "/Users/yizhouyan/Desktop/AutoOD/AutoOD-Code-sigmode-revision/autood_cleaning.py:31: UserWarning: Implicit dimension choice for log_softmax has been deprecated. Change the call to include dim=X as an argument.\n",
      "  return F.log_softmax(x)\n"
     ]
    },
    {
     "name": "stdout",
     "output_type": "stream",
     "text": [
      "precision from SVM: 0.0\n",
      "recall from SVM: 0.0\n",
      "Final Training Result: Loss 0.00051735\tPrec @ 1 100.000%\n",
      "Final Training Result: Loss 0.00031224\tPrec @ 1 100.000%\n",
      "F-1 score from NN: 0.7058443394321257\n",
      "Precision score from NN: 0.545409150489982\n",
      "Recall score from NN: 1.0\n",
      "Number of points to remove:  5278\n",
      "Number of new points with confidence > 0.9999: 0\n",
      "Number of points with confidence < 1e-05 0\n",
      "##################################################################\n",
      "Iteration = 6\n",
      "F-1 score from SVM: 0.6936296884302441\n",
      "precision from SVM: 0.5309594701342893\n",
      "recall from SVM: 1.0\n",
      "F-1 score from SVM: 0.0\n"
     ]
    },
    {
     "name": "stderr",
     "output_type": "stream",
     "text": [
      "/usr/local/lib/python3.7/site-packages/sklearn/metrics/_classification.py:1272: UndefinedMetricWarning: Precision is ill-defined and being set to 0.0 due to no predicted samples. Use `zero_division` parameter to control this behavior.\n",
      "  _warn_prf(average, modifier, msg_start, len(result))\n",
      "/Users/yizhouyan/Desktop/AutoOD/AutoOD-Code-sigmode-revision/autood_cleaning.py:31: UserWarning: Implicit dimension choice for log_softmax has been deprecated. Change the call to include dim=X as an argument.\n",
      "  return F.log_softmax(x)\n"
     ]
    },
    {
     "name": "stdout",
     "output_type": "stream",
     "text": [
      "precision from SVM: 0.0\n",
      "recall from SVM: 0.0\n",
      "Final Training Result: Loss 0.00040938\tPrec @ 1 100.000%\n",
      "Final Training Result: Loss 0.00024740\tPrec @ 1 100.000%\n",
      "F-1 score from NN: 0.6954699210718313\n",
      "Precision score from NN: 0.5331191149254642\n",
      "Recall score from NN: 1.0\n",
      "Number of points to remove:  7341\n",
      "Number of new points with confidence > 0.9999: 0\n",
      "Number of points with confidence < 1e-05 0\n",
      "##################################################################\n",
      "Iteration = 7\n",
      "F-1 score from SVM: 0.690723686810798\n",
      "precision from SVM: 0.52756143210771\n",
      "recall from SVM: 1.0\n",
      "F-1 score from SVM: 0.0\n"
     ]
    },
    {
     "name": "stderr",
     "output_type": "stream",
     "text": [
      "/usr/local/lib/python3.7/site-packages/sklearn/metrics/_classification.py:1272: UndefinedMetricWarning: Precision is ill-defined and being set to 0.0 due to no predicted samples. Use `zero_division` parameter to control this behavior.\n",
      "  _warn_prf(average, modifier, msg_start, len(result))\n",
      "/Users/yizhouyan/Desktop/AutoOD/AutoOD-Code-sigmode-revision/autood_cleaning.py:31: UserWarning: Implicit dimension choice for log_softmax has been deprecated. Change the call to include dim=X as an argument.\n",
      "  return F.log_softmax(x)\n"
     ]
    },
    {
     "name": "stdout",
     "output_type": "stream",
     "text": [
      "precision from SVM: 0.0\n",
      "recall from SVM: 0.0\n",
      "Final Training Result: Loss 0.00034903\tPrec @ 1 100.000%\n",
      "Final Training Result: Loss 0.00020881\tPrec @ 1 100.000%\n",
      "F-1 score from NN: 0.6924296053674257\n",
      "Precision score from NN: 0.5295543614399418\n",
      "Recall score from NN: 1.0\n",
      "Number of points to remove:  7164\n",
      "Number of new points with confidence > 0.9999: 0\n",
      "Number of points with confidence < 1e-05 0\n",
      "##################################################################\n",
      "Iteration = 8\n",
      "F-1 score from SVM: 0.6903235150828868\n",
      "precision from SVM: 0.5270946856212173\n",
      "recall from SVM: 1.0\n",
      "F-1 score from SVM: 0.0\n"
     ]
    },
    {
     "name": "stderr",
     "output_type": "stream",
     "text": [
      "/usr/local/lib/python3.7/site-packages/sklearn/metrics/_classification.py:1272: UndefinedMetricWarning: Precision is ill-defined and being set to 0.0 due to no predicted samples. Use `zero_division` parameter to control this behavior.\n",
      "  _warn_prf(average, modifier, msg_start, len(result))\n",
      "/Users/yizhouyan/Desktop/AutoOD/AutoOD-Code-sigmode-revision/autood_cleaning.py:31: UserWarning: Implicit dimension choice for log_softmax has been deprecated. Change the call to include dim=X as an argument.\n",
      "  return F.log_softmax(x)\n"
     ]
    },
    {
     "name": "stdout",
     "output_type": "stream",
     "text": [
      "precision from SVM: 0.0\n",
      "recall from SVM: 0.0\n",
      "Final Training Result: Loss 0.00028097\tPrec @ 1 100.000%\n",
      "Final Training Result: Loss 0.00018168\tPrec @ 1 100.000%\n",
      "F-1 score from NN: 0.6906054059750251\n",
      "Precision score from NN: 0.5274234437245986\n",
      "Recall score from NN: 1.0\n",
      "Number of points to remove:  8617\n",
      "Number of new points with confidence > 0.9999: 0\n",
      "Number of points with confidence < 1e-05 0\n",
      "##################################################################\n",
      "Iteration = 9\n",
      "F-1 score from SVM: 0.6852348028388074\n",
      "precision from SVM: 0.5211841660536414\n",
      "recall from SVM: 1.0\n",
      "F-1 score from SVM: 0.0\n"
     ]
    },
    {
     "name": "stderr",
     "output_type": "stream",
     "text": [
      "/usr/local/lib/python3.7/site-packages/sklearn/metrics/_classification.py:1272: UndefinedMetricWarning: Precision is ill-defined and being set to 0.0 due to no predicted samples. Use `zero_division` parameter to control this behavior.\n",
      "  _warn_prf(average, modifier, msg_start, len(result))\n",
      "/Users/yizhouyan/Desktop/AutoOD/AutoOD-Code-sigmode-revision/autood_cleaning.py:31: UserWarning: Implicit dimension choice for log_softmax has been deprecated. Change the call to include dim=X as an argument.\n",
      "  return F.log_softmax(x)\n"
     ]
    },
    {
     "name": "stdout",
     "output_type": "stream",
     "text": [
      "precision from SVM: 0.0\n",
      "recall from SVM: 0.0\n",
      "Final Training Result: Loss 0.00025043\tPrec @ 1 100.000%\n",
      "Final Training Result: Loss 0.00016379\tPrec @ 1 100.000%\n",
      "F-1 score from NN: 0.690714586846543\n",
      "Precision score from NN: 0.5275508150533307\n",
      "Recall score from NN: 1.0\n",
      "Number of points to remove:  9576\n",
      "Number of new points with confidence > 0.9999: 0\n",
      "Number of points with confidence < 1e-05 0\n",
      "##################################################################\n",
      "Iteration = 10\n",
      "F-1 score from SVM: 0.6834571763785686\n",
      "precision from SVM: 0.5191302281368821\n",
      "recall from SVM: 1.0\n",
      "F-1 score from SVM: 0.0\n"
     ]
    },
    {
     "name": "stderr",
     "output_type": "stream",
     "text": [
      "/usr/local/lib/python3.7/site-packages/sklearn/metrics/_classification.py:1272: UndefinedMetricWarning: Precision is ill-defined and being set to 0.0 due to no predicted samples. Use `zero_division` parameter to control this behavior.\n",
      "  _warn_prf(average, modifier, msg_start, len(result))\n",
      "/Users/yizhouyan/Desktop/AutoOD/AutoOD-Code-sigmode-revision/autood_cleaning.py:31: UserWarning: Implicit dimension choice for log_softmax has been deprecated. Change the call to include dim=X as an argument.\n",
      "  return F.log_softmax(x)\n"
     ]
    },
    {
     "name": "stdout",
     "output_type": "stream",
     "text": [
      "precision from SVM: 0.0\n",
      "recall from SVM: 0.0\n",
      "Final Training Result: Loss 0.00023338\tPrec @ 1 100.000%\n",
      "Final Training Result: Loss 0.00015093\tPrec @ 1 100.000%\n",
      "F-1 score from NN: 0.6938224551373671\n",
      "Precision score from NN: 0.5311854103343465\n",
      "Recall score from NN: 1.0\n",
      "Number of points to remove:  10743\n",
      "Number of new points with confidence > 0.9999: 0\n",
      "Number of points with confidence < 1e-05 0\n",
      "##################################################################\n",
      "Iteration = 11\n",
      "F-1 score from SVM: 0.6814229454502918\n",
      "precision from SVM: 0.5167865943814687\n",
      "recall from SVM: 1.0\n",
      "F-1 score from SVM: 0.0\n"
     ]
    },
    {
     "name": "stderr",
     "output_type": "stream",
     "text": [
      "/usr/local/lib/python3.7/site-packages/sklearn/metrics/_classification.py:1272: UndefinedMetricWarning: Precision is ill-defined and being set to 0.0 due to no predicted samples. Use `zero_division` parameter to control this behavior.\n",
      "  _warn_prf(average, modifier, msg_start, len(result))\n",
      "/Users/yizhouyan/Desktop/AutoOD/AutoOD-Code-sigmode-revision/autood_cleaning.py:31: UserWarning: Implicit dimension choice for log_softmax has been deprecated. Change the call to include dim=X as an argument.\n",
      "  return F.log_softmax(x)\n"
     ]
    },
    {
     "name": "stdout",
     "output_type": "stream",
     "text": [
      "precision from SVM: 0.0\n",
      "recall from SVM: 0.0\n",
      "Final Training Result: Loss 0.00021170\tPrec @ 1 100.000%\n",
      "Final Training Result: Loss 0.00013830\tPrec @ 1 100.000%\n",
      "F-1 score from NN: 0.6964769647696477\n",
      "Precision score from NN: 0.5343035343035343\n",
      "Recall score from NN: 1.0\n",
      "Number of points to remove:  11034\n",
      "Number of new points with confidence > 0.9999: 2\n",
      "F-1 before:  0.0\n",
      "F-1 after:  0.0\n",
      "Number of points with confidence < 1e-05 0\n",
      "##################################################################\n",
      "Iteration = 12\n",
      "F-1 score from SVM: 0.6783810361782517\n",
      "precision from SVM: 0.5132954767965537\n",
      "recall from SVM: 1.0\n",
      "F-1 score from SVM: 0.0\n"
     ]
    },
    {
     "name": "stderr",
     "output_type": "stream",
     "text": [
      "/usr/local/lib/python3.7/site-packages/sklearn/metrics/_classification.py:1272: UndefinedMetricWarning: Precision is ill-defined and being set to 0.0 due to no predicted samples. Use `zero_division` parameter to control this behavior.\n",
      "  _warn_prf(average, modifier, msg_start, len(result))\n",
      "/Users/yizhouyan/Desktop/AutoOD/AutoOD-Code-sigmode-revision/autood_cleaning.py:31: UserWarning: Implicit dimension choice for log_softmax has been deprecated. Change the call to include dim=X as an argument.\n",
      "  return F.log_softmax(x)\n"
     ]
    },
    {
     "name": "stdout",
     "output_type": "stream",
     "text": [
      "precision from SVM: 0.0\n",
      "recall from SVM: 0.0\n",
      "Final Training Result: Loss 0.00020420\tPrec @ 1 100.000%\n",
      "Final Training Result: Loss 0.00012570\tPrec @ 1 100.000%\n",
      "F-1 score from NN: 0.6982858512806169\n",
      "Precision score from NN: 0.5364356314076985\n",
      "Recall score from NN: 1.0\n",
      "Number of points to remove:  9505\n",
      "Number of new points with confidence > 0.9999: 0\n",
      "Number of points with confidence < 1e-05 0\n",
      "##################################################################\n",
      "Iteration = 13\n",
      "F-1 score from SVM: 0.6800617436083691\n",
      "precision from SVM: 0.5152223903771693\n",
      "recall from SVM: 1.0\n",
      "F-1 score from SVM: 0.0\n"
     ]
    },
    {
     "name": "stderr",
     "output_type": "stream",
     "text": [
      "/usr/local/lib/python3.7/site-packages/sklearn/metrics/_classification.py:1272: UndefinedMetricWarning: Precision is ill-defined and being set to 0.0 due to no predicted samples. Use `zero_division` parameter to control this behavior.\n",
      "  _warn_prf(average, modifier, msg_start, len(result))\n",
      "/Users/yizhouyan/Desktop/AutoOD/AutoOD-Code-sigmode-revision/autood_cleaning.py:31: UserWarning: Implicit dimension choice for log_softmax has been deprecated. Change the call to include dim=X as an argument.\n",
      "  return F.log_softmax(x)\n"
     ]
    },
    {
     "name": "stdout",
     "output_type": "stream",
     "text": [
      "precision from SVM: 0.0\n",
      "recall from SVM: 0.0\n",
      "Final Training Result: Loss 0.00020748\tPrec @ 1 100.000%\n",
      "Final Training Result: Loss 0.00012637\tPrec @ 1 100.000%\n",
      "F-1 score from NN: 0.6973199441377934\n",
      "Precision score from NN: 0.5352963999101509\n",
      "Recall score from NN: 1.0\n",
      "Number of points to remove:  10226\n",
      "Number of new points with confidence > 0.9999: 0\n",
      "Number of points with confidence < 1e-05 0\n",
      "##################################################################\n",
      "Iteration = 14\n",
      "F-1 score from SVM: 0.6778284872070023\n",
      "precision from SVM: 0.5126630551698512\n",
      "recall from SVM: 1.0\n",
      "F-1 score from SVM: 0.0\n"
     ]
    },
    {
     "name": "stderr",
     "output_type": "stream",
     "text": [
      "/usr/local/lib/python3.7/site-packages/sklearn/metrics/_classification.py:1272: UndefinedMetricWarning: Precision is ill-defined and being set to 0.0 due to no predicted samples. Use `zero_division` parameter to control this behavior.\n",
      "  _warn_prf(average, modifier, msg_start, len(result))\n",
      "/Users/yizhouyan/Desktop/AutoOD/AutoOD-Code-sigmode-revision/autood_cleaning.py:31: UserWarning: Implicit dimension choice for log_softmax has been deprecated. Change the call to include dim=X as an argument.\n",
      "  return F.log_softmax(x)\n"
     ]
    },
    {
     "name": "stdout",
     "output_type": "stream",
     "text": [
      "precision from SVM: 0.0\n",
      "recall from SVM: 0.0\n",
      "Final Training Result: Loss 0.00024711\tPrec @ 1 99.999%\n",
      "Final Training Result: Loss 0.00011810\tPrec @ 1 100.000%\n",
      "F-1 score from NN: 0.6937214687396626\n",
      "Precision score from NN: 0.5310670367294018\n",
      "Recall score from NN: 1.0\n",
      "Number of points to remove:  10126\n",
      "Number of new points with confidence > 0.9999: 5\n",
      "F-1 before:  0.0\n",
      "F-1 after:  0.0\n",
      "Number of points with confidence < 1e-05 0\n",
      "##################################################################\n",
      "Iteration = 15\n",
      "F-1 score from SVM: 0.6565153146835633\n",
      "precision from SVM: 0.4886660204309895\n",
      "recall from SVM: 1.0\n",
      "F-1 score from SVM: 0.9998855573357748\n",
      "precision from SVM: 0.9998855573357748\n",
      "recall from SVM: 0.9998855573357748\n"
     ]
    },
    {
     "name": "stderr",
     "output_type": "stream",
     "text": [
      "/Users/yizhouyan/Desktop/AutoOD/AutoOD-Code-sigmode-revision/autood_cleaning.py:31: UserWarning: Implicit dimension choice for log_softmax has been deprecated. Change the call to include dim=X as an argument.\n",
      "  return F.log_softmax(x)\n"
     ]
    },
    {
     "name": "stdout",
     "output_type": "stream",
     "text": [
      "Final Training Result: Loss 0.00022560\tPrec @ 1 100.000%\n",
      "Final Training Result: Loss 0.00011739\tPrec @ 1 100.000%\n",
      "F-1 score from NN: 0.6776007134271644\n",
      "Precision score from NN: 0.5124025098223186\n",
      "Recall score from NN: 1.0\n",
      "Number of points to remove:  9405\n",
      "Number of new points with confidence > 0.9999: 25\n",
      "F-1 before:  0.0\n",
      "F-1 after:  0.0\n",
      "Number of points with confidence < 1e-05 0\n",
      "##################################################################\n",
      "Iteration = 16\n",
      "F-1 score from SVM: 0.6427835809916139\n",
      "precision from SVM: 0.47360433604336044\n",
      "recall from SVM: 1.0\n",
      "F-1 score from SVM: 0.9983596551461051\n",
      "precision from SVM: 0.9983596551461051\n",
      "recall from SVM: 0.9983596551461051\n"
     ]
    },
    {
     "name": "stderr",
     "output_type": "stream",
     "text": [
      "/Users/yizhouyan/Desktop/AutoOD/AutoOD-Code-sigmode-revision/autood_cleaning.py:31: UserWarning: Implicit dimension choice for log_softmax has been deprecated. Change the call to include dim=X as an argument.\n",
      "  return F.log_softmax(x)\n"
     ]
    },
    {
     "name": "stdout",
     "output_type": "stream",
     "text": [
      "Final Training Result: Loss 0.00018959\tPrec @ 1 100.000%\n",
      "Final Training Result: Loss 0.00010808\tPrec @ 1 100.000%\n",
      "F-1 score from NN: 0.6800970307047699\n",
      "Precision score from NN: 0.5152628992628993\n",
      "Recall score from NN: 1.0\n",
      "Number of points to remove:  10304\n",
      "Number of new points with confidence > 0.9999: 7\n",
      "F-1 before:  0.0\n",
      "F-1 after:  0.0\n",
      "Number of points with confidence < 1e-05 69\n",
      "##################################################################\n",
      "Iteration = 17\n",
      "F-1 score from SVM: 0.6389450849440612\n",
      "precision from SVM: 0.4694484240687679\n",
      "recall from SVM: 1.0\n",
      "F-1 score from SVM: 0.9956130312046998\n",
      "precision from SVM: 0.9956130312046998\n",
      "recall from SVM: 0.9956130312046998\n"
     ]
    },
    {
     "name": "stderr",
     "output_type": "stream",
     "text": [
      "/Users/yizhouyan/Desktop/AutoOD/AutoOD-Code-sigmode-revision/autood_cleaning.py:31: UserWarning: Implicit dimension choice for log_softmax has been deprecated. Change the call to include dim=X as an argument.\n",
      "  return F.log_softmax(x)\n"
     ]
    },
    {
     "name": "stdout",
     "output_type": "stream",
     "text": [
      "Final Training Result: Loss 0.00017785\tPrec @ 1 100.000%\n",
      "Final Training Result: Loss 0.00009523\tPrec @ 1 100.000%\n",
      "F-1 score from NN: 0.6890623767841653\n",
      "Precision score from NN: 0.5256256015399422\n",
      "Recall score from NN: 1.0\n",
      "Number of points to remove:  10773\n",
      "Number of new points with confidence > 0.9999: 0\n",
      "Number of points with confidence < 1e-05 0\n",
      "##################################################################\n",
      "Iteration = 18\n",
      "F-1 score from SVM: 0.6428545153577341\n",
      "precision from SVM: 0.4736813574022876\n",
      "recall from SVM: 1.0\n",
      "F-1 score from SVM: 0.9912642099641413\n",
      "precision from SVM: 0.9912642099641413\n",
      "recall from SVM: 0.9912642099641413\n"
     ]
    },
    {
     "name": "stderr",
     "output_type": "stream",
     "text": [
      "/Users/yizhouyan/Desktop/AutoOD/AutoOD-Code-sigmode-revision/autood_cleaning.py:31: UserWarning: Implicit dimension choice for log_softmax has been deprecated. Change the call to include dim=X as an argument.\n",
      "  return F.log_softmax(x)\n"
     ]
    },
    {
     "name": "stdout",
     "output_type": "stream",
     "text": [
      "Final Training Result: Loss 0.00017192\tPrec @ 1 100.000%\n",
      "Final Training Result: Loss 0.00009494\tPrec @ 1 100.000%\n",
      "F-1 score from NN: 0.7138014132255034\n",
      "Precision score from NN: 0.5549698316926008\n",
      "Recall score from NN: 1.0\n",
      "Number of points to remove:  9735\n",
      "Number of new points with confidence > 0.9999: 19\n",
      "F-1 before:  0.0\n",
      "F-1 after:  0.0\n",
      "Number of points with confidence < 1e-05 0\n",
      "##################################################################\n",
      "Iteration = 19\n",
      "F-1 score from SVM: 0.635537129973089\n",
      "precision from SVM: 0.4657782515991471\n",
      "recall from SVM: 1.0\n",
      "F-1 score from SVM: 0.9920271610589761\n",
      "precision from SVM: 0.9920271610589761\n",
      "recall from SVM: 0.9920271610589761\n"
     ]
    },
    {
     "name": "stderr",
     "output_type": "stream",
     "text": [
      "/Users/yizhouyan/Desktop/AutoOD/AutoOD-Code-sigmode-revision/autood_cleaning.py:31: UserWarning: Implicit dimension choice for log_softmax has been deprecated. Change the call to include dim=X as an argument.\n",
      "  return F.log_softmax(x)\n"
     ]
    },
    {
     "name": "stdout",
     "output_type": "stream",
     "text": [
      "Final Training Result: Loss 0.00018527\tPrec @ 1 100.000%\n",
      "Final Training Result: Loss 0.00008747\tPrec @ 1 100.000%\n",
      "F-1 score from NN: 0.7343268530449886\n",
      "Precision score from NN: 0.5801868000531185\n",
      "Recall score from NN: 1.0\n",
      "Number of points to remove:  8877\n",
      "Number of new points with confidence > 0.9999: 2\n",
      "F-1 before:  0.0\n",
      "F-1 after:  0.0\n",
      "Number of points with confidence < 1e-05 0\n",
      "##################################################################\n",
      "Iteration = 20\n",
      "F-1 score from SVM: 0.6411642411642412\n",
      "precision from SVM: 0.4718482252141983\n",
      "recall from SVM: 1.0\n",
      "F-1 score from SVM: 0.9949263752193485\n",
      "precision from SVM: 0.9949263752193485\n",
      "recall from SVM: 0.9949263752193485\n"
     ]
    },
    {
     "name": "stderr",
     "output_type": "stream",
     "text": [
      "/Users/yizhouyan/Desktop/AutoOD/AutoOD-Code-sigmode-revision/autood_cleaning.py:31: UserWarning: Implicit dimension choice for log_softmax has been deprecated. Change the call to include dim=X as an argument.\n",
      "  return F.log_softmax(x)\n"
     ]
    },
    {
     "name": "stdout",
     "output_type": "stream",
     "text": [
      "Final Training Result: Loss 0.00017879\tPrec @ 1 100.000%\n",
      "Final Training Result: Loss 0.00008318\tPrec @ 1 100.000%\n",
      "F-1 score from NN: 0.7485436893203883\n",
      "Precision score from NN: 0.5981380915438325\n",
      "Recall score from NN: 1.0\n",
      "Number of points to remove:  8702\n",
      "Number of new points with confidence > 0.9999: 1\n",
      "F-1 before:  0.0\n",
      "F-1 after:  0.0\n",
      "Number of points with confidence < 1e-05 0\n",
      "##################################################################\n",
      "Iteration = 21\n",
      "F-1 score from SVM: 0.6304170073589533\n",
      "precision from SVM: 0.4602985074626866\n",
      "recall from SVM: 1.0\n",
      "F-1 score from SVM: 0.9900053406576639\n",
      "precision from SVM: 0.9900053406576639\n",
      "recall from SVM: 0.9900053406576639\n"
     ]
    },
    {
     "name": "stderr",
     "output_type": "stream",
     "text": [
      "/Users/yizhouyan/Desktop/AutoOD/AutoOD-Code-sigmode-revision/autood_cleaning.py:31: UserWarning: Implicit dimension choice for log_softmax has been deprecated. Change the call to include dim=X as an argument.\n",
      "  return F.log_softmax(x)\n"
     ]
    },
    {
     "name": "stdout",
     "output_type": "stream",
     "text": [
      "Final Training Result: Loss 0.00024420\tPrec @ 1 100.000%\n",
      "Final Training Result: Loss 0.00008387\tPrec @ 1 100.000%\n",
      "F-1 score from NN: 0.7869236311239193\n",
      "Precision score from NN: 0.6487008166295472\n",
      "Recall score from NN: 1.0\n",
      "Number of points to remove:  7500\n",
      "Number of new points with confidence > 0.9999: 0\n",
      "Number of points with confidence < 1e-05 129\n",
      "##################################################################\n",
      "Iteration = 22\n",
      "F-1 score from SVM: 0.6064545980335454\n",
      "precision from SVM: 0.43518825951258383\n",
      "recall from SVM: 1.0\n",
      "F-1 score from SVM: 0.974059662775616\n",
      "precision from SVM: 0.9740596627756161\n",
      "recall from SVM: 0.9740596627756161\n"
     ]
    },
    {
     "name": "stderr",
     "output_type": "stream",
     "text": [
      "/Users/yizhouyan/Desktop/AutoOD/AutoOD-Code-sigmode-revision/autood_cleaning.py:31: UserWarning: Implicit dimension choice for log_softmax has been deprecated. Change the call to include dim=X as an argument.\n",
      "  return F.log_softmax(x)\n"
     ]
    },
    {
     "name": "stdout",
     "output_type": "stream",
     "text": [
      "Final Training Result: Loss 0.00022531\tPrec @ 1 99.999%\n",
      "Final Training Result: Loss 0.00008391\tPrec @ 1 100.000%\n",
      "F-1 score from NN: 0.800280864574429\n",
      "Precision score from NN: 0.6670568476767266\n",
      "Recall score from NN: 1.0\n",
      "Number of points to remove:  6962\n",
      "Number of new points with confidence > 0.9999: 6\n",
      "F-1 before:  0.0\n",
      "F-1 after:  0.0\n",
      "Number of points with confidence < 1e-05 928\n",
      "##################################################################\n",
      "Iteration = 23\n",
      "F-1 score from SVM: 0.6046361434667282\n",
      "precision from SVM: 0.43331790531605396\n",
      "recall from SVM: 1.0\n",
      "F-1 score from SVM: 0.9729152361333638\n",
      "precision from SVM: 0.9729152361333638\n",
      "recall from SVM: 0.9729152361333638\n"
     ]
    },
    {
     "name": "stderr",
     "output_type": "stream",
     "text": [
      "/Users/yizhouyan/Desktop/AutoOD/AutoOD-Code-sigmode-revision/autood_cleaning.py:31: UserWarning: Implicit dimension choice for log_softmax has been deprecated. Change the call to include dim=X as an argument.\n",
      "  return F.log_softmax(x)\n"
     ]
    },
    {
     "name": "stdout",
     "output_type": "stream",
     "text": [
      "Final Training Result: Loss 0.00019382\tPrec @ 1 100.000%\n",
      "Final Training Result: Loss 0.00007889\tPrec @ 1 100.000%\n",
      "F-1 score from NN: 0.81605080471936\n",
      "Precision score from NN: 0.68926167437947\n",
      "Recall score from NN: 1.0\n",
      "Number of points to remove:  7307\n",
      "Number of new points with confidence > 0.9999: 1\n",
      "F-1 before:  0.0\n",
      "F-1 after:  0.0\n",
      "Number of points with confidence < 1e-05 4\n",
      "##################################################################\n",
      "Iteration = 24\n",
      "F-1 score from SVM: 0.6555302708244768\n",
      "precision from SVM: 0.48757532921657615\n",
      "recall from SVM: 1.0\n",
      "F-1 score from SVM: 0.981879911497673\n",
      "precision from SVM: 0.981879911497673\n",
      "recall from SVM: 0.981879911497673\n"
     ]
    },
    {
     "name": "stderr",
     "output_type": "stream",
     "text": [
      "/Users/yizhouyan/Desktop/AutoOD/AutoOD-Code-sigmode-revision/autood_cleaning.py:31: UserWarning: Implicit dimension choice for log_softmax has been deprecated. Change the call to include dim=X as an argument.\n",
      "  return F.log_softmax(x)\n"
     ]
    },
    {
     "name": "stdout",
     "output_type": "stream",
     "text": [
      "Final Training Result: Loss 0.00025640\tPrec @ 1 100.000%\n",
      "Final Training Result: Loss 0.00008451\tPrec @ 1 100.000%\n",
      "F-1 score from NN: 0.8718383636817162\n",
      "Precision score from NN: 0.772795613336871\n",
      "Recall score from NN: 1.0\n",
      "Number of points to remove:  5081\n",
      "Number of new points with confidence > 0.9999: 0\n",
      "Number of points with confidence < 1e-05 38\n",
      "##################################################################\n",
      "Iteration = 25\n",
      "F-1 score from SVM: 0.7348311772043674\n",
      "precision from SVM: 0.5808166973168192\n",
      "recall from SVM: 1.0\n",
      "F-1 score from SVM: 0.985122453650721\n",
      "precision from SVM: 0.985122453650721\n",
      "recall from SVM: 0.985122453650721\n"
     ]
    },
    {
     "name": "stderr",
     "output_type": "stream",
     "text": [
      "/Users/yizhouyan/Desktop/AutoOD/AutoOD-Code-sigmode-revision/autood_cleaning.py:31: UserWarning: Implicit dimension choice for log_softmax has been deprecated. Change the call to include dim=X as an argument.\n",
      "  return F.log_softmax(x)\n"
     ]
    },
    {
     "name": "stdout",
     "output_type": "stream",
     "text": [
      "Final Training Result: Loss 0.00019260\tPrec @ 1 100.000%\n",
      "Final Training Result: Loss 0.00005910\tPrec @ 1 100.000%\n",
      "F-1 score from NN: 0.9076712660791885\n",
      "Precision score from NN: 0.8309506450692618\n",
      "Recall score from NN: 1.0\n",
      "Number of points to remove:  6623\n",
      "Number of new points with confidence > 0.9999: 0\n",
      "Number of points with confidence < 1e-05 27097\n",
      "##################################################################\n",
      "Iteration = 26\n",
      "F-1 score from SVM: 0.8301086164856392\n",
      "precision from SVM: 0.7095604157644002\n",
      "recall from SVM: 1.0\n",
      "F-1 score from SVM: 0.9929808499275197\n",
      "precision from SVM: 0.9929808499275197\n",
      "recall from SVM: 0.9929808499275197\n"
     ]
    },
    {
     "name": "stderr",
     "output_type": "stream",
     "text": [
      "/Users/yizhouyan/Desktop/AutoOD/AutoOD-Code-sigmode-revision/autood_cleaning.py:31: UserWarning: Implicit dimension choice for log_softmax has been deprecated. Change the call to include dim=X as an argument.\n",
      "  return F.log_softmax(x)\n"
     ]
    },
    {
     "name": "stdout",
     "output_type": "stream",
     "text": [
      "Final Training Result: Loss 0.00012534\tPrec @ 1 100.000%\n",
      "Final Training Result: Loss 0.00005349\tPrec @ 1 100.000%\n",
      "F-1 score from NN: 0.9135071090047394\n",
      "Precision score from NN: 0.8407851690294439\n",
      "Recall score from NN: 1.0\n",
      "Number of points to remove:  8259\n",
      "Number of new points with confidence > 0.9999: 0\n",
      "Number of points with confidence < 1e-05 4228\n",
      "##################################################################\n",
      "Iteration = 27\n",
      "F-1 score from SVM: 0.8938216039279869\n",
      "precision from SVM: 0.8080266321435177\n",
      "recall from SVM: 1.0\n",
      "F-1 score from SVM: 0.9986266880292973\n",
      "precision from SVM: 0.9986266880292973\n",
      "recall from SVM: 0.9986266880292973\n"
     ]
    },
    {
     "name": "stderr",
     "output_type": "stream",
     "text": [
      "/Users/yizhouyan/Desktop/AutoOD/AutoOD-Code-sigmode-revision/autood_cleaning.py:31: UserWarning: Implicit dimension choice for log_softmax has been deprecated. Change the call to include dim=X as an argument.\n",
      "  return F.log_softmax(x)\n"
     ]
    },
    {
     "name": "stdout",
     "output_type": "stream",
     "text": [
      "Final Training Result: Loss 0.00009540\tPrec @ 1 100.000%\n",
      "Final Training Result: Loss 0.00004618\tPrec @ 1 100.000%\n",
      "F-1 score from NN: 0.9412229363398084\n",
      "Precision score from NN: 0.8889717851329354\n",
      "Recall score from NN: 1.0\n",
      "Number of points to remove:  7740\n",
      "Number of new points with confidence > 0.9999: 0\n",
      "Number of points with confidence < 1e-05 701\n",
      "##################################################################\n",
      "Iteration = 28\n",
      "F-1 score from SVM: 0.9999618539004387\n",
      "precision from SVM: 0.9999237107110162\n",
      "recall from SVM: 1.0\n",
      "F-1 score from SVM: 1.0\n",
      "precision from SVM: 1.0\n",
      "recall from SVM: 1.0\n"
     ]
    },
    {
     "name": "stderr",
     "output_type": "stream",
     "text": [
      "/Users/yizhouyan/Desktop/AutoOD/AutoOD-Code-sigmode-revision/autood_cleaning.py:31: UserWarning: Implicit dimension choice for log_softmax has been deprecated. Change the call to include dim=X as an argument.\n",
      "  return F.log_softmax(x)\n"
     ]
    },
    {
     "name": "stdout",
     "output_type": "stream",
     "text": [
      "Final Training Result: Loss 0.00009415\tPrec @ 1 100.000%\n",
      "Final Training Result: Loss 0.00004731\tPrec @ 1 100.000%\n",
      "F-1 score from NN: 0.8924978295286248\n",
      "Precision score from NN: 0.8058655353684405\n",
      "Recall score from NN: 1.0\n",
      "Number of points to remove:  11281\n",
      "Number of new points with confidence > 0.9999: 3797\n",
      "F-1 before:  1.0\n",
      "F-1 after:  1.0\n",
      "Number of points with confidence < 1e-05 303\n",
      "##################################################################\n",
      "Iteration = 29\n",
      "F-1 score from SVM: 0.9999618539004387\n",
      "precision from SVM: 0.9999237107110162\n",
      "recall from SVM: 1.0\n",
      "F-1 score from SVM: 1.0\n",
      "precision from SVM: 1.0\n",
      "recall from SVM: 1.0\n"
     ]
    },
    {
     "name": "stderr",
     "output_type": "stream",
     "text": [
      "/Users/yizhouyan/Desktop/AutoOD/AutoOD-Code-sigmode-revision/autood_cleaning.py:31: UserWarning: Implicit dimension choice for log_softmax has been deprecated. Change the call to include dim=X as an argument.\n",
      "  return F.log_softmax(x)\n"
     ]
    },
    {
     "name": "stdout",
     "output_type": "stream",
     "text": [
      "Final Training Result: Loss 0.00009145\tPrec @ 1 100.000%\n",
      "Final Training Result: Loss 0.00004531\tPrec @ 1 100.000%\n",
      "F-1 score from NN: 0.8638086137015192\n",
      "Precision score from NN: 0.7602668213457077\n",
      "Recall score from NN: 1.0\n",
      "Number of points to remove:  10476\n",
      "Number of new points with confidence > 0.9999: 5153\n",
      "F-1 before:  1.0\n",
      "F-1 after:  1.0\n",
      "Number of points with confidence < 1e-05 133\n"
     ]
    }
   ],
   "source": [
    "from autood_cleaning import autood_cleaning\n",
    "autood_cleaning(X, y, L, ratio_to_remove=0.05, max_iteration=30, separate_inline_outlier=True, show_metrics=True, inlier=0.00001, outlier=0.9999, early_stop=False)"
   ]
  },
  {
   "cell_type": "markdown",
   "metadata": {},
   "source": [
    "### Load SMTP dataset"
   ]
  },
  {
   "cell_type": "code",
   "execution_count": 2,
   "metadata": {},
   "outputs": [
    {
     "name": "stdout",
     "output_type": "stream",
     "text": [
      "95156\n",
      "30.0\n",
      "0.0003152717642607928\n"
     ]
    }
   ],
   "source": [
    "import hdf5storage\n",
    "mat = hdf5storage.loadmat('smtp.mat')\n",
    "X = mat['X']\n",
    "y = mat['y']\n",
    "print(len(y))\n",
    "print(np.sum(y))\n",
    "\n",
    "lof_krange = list(range(10,110,10)) * 6\n",
    "knn_krange = list(range(10,110,10)) * 6\n",
    "if_range = [0.5, 0.6, 0.7, 0.8, 0.9] * 6\n",
    "mahalanobis_N_range=[20, 40, 60, 80, 100, 120]\n",
    "# mahalanobis_N_range = [30, 40, 50, 60, 70,80]\n",
    "# mahalanobis_N_range = [200, 400, 600, 800, 1000, 1200]\n",
    "if_N_range = np.sort(mahalanobis_N_range * 5)\n",
    "N_range = np.sort(mahalanobis_N_range *10)\n",
    "print(np.sum(y)/len(y))"
   ]
  },
  {
   "cell_type": "code",
   "execution_count": 3,
   "metadata": {},
   "outputs": [
    {
     "name": "stdout",
     "output_type": "stream",
     "text": [
      "autood_utils.autood_preprocessing : 27.633552641\n"
     ]
    }
   ],
   "source": [
    "L, scores = autood_preprocessing(X,y,lof_krange,knn_krange,if_range, mahalanobis_N_range,if_N_range,N_range)"
   ]
  },
  {
   "cell_type": "code",
   "execution_count": 5,
   "metadata": {},
   "outputs": [
    {
     "name": "stdout",
     "output_type": "stream",
     "text": [
      "##################################################################\n",
      "Iteration = 0\n",
      "F-1 score from SVM: 0.28571428571428575\n",
      "precision from SVM: 0.5\n",
      "recall from SVM: 0.2\n",
      "F-1 score from SVM: 0.3728813559322034\n",
      "precision from SVM: 0.3793103448275862\n",
      "recall from SVM: 0.36666666666666664\n"
     ]
    },
    {
     "name": "stderr",
     "output_type": "stream",
     "text": [
      "/Users/yizhouyan/Desktop/AutoOD/AutoOD-Code-sigmode-revision/autood_cleaning.py:31: UserWarning: Implicit dimension choice for log_softmax has been deprecated. Change the call to include dim=X as an argument.\n",
      "  return F.log_softmax(x)\n",
      "/usr/local/lib/python3.7/site-packages/torch/nn/_reduction.py:46: UserWarning: size_average and reduce args will be deprecated, please use reduction='none' instead.\n",
      "  warnings.warn(warning.format(ret))\n"
     ]
    },
    {
     "name": "stdout",
     "output_type": "stream",
     "text": [
      "Final Training Result: Prec @ 1 99.988%\n",
      "F-1 score from NN: 0.0\n",
      "Precision score from NN: 0.0\n",
      "Recall score from NN: 0.0\n",
      "Number of points to remove:  2627\n",
      "##################################################################\n",
      "Iteration = 1\n",
      "F-1 score from SVM: 0.6909090909090909\n",
      "precision from SVM: 0.76\n",
      "recall from SVM: 0.6333333333333333\n",
      "F-1 score from SVM: 0.6333333333333333\n",
      "precision from SVM: 0.6333333333333333\n",
      "recall from SVM: 0.6333333333333333\n"
     ]
    },
    {
     "name": "stderr",
     "output_type": "stream",
     "text": [
      "/Users/yizhouyan/Desktop/AutoOD/AutoOD-Code-sigmode-revision/autood_cleaning.py:31: UserWarning: Implicit dimension choice for log_softmax has been deprecated. Change the call to include dim=X as an argument.\n",
      "  return F.log_softmax(x)\n",
      "/usr/local/lib/python3.7/site-packages/torch/nn/_reduction.py:46: UserWarning: size_average and reduce args will be deprecated, please use reduction='none' instead.\n",
      "  warnings.warn(warning.format(ret))\n"
     ]
    },
    {
     "name": "stdout",
     "output_type": "stream",
     "text": [
      "Final Training Result: Prec @ 1 99.989%\n",
      "F-1 score from NN: 0.6333333333333333\n",
      "Precision score from NN: 0.6333333333333333\n",
      "Recall score from NN: 0.6333333333333333\n",
      "Number of points to remove:  15323\n",
      "autood_cleaning.autood_cleaning : 93.33745147900004\n"
     ]
    }
   ],
   "source": [
    "from autood_cleaning import autood_cleaning\n",
    "autood_cleaning(X, y, L, ratio_to_remove=0.05, max_iteration=2, separate_inline_outlier=True, show_metrics=True, inlier=0.0001, outlier=0.9, early_stop=False)"
   ]
  },
  {
   "cell_type": "code",
   "execution_count": 117,
   "metadata": {},
   "outputs": [
    {
     "name": "stdout",
     "output_type": "stream",
     "text": [
      "##################################################################\n",
      "Iteration = 0\n",
      "F-1 score from SVM: 0.3913043478260869\n",
      "precision from SVM: 0.5625\n",
      "recall from SVM: 0.3\n",
      "F-1 score from SVM: 0.36666666666666664\n",
      "precision from SVM: 0.36666666666666664\n",
      "recall from SVM: 0.36666666666666664\n"
     ]
    },
    {
     "name": "stderr",
     "output_type": "stream",
     "text": [
      "/Users/yizhouyan/Desktop/AutoOD/AutoOD-Code-sigmode-revision/autood_cleaning.py:31: UserWarning: Implicit dimension choice for log_softmax has been deprecated. Change the call to include dim=X as an argument.\n",
      "  return F.log_softmax(x)\n"
     ]
    },
    {
     "name": "stdout",
     "output_type": "stream",
     "text": [
      "Final Training Result: Loss 0.00094696\tPrec @ 1 99.989%\n",
      "Final Training Result: Loss 0.00047318\tPrec @ 1 99.989%\n",
      "F-1 score from NN: 0.0\n",
      "Precision score from NN: 0.0\n",
      "Recall score from NN: 0.0\n",
      "Number of points to remove:  3020\n",
      "Number of new points with confidence > 0.9: 0\n",
      "Number of points with confidence < 0.0001 498\n",
      "##################################################################\n",
      "Iteration = 1\n",
      "F-1 score from SVM: 0.6666666666666665\n",
      "precision from SVM: 0.75\n",
      "recall from SVM: 0.6\n",
      "F-1 score from SVM: 0.6666666666666666\n",
      "precision from SVM: 0.6666666666666666\n",
      "recall from SVM: 0.6666666666666666\n"
     ]
    },
    {
     "name": "stderr",
     "output_type": "stream",
     "text": [
      "/Users/yizhouyan/Desktop/AutoOD/AutoOD-Code-sigmode-revision/autood_cleaning.py:31: UserWarning: Implicit dimension choice for log_softmax has been deprecated. Change the call to include dim=X as an argument.\n",
      "  return F.log_softmax(x)\n"
     ]
    },
    {
     "name": "stdout",
     "output_type": "stream",
     "text": [
      "Final Training Result: Loss 0.00038275\tPrec @ 1 100.000%\n",
      "Final Training Result: Loss 0.00004183\tPrec @ 1 100.000%\n",
      "F-1 score from NN: 0.6557377049180327\n",
      "Precision score from NN: 0.6451612903225806\n",
      "Recall score from NN: 0.6666666666666666\n",
      "Number of points to remove:  848\n",
      "Number of new points with confidence > 0.9: 15\n",
      "F-1 before:  0.4444444444444445\n",
      "F-1 after:  0.9655172413793104\n",
      "Number of points with confidence < 0.0001 93\n"
     ]
    }
   ],
   "source": [
    "from autood_cleaning import autood_cleaning\n",
    "autood_cleaning(X, y, L, ratio_to_remove=0.05, max_iteration=2, separate_inline_outlier=True, show_metrics=True, inlier=0.0001, outlier=0.9, early_stop=True)"
   ]
  },
  {
   "cell_type": "markdown",
   "metadata": {},
   "source": [
    "### Load Satimage-2 dataset"
   ]
  },
  {
   "cell_type": "code",
   "execution_count": 3,
   "metadata": {},
   "outputs": [
    {
     "name": "stdout",
     "output_type": "stream",
     "text": [
      "5803\n",
      "71.0\n",
      "0.0122350508357746\n",
      "(5803, 36)\n"
     ]
    }
   ],
   "source": [
    "import hdf5storage\n",
    "mat = hdf5storage.loadmat('satimage-2.mat')\n",
    "X = mat['X']\n",
    "y = mat['y']\n",
    "print(len(y))\n",
    "print(np.sum(y))\n",
    "print(np.sum(y)/len(y))\n",
    "lof_krange = list(range(10,110,10)) * 6\n",
    "knn_krange = list(range(10,110,10)) * 6\n",
    "if_range = [0.5, 0.6, 0.7, 0.8, 0.9] * 6\n",
    "mahalanobis_N_range=[60, 80, 100, 120, 140, 160]\n",
    "# mahalanobis_N_range = [20, 40, 60,80, 100,120]\n",
    "if_N_range = np.sort(mahalanobis_N_range * 5)\n",
    "N_range = np.sort(mahalanobis_N_range *10)\n",
    "print(np.shape(X))"
   ]
  },
  {
   "cell_type": "code",
   "execution_count": null,
   "metadata": {},
   "outputs": [],
   "source": [
    "L, scores = autood_preprocessing(X,y,lof_krange,knn_krange,if_range, mahalanobis_N_range,if_N_range,N_range)"
   ]
  },
  {
   "cell_type": "code",
   "execution_count": 87,
   "metadata": {},
   "outputs": [
    {
     "name": "stdout",
     "output_type": "stream",
     "text": [
      "##################################################################\n",
      "Iteration = 0\n",
      "F-1 score from SVM: 0.5633802816901409\n",
      "precision from SVM: 0.5633802816901409\n",
      "recall from SVM: 0.5633802816901409\n",
      "F-1 score from SVM: 0.5633802816901409\n",
      "precision from SVM: 0.5633802816901409\n",
      "recall from SVM: 0.5633802816901409\n"
     ]
    },
    {
     "name": "stderr",
     "output_type": "stream",
     "text": [
      "/Users/yizhouyan/Desktop/AutoOD/AutoOD-Code-sigmode-revision/autood_cleaning.py:31: UserWarning: Implicit dimension choice for log_softmax has been deprecated. Change the call to include dim=X as an argument.\n",
      "  return F.log_softmax(x)\n"
     ]
    },
    {
     "name": "stdout",
     "output_type": "stream",
     "text": [
      "Final Training Result: Loss 0.05408139\tPrec @ 1 98.708%\n",
      "Final Training Result: Loss 0.03878288\tPrec @ 1 98.708%\n",
      "F-1 score from NN: 0.0\n",
      "Precision score from NN: 0.0\n",
      "Recall score from NN: 0.0\n",
      "Number of points to remove:  751\n",
      "Number of new points with confidence > 0.99: 0\n",
      "Number of points with confidence < 0.001 0\n",
      "##################################################################\n",
      "Iteration = 1\n"
     ]
    },
    {
     "name": "stderr",
     "output_type": "stream",
     "text": [
      "/usr/local/lib/python3.7/site-packages/sklearn/metrics/_classification.py:1272: UndefinedMetricWarning: Precision is ill-defined and being set to 0.0 due to no predicted samples. Use `zero_division` parameter to control this behavior.\n",
      "  _warn_prf(average, modifier, msg_start, len(result))\n",
      "/Users/yizhouyan/Desktop/AutoOD/AutoOD-Code-sigmode-revision/autood_cleaning.py:31: UserWarning: Implicit dimension choice for log_softmax has been deprecated. Change the call to include dim=X as an argument.\n",
      "  return F.log_softmax(x)\n"
     ]
    },
    {
     "name": "stdout",
     "output_type": "stream",
     "text": [
      "F-1 score from SVM: 0.7040816326530612\n",
      "precision from SVM: 0.552\n",
      "recall from SVM: 0.971830985915493\n",
      "F-1 score from SVM: 0.8873239436619719\n",
      "precision from SVM: 0.8873239436619719\n",
      "recall from SVM: 0.8873239436619719\n",
      "Final Training Result: Loss 0.04606332\tPrec @ 1 98.793%\n",
      "Final Training Result: Loss 0.00743141\tPrec @ 1 99.762%\n",
      "F-1 score from NN: 0.6470588235294117\n",
      "Precision score from NN: 0.49624060150375937\n",
      "Recall score from NN: 0.9295774647887324\n",
      "Number of points to remove:  713\n",
      "Number of new points with confidence > 0.99: 24\n",
      "F-1 before:  0.0\n",
      "F-1 after:  1.0\n",
      "Number of points with confidence < 0.001 31\n",
      "##################################################################\n",
      "Iteration = 2\n",
      "F-1 score from SVM: 0.6301369863013699\n",
      "precision from SVM: 0.46621621621621623\n",
      "recall from SVM: 0.971830985915493\n",
      "F-1 score from SVM: 0.9014084507042254\n",
      "precision from SVM: 0.9014084507042254\n",
      "recall from SVM: 0.9014084507042254\n"
     ]
    },
    {
     "name": "stderr",
     "output_type": "stream",
     "text": [
      "/Users/yizhouyan/Desktop/AutoOD/AutoOD-Code-sigmode-revision/autood_cleaning.py:31: UserWarning: Implicit dimension choice for log_softmax has been deprecated. Change the call to include dim=X as an argument.\n",
      "  return F.log_softmax(x)\n"
     ]
    },
    {
     "name": "stdout",
     "output_type": "stream",
     "text": [
      "Final Training Result: Loss 0.04923641\tPrec @ 1 98.339%\n",
      "Final Training Result: Loss 0.00199047\tPrec @ 1 99.977%\n",
      "F-1 score from NN: 0.6280193236714976\n",
      "Precision score from NN: 0.47794117647058826\n",
      "Recall score from NN: 0.9154929577464789\n",
      "Number of points to remove:  758\n",
      "Number of new points with confidence > 0.99: 0\n",
      "Number of points with confidence < 0.001 283\n",
      "##################################################################\n",
      "Iteration = 3\n",
      "F-1 score from SVM: 0.7831325301204819\n",
      "precision from SVM: 0.6842105263157895\n",
      "recall from SVM: 0.9154929577464789\n",
      "F-1 score from SVM: 0.9154929577464789\n",
      "precision from SVM: 0.9154929577464789\n",
      "recall from SVM: 0.9154929577464789\n"
     ]
    },
    {
     "name": "stderr",
     "output_type": "stream",
     "text": [
      "/Users/yizhouyan/Desktop/AutoOD/AutoOD-Code-sigmode-revision/autood_cleaning.py:31: UserWarning: Implicit dimension choice for log_softmax has been deprecated. Change the call to include dim=X as an argument.\n",
      "  return F.log_softmax(x)\n"
     ]
    },
    {
     "name": "stdout",
     "output_type": "stream",
     "text": [
      "Final Training Result: Loss 0.03773220\tPrec @ 1 98.367%\n",
      "Final Training Result: Loss 0.00218831\tPrec @ 1 100.000%\n",
      "F-1 score from NN: 0.7222222222222223\n",
      "Precision score from NN: 0.5963302752293578\n",
      "Recall score from NN: 0.9154929577464789\n",
      "Number of points to remove:  734\n",
      "Number of new points with confidence > 0.99: 0\n",
      "Number of points with confidence < 0.001 11\n",
      "##################################################################\n",
      "Iteration = 4\n",
      "F-1 score from SVM: 0.9051094890510948\n",
      "precision from SVM: 0.9393939393939394\n",
      "recall from SVM: 0.8732394366197183\n",
      "F-1 score from SVM: 0.9014084507042254\n",
      "precision from SVM: 0.9014084507042254\n",
      "recall from SVM: 0.9014084507042254\n"
     ]
    },
    {
     "name": "stderr",
     "output_type": "stream",
     "text": [
      "/Users/yizhouyan/Desktop/AutoOD/AutoOD-Code-sigmode-revision/autood_cleaning.py:31: UserWarning: Implicit dimension choice for log_softmax has been deprecated. Change the call to include dim=X as an argument.\n",
      "  return F.log_softmax(x)\n"
     ]
    },
    {
     "name": "stdout",
     "output_type": "stream",
     "text": [
      "Final Training Result: Loss 0.03807654\tPrec @ 1 98.248%\n",
      "Final Training Result: Loss 0.00157641\tPrec @ 1 100.000%\n",
      "F-1 score from NN: 0.8951048951048951\n",
      "Precision score from NN: 0.8888888888888888\n",
      "Recall score from NN: 0.9014084507042254\n",
      "Number of points to remove:  576\n",
      "Number of new points with confidence > 0.99: 0\n",
      "Number of points with confidence < 0.001 28\n"
     ]
    }
   ],
   "source": [
    "from autood_cleaning import autood_cleaning\n",
    "autood_cleaning(X, y, L, ratio_to_remove=0.05, max_iteration=5, separate_inline_outlier=True, show_metrics=True, inlier=0.001, outlier=0.99, early_stop=True)"
   ]
  },
  {
   "cell_type": "code",
   "execution_count": null,
   "metadata": {},
   "outputs": [],
   "source": []
  },
  {
   "cell_type": "code",
   "execution_count": null,
   "metadata": {},
   "outputs": [],
   "source": []
  },
  {
   "cell_type": "code",
   "execution_count": 67,
   "metadata": {},
   "outputs": [
    {
     "data": {
      "text/plain": [
       "0.29838709677419356"
      ]
     },
     "execution_count": 67,
     "metadata": {},
     "output_type": "execute_result"
    }
   ],
   "source": [
    "# f1=0.2948\n",
    "precision=0.25\n",
    "recall=0.37\n",
    "\n",
    "f1=2*((precision* recall)/(precision+recall))\n",
    "f1"
   ]
  },
  {
   "cell_type": "code",
   "execution_count": null,
   "metadata": {},
   "outputs": [],
   "source": [
    "0.2948 = 2* (())"
   ]
  },
  {
   "cell_type": "code",
   "execution_count": null,
   "metadata": {},
   "outputs": [],
   "source": []
  },
  {
   "cell_type": "code",
   "execution_count": 39,
   "metadata": {},
   "outputs": [],
   "source": [
    "from snorkel.labeling import LabelModel\n",
    "label_model = LabelModel(cardinality=2, verbose=True)\n",
    "label_model.fit(L, seed=123, lr=0.001, n_epochs=5000, class_balance=[0.9,0.1])\n",
    "probs_train = label_model.predict_proba(L=L)"
   ]
  },
  {
   "cell_type": "code",
   "execution_count": 40,
   "metadata": {},
   "outputs": [
    {
     "name": "stdout",
     "output_type": "stream",
     "text": [
      "F1 for snorkel:  0.4344637946837763\n"
     ]
    }
   ],
   "source": [
    "threshold = 0.1\n",
    "predictions = np.full((len(y)), 0)\n",
    "predictions[probs_train[:,1] > threshold] = 1\n",
    "print('F1 for snorkel: ', metrics.f1_score(y, predictions))\n",
    "snorkel_predictions = predictions"
   ]
  },
  {
   "cell_type": "markdown",
   "metadata": {},
   "source": [
    "### Prune points using NN, add good prediction results back"
   ]
  },
  {
   "cell_type": "code",
   "execution_count": 10,
   "metadata": {},
   "outputs": [
    {
     "name": "stdout",
     "output_type": "stream",
     "text": [
      "##################################################################\n",
      "Iteration = 0\n",
      "F-1 score from SVM: 0.3824673029338989\n",
      "F-1 score from SVM: 0.4401429422275164\n"
     ]
    },
    {
     "name": "stderr",
     "output_type": "stream",
     "text": [
      "/Users/yizhouyan/Desktop/AutoOD/AutoOD-Code-sigmode-revision/autood_cleaning.py:31: UserWarning: Implicit dimension choice for log_softmax has been deprecated. Change the call to include dim=X as an argument.\n",
      "  return F.log_softmax(x)\n"
     ]
    },
    {
     "name": "stdout",
     "output_type": "stream",
     "text": [
      "Final Training Result: Loss 0.54324782\tPrec @ 1 73.663%\n",
      "Number of inliers to change:  201\n",
      "Number of outliers to change:  320\n",
      "Final Training Result: Loss 0.51580435\tPrec @ 1 74.566%\n",
      "F-1 score from NN: 0.2995921394141639\n",
      "Number of outliers by NN: 1018\n",
      "Number of points to remove:  521\n",
      "Number of new points with confidence > 0.99 2\n",
      "F-1 before:  0.0\n",
      "F-1 after:  0.6666666666666666\n",
      "Number of points with confidence < 0.01 0\n",
      "##################################################################\n",
      "Iteration = 1\n",
      "F-1 score from SVM: 0.3970088375254929\n",
      "F-1 score from SVM: 0.45741512805241213\n"
     ]
    },
    {
     "name": "stderr",
     "output_type": "stream",
     "text": [
      "/Users/yizhouyan/Desktop/AutoOD/AutoOD-Code-sigmode-revision/autood_cleaning.py:31: UserWarning: Implicit dimension choice for log_softmax has been deprecated. Change the call to include dim=X as an argument.\n",
      "  return F.log_softmax(x)\n"
     ]
    },
    {
     "name": "stdout",
     "output_type": "stream",
     "text": [
      "Final Training Result: Loss 0.33083564\tPrec @ 1 83.243%\n",
      "Number of inliers to change:  317\n",
      "Number of outliers to change:  241\n",
      "Final Training Result: Loss 0.30194762\tPrec @ 1 84.084%\n",
      "F-1 score from NN: 0.3452145214521452\n",
      "Number of outliers by NN: 1351\n",
      "Number of points to remove:  558\n",
      "Number of new points with confidence > 0.99 32\n",
      "F-1 before:  0.0\n",
      "F-1 after:  0.2702702702702703\n",
      "Number of points with confidence < 0.01 5\n",
      "##################################################################\n",
      "Iteration = 2\n",
      "F-1 score from SVM: 0.40468651044965176\n",
      "F-1 score from SVM: 0.4395473496128648\n"
     ]
    },
    {
     "name": "stderr",
     "output_type": "stream",
     "text": [
      "/Users/yizhouyan/Desktop/AutoOD/AutoOD-Code-sigmode-revision/autood_cleaning.py:31: UserWarning: Implicit dimension choice for log_softmax has been deprecated. Change the call to include dim=X as an argument.\n",
      "  return F.log_softmax(x)\n"
     ]
    },
    {
     "name": "stdout",
     "output_type": "stream",
     "text": [
      "Final Training Result: Loss 0.13068749\tPrec @ 1 95.706%\n",
      "Number of inliers to change:  237\n",
      "Number of outliers to change:  170\n",
      "Final Training Result: Loss 0.06789548\tPrec @ 1 97.474%\n",
      "F-1 score from NN: 0.41143971400714985\n",
      "Number of outliers by NN: 1398\n",
      "Number of points to remove:  407\n",
      "Number of new points with confidence > 0.99 140\n",
      "F-1 before:  0.02777777777777778\n",
      "F-1 after:  0.6729857819905213\n",
      "Number of points with confidence < 0.01 338\n",
      "##################################################################\n",
      "Iteration = 3\n",
      "F-1 score from SVM: 0.38053375196232336\n",
      "F-1 score from SVM: 0.41453245979749853\n"
     ]
    },
    {
     "name": "stderr",
     "output_type": "stream",
     "text": [
      "/Users/yizhouyan/Desktop/AutoOD/AutoOD-Code-sigmode-revision/autood_cleaning.py:31: UserWarning: Implicit dimension choice for log_softmax has been deprecated. Change the call to include dim=X as an argument.\n",
      "  return F.log_softmax(x)\n"
     ]
    },
    {
     "name": "stdout",
     "output_type": "stream",
     "text": [
      "Final Training Result: Loss 0.04033731\tPrec @ 1 99.599%\n",
      "Number of inliers to change:  241\n",
      "Number of outliers to change:  85\n",
      "Final Training Result: Loss 0.01342591\tPrec @ 1 100.000%\n",
      "F-1 score from NN: 0.3751957406827435\n",
      "Number of outliers by NN: 1514\n",
      "Number of points to remove:  326\n",
      "Number of new points with confidence > 0.99 139\n",
      "F-1 before:  0.42857142857142855\n",
      "F-1 after:  0.12162162162162161\n",
      "Number of points with confidence < 0.01 31\n",
      "##################################################################\n",
      "Iteration = 4\n",
      "F-1 score from SVM: 0.3758556316116988\n",
      "F-1 score from SVM: 0.4044073853484217\n"
     ]
    },
    {
     "name": "stderr",
     "output_type": "stream",
     "text": [
      "/Users/yizhouyan/Desktop/AutoOD/AutoOD-Code-sigmode-revision/autood_cleaning.py:31: UserWarning: Implicit dimension choice for log_softmax has been deprecated. Change the call to include dim=X as an argument.\n",
      "  return F.log_softmax(x)\n"
     ]
    },
    {
     "name": "stdout",
     "output_type": "stream",
     "text": [
      "Final Training Result: Loss 0.03796242\tPrec @ 1 99.968%\n",
      "Number of inliers to change:  194\n",
      "Number of outliers to change:  101\n",
      "Final Training Result: Loss 0.00681664\tPrec @ 1 100.000%\n",
      "F-1 score from NN: 0.3617489776659327\n",
      "Number of outliers by NN: 1500\n",
      "Number of points to remove:  295\n",
      "Number of new points with confidence > 0.99 48\n",
      "F-1 before:  0.7000000000000001\n",
      "F-1 after:  0.684931506849315\n",
      "Number of points with confidence < 0.01 21\n",
      "##################################################################\n",
      "Iteration = 5\n",
      "F-1 score from SVM: 0.3694306930693069\n",
      "F-1 score from SVM: 0.3966646813579512\n"
     ]
    },
    {
     "name": "stderr",
     "output_type": "stream",
     "text": [
      "/Users/yizhouyan/Desktop/AutoOD/AutoOD-Code-sigmode-revision/autood_cleaning.py:31: UserWarning: Implicit dimension choice for log_softmax has been deprecated. Change the call to include dim=X as an argument.\n",
      "  return F.log_softmax(x)\n"
     ]
    },
    {
     "name": "stdout",
     "output_type": "stream",
     "text": [
      "Final Training Result: Loss 0.02749219\tPrec @ 1 99.930%\n",
      "Number of inliers to change:  219\n",
      "Number of outliers to change:  39\n",
      "Final Training Result: Loss 0.00581748\tPrec @ 1 100.000%\n",
      "F-1 score from NN: 0.354551241247613\n",
      "Number of outliers by NN: 1463\n",
      "Number of points to remove:  258\n",
      "Number of new points with confidence > 0.99 34\n",
      "F-1 before:  0.4615384615384615\n",
      "F-1 after:  0.6399999999999999\n",
      "Number of points with confidence < 0.01 61\n",
      "##################################################################\n",
      "Iteration = 6\n",
      "F-1 score from SVM: 0.3567433188315724\n",
      "F-1 score from SVM: 0.39011316259678386\n"
     ]
    },
    {
     "name": "stderr",
     "output_type": "stream",
     "text": [
      "/Users/yizhouyan/Desktop/AutoOD/AutoOD-Code-sigmode-revision/autood_cleaning.py:31: UserWarning: Implicit dimension choice for log_softmax has been deprecated. Change the call to include dim=X as an argument.\n",
      "  return F.log_softmax(x)\n"
     ]
    },
    {
     "name": "stdout",
     "output_type": "stream",
     "text": [
      "Final Training Result: Loss 0.01948695\tPrec @ 1 99.963%\n",
      "Number of inliers to change:  39\n",
      "Number of outliers to change:  64\n"
     ]
    },
    {
     "ename": "KeyboardInterrupt",
     "evalue": "",
     "output_type": "error",
     "traceback": [
      "\u001b[0;31m---------------------------------------------------------------------------\u001b[0m",
      "\u001b[0;31mKeyboardInterrupt\u001b[0m                         Traceback (most recent call last)",
      "\u001b[0;32m<ipython-input-10-6fa10e87a235>\u001b[0m in \u001b[0;36m<module>\u001b[0;34m\u001b[0m\n\u001b[1;32m     67\u001b[0m     \u001b[0mpoints_to_remove\u001b[0m \u001b[0;34m=\u001b[0m \u001b[0mnp\u001b[0m\u001b[0;34m.\u001b[0m\u001b[0mappend\u001b[0m\u001b[0;34m(\u001b[0m\u001b[0mpoints_to_remove\u001b[0m\u001b[0;34m,\u001b[0m \u001b[0mtemp_remain_points\u001b[0m\u001b[0;34m[\u001b[0m\u001b[0moutlier_labels\u001b[0m\u001b[0;34m]\u001b[0m\u001b[0;34m[\u001b[0m\u001b[0;34m(\u001b[0m\u001b[0mloss_list\u001b[0m\u001b[0;34m[\u001b[0m\u001b[0moutlier_labels\u001b[0m\u001b[0;34m]\u001b[0m \u001b[0;34m>\u001b[0m \u001b[0mloss_threshold\u001b[0m\u001b[0;34m)\u001b[0m\u001b[0;34m]\u001b[0m\u001b[0;34m)\u001b[0m\u001b[0;34m\u001b[0m\u001b[0;34m\u001b[0m\u001b[0m\n\u001b[1;32m     68\u001b[0m \u001b[0;34m\u001b[0m\u001b[0m\n\u001b[0;32m---> 69\u001b[0;31m     \u001b[0mloss_list\u001b[0m\u001b[0;34m,\u001b[0m \u001b[0mmodel\u001b[0m\u001b[0;34m,\u001b[0m \u001b[0mavg_train_loss\u001b[0m \u001b[0;34m=\u001b[0m \u001b[0mrun_NN\u001b[0m\u001b[0;34m(\u001b[0m\u001b[0mX_transformed\u001b[0m\u001b[0;34m[\u001b[0m\u001b[0mtemp_remain_points\u001b[0m\u001b[0;34m]\u001b[0m\u001b[0;34m,\u001b[0m\u001b[0mlabel_of_point\u001b[0m\u001b[0;34m[\u001b[0m\u001b[0mtemp_remain_points\u001b[0m\u001b[0;34m]\u001b[0m\u001b[0;34m,\u001b[0m\u001b[0;36m10\u001b[0m\u001b[0;34m,\u001b[0m \u001b[0mdim\u001b[0m \u001b[0;34m=\u001b[0m \u001b[0mdim\u001b[0m\u001b[0;34m)\u001b[0m\u001b[0;34m\u001b[0m\u001b[0;34m\u001b[0m\u001b[0m\n\u001b[0m\u001b[1;32m     70\u001b[0m     \u001b[0mconverge_loss_list\u001b[0m\u001b[0;34m.\u001b[0m\u001b[0mappend\u001b[0m\u001b[0;34m(\u001b[0m\u001b[0mavg_train_loss\u001b[0m\u001b[0;34m)\u001b[0m\u001b[0;34m\u001b[0m\u001b[0;34m\u001b[0m\u001b[0m\n\u001b[1;32m     71\u001b[0m     \u001b[0mpredict_proba\u001b[0m \u001b[0;34m=\u001b[0m \u001b[0minference_NN\u001b[0m\u001b[0;34m(\u001b[0m\u001b[0mmodel\u001b[0m\u001b[0;34m,\u001b[0m \u001b[0mX_transformed\u001b[0m\u001b[0;34m,\u001b[0m \u001b[0my\u001b[0m\u001b[0;34m)\u001b[0m\u001b[0;34m[\u001b[0m\u001b[0;34m:\u001b[0m\u001b[0;34m,\u001b[0m\u001b[0;36m1\u001b[0m\u001b[0;34m]\u001b[0m\u001b[0;34m\u001b[0m\u001b[0;34m\u001b[0m\u001b[0m\n",
      "\u001b[0;32m~/Desktop/AutoOD/AutoOD-Code-sigmode-revision/autood_cleaning.py\u001b[0m in \u001b[0;36mrun_NN\u001b[0;34m(X, y, epochs, dim)\u001b[0m\n\u001b[1;32m     95\u001b[0m     \u001b[0;32mfor\u001b[0m \u001b[0mepoch\u001b[0m \u001b[0;32min\u001b[0m \u001b[0mrange\u001b[0m\u001b[0;34m(\u001b[0m\u001b[0mepochs\u001b[0m\u001b[0;34m)\u001b[0m\u001b[0;34m:\u001b[0m\u001b[0;34m\u001b[0m\u001b[0;34m\u001b[0m\u001b[0m\n\u001b[1;32m     96\u001b[0m         \u001b[0mnet\u001b[0m\u001b[0;34m.\u001b[0m\u001b[0mtrain\u001b[0m\u001b[0;34m(\u001b[0m\u001b[0;34m)\u001b[0m\u001b[0;34m\u001b[0m\u001b[0;34m\u001b[0m\u001b[0m\n\u001b[0;32m---> 97\u001b[0;31m         \u001b[0;32mfor\u001b[0m \u001b[0mbatch_idx\u001b[0m\u001b[0;34m,\u001b[0m \u001b[0;34m(\u001b[0m\u001b[0minput_data\u001b[0m\u001b[0;34m,\u001b[0m \u001b[0mtarget\u001b[0m\u001b[0;34m)\u001b[0m \u001b[0;32min\u001b[0m \u001b[0menumerate\u001b[0m\u001b[0;34m(\u001b[0m\u001b[0mtrain_dataloader\u001b[0m\u001b[0;34m)\u001b[0m\u001b[0;34m:\u001b[0m\u001b[0;34m\u001b[0m\u001b[0;34m\u001b[0m\u001b[0m\n\u001b[0m\u001b[1;32m     98\u001b[0m             \u001b[0minput_data\u001b[0m\u001b[0;34m,\u001b[0m \u001b[0mtarget\u001b[0m \u001b[0;34m=\u001b[0m \u001b[0mVariable\u001b[0m\u001b[0;34m(\u001b[0m\u001b[0minput_data\u001b[0m\u001b[0;34m)\u001b[0m\u001b[0;34m,\u001b[0m \u001b[0mVariable\u001b[0m\u001b[0;34m(\u001b[0m\u001b[0mtarget\u001b[0m\u001b[0;34m)\u001b[0m\u001b[0;34m\u001b[0m\u001b[0;34m\u001b[0m\u001b[0m\n\u001b[1;32m     99\u001b[0m             \u001b[0mnet_out\u001b[0m \u001b[0;34m=\u001b[0m \u001b[0mnet\u001b[0m\u001b[0;34m(\u001b[0m\u001b[0minput_data\u001b[0m\u001b[0;34m.\u001b[0m\u001b[0mfloat\u001b[0m\u001b[0;34m(\u001b[0m\u001b[0;34m)\u001b[0m\u001b[0;34m)\u001b[0m\u001b[0;34m\u001b[0m\u001b[0;34m\u001b[0m\u001b[0m\n",
      "\u001b[0;32m/usr/local/lib/python3.7/site-packages/torch/utils/data/dataloader.py\u001b[0m in \u001b[0;36m__next__\u001b[0;34m(self)\u001b[0m\n\u001b[1;32m    558\u001b[0m         \u001b[0;32mif\u001b[0m \u001b[0mself\u001b[0m\u001b[0;34m.\u001b[0m\u001b[0mnum_workers\u001b[0m \u001b[0;34m==\u001b[0m \u001b[0;36m0\u001b[0m\u001b[0;34m:\u001b[0m  \u001b[0;31m# same-process loading\u001b[0m\u001b[0;34m\u001b[0m\u001b[0;34m\u001b[0m\u001b[0m\n\u001b[1;32m    559\u001b[0m             \u001b[0mindices\u001b[0m \u001b[0;34m=\u001b[0m \u001b[0mnext\u001b[0m\u001b[0;34m(\u001b[0m\u001b[0mself\u001b[0m\u001b[0;34m.\u001b[0m\u001b[0msample_iter\u001b[0m\u001b[0;34m)\u001b[0m  \u001b[0;31m# may raise StopIteration\u001b[0m\u001b[0;34m\u001b[0m\u001b[0;34m\u001b[0m\u001b[0m\n\u001b[0;32m--> 560\u001b[0;31m             \u001b[0mbatch\u001b[0m \u001b[0;34m=\u001b[0m \u001b[0mself\u001b[0m\u001b[0;34m.\u001b[0m\u001b[0mcollate_fn\u001b[0m\u001b[0;34m(\u001b[0m\u001b[0;34m[\u001b[0m\u001b[0mself\u001b[0m\u001b[0;34m.\u001b[0m\u001b[0mdataset\u001b[0m\u001b[0;34m[\u001b[0m\u001b[0mi\u001b[0m\u001b[0;34m]\u001b[0m \u001b[0;32mfor\u001b[0m \u001b[0mi\u001b[0m \u001b[0;32min\u001b[0m \u001b[0mindices\u001b[0m\u001b[0;34m]\u001b[0m\u001b[0;34m)\u001b[0m\u001b[0;34m\u001b[0m\u001b[0;34m\u001b[0m\u001b[0m\n\u001b[0m\u001b[1;32m    561\u001b[0m             \u001b[0;32mif\u001b[0m \u001b[0mself\u001b[0m\u001b[0;34m.\u001b[0m\u001b[0mpin_memory\u001b[0m\u001b[0;34m:\u001b[0m\u001b[0;34m\u001b[0m\u001b[0;34m\u001b[0m\u001b[0m\n\u001b[1;32m    562\u001b[0m                 \u001b[0mbatch\u001b[0m \u001b[0;34m=\u001b[0m \u001b[0m_utils\u001b[0m\u001b[0;34m.\u001b[0m\u001b[0mpin_memory\u001b[0m\u001b[0;34m.\u001b[0m\u001b[0mpin_memory_batch\u001b[0m\u001b[0;34m(\u001b[0m\u001b[0mbatch\u001b[0m\u001b[0;34m)\u001b[0m\u001b[0;34m\u001b[0m\u001b[0;34m\u001b[0m\u001b[0m\n",
      "\u001b[0;32m/usr/local/lib/python3.7/site-packages/torch/utils/data/dataloader.py\u001b[0m in \u001b[0;36m<listcomp>\u001b[0;34m(.0)\u001b[0m\n\u001b[1;32m    558\u001b[0m         \u001b[0;32mif\u001b[0m \u001b[0mself\u001b[0m\u001b[0;34m.\u001b[0m\u001b[0mnum_workers\u001b[0m \u001b[0;34m==\u001b[0m \u001b[0;36m0\u001b[0m\u001b[0;34m:\u001b[0m  \u001b[0;31m# same-process loading\u001b[0m\u001b[0;34m\u001b[0m\u001b[0;34m\u001b[0m\u001b[0m\n\u001b[1;32m    559\u001b[0m             \u001b[0mindices\u001b[0m \u001b[0;34m=\u001b[0m \u001b[0mnext\u001b[0m\u001b[0;34m(\u001b[0m\u001b[0mself\u001b[0m\u001b[0;34m.\u001b[0m\u001b[0msample_iter\u001b[0m\u001b[0;34m)\u001b[0m  \u001b[0;31m# may raise StopIteration\u001b[0m\u001b[0;34m\u001b[0m\u001b[0;34m\u001b[0m\u001b[0m\n\u001b[0;32m--> 560\u001b[0;31m             \u001b[0mbatch\u001b[0m \u001b[0;34m=\u001b[0m \u001b[0mself\u001b[0m\u001b[0;34m.\u001b[0m\u001b[0mcollate_fn\u001b[0m\u001b[0;34m(\u001b[0m\u001b[0;34m[\u001b[0m\u001b[0mself\u001b[0m\u001b[0;34m.\u001b[0m\u001b[0mdataset\u001b[0m\u001b[0;34m[\u001b[0m\u001b[0mi\u001b[0m\u001b[0;34m]\u001b[0m \u001b[0;32mfor\u001b[0m \u001b[0mi\u001b[0m \u001b[0;32min\u001b[0m \u001b[0mindices\u001b[0m\u001b[0;34m]\u001b[0m\u001b[0;34m)\u001b[0m\u001b[0;34m\u001b[0m\u001b[0;34m\u001b[0m\u001b[0m\n\u001b[0m\u001b[1;32m    561\u001b[0m             \u001b[0;32mif\u001b[0m \u001b[0mself\u001b[0m\u001b[0;34m.\u001b[0m\u001b[0mpin_memory\u001b[0m\u001b[0;34m:\u001b[0m\u001b[0;34m\u001b[0m\u001b[0;34m\u001b[0m\u001b[0m\n\u001b[1;32m    562\u001b[0m                 \u001b[0mbatch\u001b[0m \u001b[0;34m=\u001b[0m \u001b[0m_utils\u001b[0m\u001b[0;34m.\u001b[0m\u001b[0mpin_memory\u001b[0m\u001b[0;34m.\u001b[0m\u001b[0mpin_memory_batch\u001b[0m\u001b[0;34m(\u001b[0m\u001b[0mbatch\u001b[0m\u001b[0;34m)\u001b[0m\u001b[0;34m\u001b[0m\u001b[0;34m\u001b[0m\u001b[0m\n",
      "\u001b[0;32m/usr/local/lib/python3.7/site-packages/torch/utils/data/dataset.py\u001b[0m in \u001b[0;36m__getitem__\u001b[0;34m(self, index)\u001b[0m\n\u001b[1;32m     38\u001b[0m \u001b[0;34m\u001b[0m\u001b[0m\n\u001b[1;32m     39\u001b[0m     \u001b[0;32mdef\u001b[0m \u001b[0m__getitem__\u001b[0m\u001b[0;34m(\u001b[0m\u001b[0mself\u001b[0m\u001b[0;34m,\u001b[0m \u001b[0mindex\u001b[0m\u001b[0;34m)\u001b[0m\u001b[0;34m:\u001b[0m\u001b[0;34m\u001b[0m\u001b[0;34m\u001b[0m\u001b[0m\n\u001b[0;32m---> 40\u001b[0;31m         \u001b[0;32mreturn\u001b[0m \u001b[0mtuple\u001b[0m\u001b[0;34m(\u001b[0m\u001b[0mtensor\u001b[0m\u001b[0;34m[\u001b[0m\u001b[0mindex\u001b[0m\u001b[0;34m]\u001b[0m \u001b[0;32mfor\u001b[0m \u001b[0mtensor\u001b[0m \u001b[0;32min\u001b[0m \u001b[0mself\u001b[0m\u001b[0;34m.\u001b[0m\u001b[0mtensors\u001b[0m\u001b[0;34m)\u001b[0m\u001b[0;34m\u001b[0m\u001b[0;34m\u001b[0m\u001b[0m\n\u001b[0m\u001b[1;32m     41\u001b[0m \u001b[0;34m\u001b[0m\u001b[0m\n\u001b[1;32m     42\u001b[0m     \u001b[0;32mdef\u001b[0m \u001b[0m__len__\u001b[0m\u001b[0;34m(\u001b[0m\u001b[0mself\u001b[0m\u001b[0;34m)\u001b[0m\u001b[0;34m:\u001b[0m\u001b[0;34m\u001b[0m\u001b[0;34m\u001b[0m\u001b[0m\n",
      "\u001b[0;31mKeyboardInterrupt\u001b[0m: "
     ]
    }
   ],
   "source": [
    "# Working solution: Prune points using NN, add good prediction results back\n",
    "from sklearn.preprocessing import RobustScaler\n",
    "from sklearn.svm import SVC\n",
    "\n",
    "last_training_data_indexes = []\n",
    "counter = 0\n",
    "\n",
    "ratio_to_remove = 0.05\n",
    "dim = np.shape(X)[1]\n",
    "remain_points = np.array(range(len(y)))\n",
    "\n",
    "mid = np.shape(L)[1]/2\n",
    "label_of_point = np.full((len(y)), 0)\n",
    "label_of_point[np.sum(L, axis = 1) > mid] = 1\n",
    "\n",
    "\n",
    "transformer = RobustScaler().fit(X)\n",
    "X_transformed = transformer.transform(X)\n",
    "\n",
    "prev_loss = 10000\n",
    "early_loss_list = []\n",
    "converge_loss_list = []\n",
    "f1_score_list = []\n",
    "\n",
    "for i_range in range(0, 20):\n",
    "    print(\"##################################################################\")\n",
    "    print('Iteration = {}'.format(i_range))\n",
    "#     print('F1 for training data:', metrics.f1_score(y[remain_points], label_of_point[remain_points]))\n",
    "#     print('accuracy for training data:', metrics.accuracy_score(y[remain_points], label_of_point[remain_points]))\n",
    "\n",
    "    if((i_range  + 1) % 1 == 0):\n",
    "        clf_X = SVC(gamma='auto', probability=True, random_state=0)\n",
    "        clf_X.fit(X_transformed[remain_points], label_of_point[remain_points])\n",
    "        clf_predict_proba_X = clf_X.predict_proba(X_transformed)[:,1]\n",
    "\n",
    "        SVM_threshold = 0.5\n",
    "        print(\"F-1 score from SVM:\",metrics.f1_score(y, np.array([int(i) for i in clf_predict_proba_X > SVM_threshold])))\n",
    "        SVM_threshold = np.sort(clf_predict_proba_X)[::-1][int(np.sum(y))]\n",
    "        print(\"F-1 score from SVM:\",metrics.f1_score(y, np.array([int(i) for i in clf_predict_proba_X > SVM_threshold])))\n",
    "        f1_score_list.append(metrics.f1_score(y, np.array([int(i) for i in clf_predict_proba_X > SVM_threshold])))\n",
    "\n",
    "    counter = 0\n",
    "#     while(counter < 5):\n",
    "    temp_remain_points = remain_points.copy()\n",
    "    # start pruning points\n",
    "    counter = counter + 1\n",
    "    loss_list, model, avg_train_loss = run_NN(X_transformed[temp_remain_points],label_of_point[temp_remain_points], 5, dim = dim)\n",
    "    \n",
    "    # Do not separate inlier and outlier\n",
    "#     loss_threshold = np.sort(loss_list)[::-1][int(ratio_to_remove * len(loss_list))]\n",
    "#     print(min(loss_list), max(loss_list), loss_threshold, np.mean(loss_list)+ np.std(loss_list))\n",
    "#     loss_threshold = np.mean(loss_list)+ np.std(loss_list)\n",
    "#     print('Number of points to change: ', sum((loss_list > loss_threshold)))\n",
    "#     points_to_remove = temp_remain_points[(loss_list > loss_threshold)]\n",
    "    \n",
    "    # separate inline and outlier\n",
    "    inlier_labels = np.where(label_of_point[temp_remain_points] == 0)[0]\n",
    "    loss_threshold = np.sort(loss_list[inlier_labels])[::-1][int(ratio_to_remove * len(loss_list[inlier_labels]))]\n",
    "    loss_threshold = np.mean(loss_list[inlier_labels])+ np.std(loss_list[inlier_labels])\n",
    "    print('Number of inliers to change: ', sum(loss_list[inlier_labels] > loss_threshold))\n",
    "    points_to_remove = temp_remain_points[inlier_labels][(loss_list[inlier_labels] > loss_threshold)]\n",
    "\n",
    "    outlier_labels = np.where(label_of_point[temp_remain_points] == 1)[0]\n",
    "    loss_threshold = np.sort(loss_list[outlier_labels])[::-1][int(ratio_to_remove * len(loss_list[outlier_labels]))]\n",
    "    loss_threshold = np.mean(loss_list[outlier_labels])+ np.std(loss_list[outlier_labels])\n",
    "    print('Number of outliers to change: ', sum(loss_list[outlier_labels] > loss_threshold))\n",
    "    points_to_remove = np.append(points_to_remove, temp_remain_points[outlier_labels][(loss_list[outlier_labels] > loss_threshold)])\n",
    "\n",
    "    loss_list, model, avg_train_loss = run_NN(X_transformed[temp_remain_points],label_of_point[temp_remain_points],10, dim = dim)\n",
    "    converge_loss_list.append(avg_train_loss)\n",
    "    predict_proba = inference_NN(model, X_transformed, y)[:,1]\n",
    "    print(\"F-1 score from NN:\",metrics.f1_score(y, np.array([int(i) for i in predict_proba > 0.5])))\n",
    "    print('Number of outliers by NN:', sum(np.array([int(i) for i in predict_proba > 0.5])))\n",
    "\n",
    "    print('Number of points to remove: ', len(points_to_remove))\n",
    "    temp_remain_points = np.setdiff1d(np.array(temp_remain_points), points_to_remove)\n",
    "\n",
    "    predict_outlier_indexes = np.where(predict_proba > 0.99)[0]\n",
    "    new_outlier_indexes = np.setdiff1d(predict_outlier_indexes, temp_remain_points)\n",
    "#     new_outlier_indexes = new_outlier_indexes[label_of_point[new_outlier_indexes]==0]\n",
    "    print('Number of new points with confidence > 0.99', len(new_outlier_indexes))\n",
    "    if(len(new_outlier_indexes) > 0):\n",
    "        print('F-1 before: ', metrics.f1_score(y[new_outlier_indexes], label_of_point[new_outlier_indexes]))\n",
    "        label_of_point[new_outlier_indexes] = 1\n",
    "        print('F-1 after: ', metrics.f1_score(y[new_outlier_indexes], label_of_point[new_outlier_indexes]))\n",
    "        temp_remain_points = np.union1d(temp_remain_points, predict_outlier_indexes)\n",
    "\n",
    "    predict_inlier_indexes = np.where(predict_proba < 0.01)[0]\n",
    "    new_inlier_indexes = np.setdiff1d(predict_inlier_indexes, temp_remain_points)\n",
    "#     new_inlier_indexes = new_inlier_indexes[label_of_point[new_inlier_indexes]==1]\n",
    "    print('Number of points with confidence < 0.01', len(new_inlier_indexes))\n",
    "    \n",
    "    if(len(new_inlier_indexes) > 0):\n",
    "        label_of_point[new_inlier_indexes] = 0\n",
    "        temp_remain_points = np.union1d(temp_remain_points, predict_inlier_indexes)\n",
    "#         if(len(new_outlier_indexes) <= len(points_to_remove)):\n",
    "    \n",
    "#     if(len(new_outlier_indexes) + len(new_inlier_indexes) > len(points_to_remove)):# or len(remain_points) < np.shape(L)[0]/3):  # \n",
    "#         from sklearn.svm import SVC\n",
    "#         clf_X = SVC(gamma='auto', probability=True, random_state=0)\n",
    "#         clf_X.fit(X_transformed[remain_points], label_of_point[remain_points])\n",
    "#         clf_predict_proba_X = clf_X.predict_proba(X_transformed)[:,1]\n",
    "\n",
    "#         SVM_threshold = 0.5\n",
    "#         print(\"F-1 score from SVM:\",metrics.f1_score(y, np.array([int(i) for i in clf_predict_proba_X > SVM_threshold])))\n",
    "#         SVM_threshold = np.sort(clf_predict_proba_X)[::-1][int(np.sum(y))]\n",
    "#         print(\"F-1 score from SVM:\",metrics.f1_score(y, np.array([int(i) for i in clf_predict_proba_X > SVM_threshold])))\n",
    "#         f1_score_list.append(metrics.f1_score(y, np.array([int(i) for i in clf_predict_proba_X > SVM_threshold])))\n",
    "#         break\n",
    "#     else:\n",
    "    remain_points = temp_remain_points\n",
    "    \n"
   ]
  },
  {
   "cell_type": "code",
   "execution_count": null,
   "metadata": {},
   "outputs": [],
   "source": []
  }
 ],
 "metadata": {
  "kernelspec": {
   "display_name": "Python 3",
   "language": "python",
   "name": "python3"
  },
  "language_info": {
   "codemirror_mode": {
    "name": "ipython",
    "version": 3
   },
   "file_extension": ".py",
   "mimetype": "text/x-python",
   "name": "python",
   "nbconvert_exporter": "python",
   "pygments_lexer": "ipython3",
   "version": "3.7.5"
  }
 },
 "nbformat": 4,
 "nbformat_minor": 2
}
